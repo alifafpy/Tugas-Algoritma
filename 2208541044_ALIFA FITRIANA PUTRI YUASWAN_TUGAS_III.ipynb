{
 "cells": [
  {
   "cell_type": "markdown",
   "id": "7b64f2af",
   "metadata": {},
   "source": [
    "# 5.5 String Index"
   ]
  },
  {
   "cell_type": "code",
   "execution_count": 1,
   "id": "c18da367",
   "metadata": {},
   "outputs": [],
   "source": [
    "##Deklarasi variabel yang bertipe data string\n",
    "##Index dimulai dari index ke 0, dan urutan index terakhir dikatakan atau didefinisikan sebagai -1\n",
    "\n",
    "kelas_44 = 'Ini kelas algoritma'"
   ]
  },
  {
   "cell_type": "code",
   "execution_count": 2,
   "id": "675ed2bf",
   "metadata": {},
   "outputs": [
    {
     "name": "stdout",
     "output_type": "stream",
     "text": [
      " kelas algori\n"
     ]
    }
   ],
   "source": [
    "##String Index dengan 2 angka\n",
    "\n",
    "print(kelas_44[3:-3])\n",
    "\n",
    "##Angka pertama pada print berarti index pertama yang akan dimunculkan\n",
    "##Angka kedua pada print berarti batas index yang akan dimunculkan (tidak termasuk index itu sendiri)\n",
    "##Contoh, apabila batasnya sampai -3 maka index yang akan dimunculkan hanya sampai di index -4"
   ]
  },
  {
   "cell_type": "code",
   "execution_count": 3,
   "id": "aa08fc9b",
   "metadata": {},
   "outputs": [
    {
     "name": "stdout",
     "output_type": "stream",
     "text": [
      " l gi\n"
     ]
    }
   ],
   "source": [
    "##String Index dengan 3 angka\n",
    "\n",
    "print(kelas_44[3:-2:3])\n",
    "\n",
    "##Angka ketiga pada print berarti loncatan index yang akan dimunculkan"
   ]
  },
  {
   "cell_type": "code",
   "execution_count": 4,
   "id": "9dbe9a44",
   "metadata": {},
   "outputs": [],
   "source": [
    "##Percobaan String Index menggunakan variabel yang baru\n",
    "\n",
    "nama_44 = 'Alifa Fitriana Putri Yuaswan'"
   ]
  },
  {
   "cell_type": "code",
   "execution_count": 5,
   "id": "49bf17cf",
   "metadata": {},
   "outputs": [
    {
     "name": "stdout",
     "output_type": "stream",
     "text": [
      "Alifa \n"
     ]
    }
   ],
   "source": [
    "##String Index dengan 2 angka\n",
    "\n",
    "print(nama_44[0:6])\n",
    "\n",
    "##[0:6] artinya memunculkan index ke 0 sampai index ke 5 saja (tidak termasuk index ke 6)"
   ]
  },
  {
   "cell_type": "code",
   "execution_count": 6,
   "id": "9ec8b67b",
   "metadata": {},
   "outputs": [
    {
     "name": "stdout",
     "output_type": "stream",
     "text": [
      "Alifa Fitriana Putri Yuaswan\n"
     ]
    }
   ],
   "source": [
    "##String Index tanpa memanggil index ke berapa yang akan dimunculkan\n",
    "\n",
    "print(nama_44[:])\n",
    "\n",
    "##Karena tidak ada yang dipanggil, maka yang tampil adalah semua data index di variabel nama"
   ]
  },
  {
   "cell_type": "code",
   "execution_count": 7,
   "id": "5e580d00",
   "metadata": {},
   "outputs": [
    {
     "name": "stdout",
     "output_type": "stream",
     "text": [
      "f i\n"
     ]
    }
   ],
   "source": [
    "##Percobaan memunculkan index ke 3 dengan batas index ke 9 yang memiliki loncatan sebanyak 2 index\n",
    "\n",
    "print(nama_44[3:9:2])"
   ]
  },
  {
   "cell_type": "code",
   "execution_count": 8,
   "id": "f7868d90",
   "metadata": {},
   "outputs": [
    {
     "name": "stdout",
     "output_type": "stream",
     "text": [
      "Alif\n"
     ]
    },
    {
     "data": {
      "text/plain": [
       "NoneType"
      ]
     },
     "execution_count": 8,
     "metadata": {},
     "output_type": "execute_result"
    }
   ],
   "source": [
    "##Mengecek jenis tipe data pada String Index sekaligus menggunakan perintah print\n",
    "\n",
    "type(print(nama_44[0:4]))\n",
    "\n",
    "##Muncul NoneType karena tidak ada tipe data yang terdeteksi dikarenakan adanya perintan print"
   ]
  },
  {
   "cell_type": "code",
   "execution_count": 9,
   "id": "379b80d5",
   "metadata": {},
   "outputs": [
    {
     "data": {
      "text/plain": [
       "str"
      ]
     },
     "execution_count": 9,
     "metadata": {},
     "output_type": "execute_result"
    }
   ],
   "source": [
    "##Melihat atau mengecek tipe data pada String Index\n",
    "\n",
    "type(nama_44)\n",
    "\n",
    "##Variabel nama memiliki tipe data String"
   ]
  },
  {
   "cell_type": "code",
   "execution_count": 10,
   "id": "b7991cdd",
   "metadata": {},
   "outputs": [
    {
     "ename": "ValueError",
     "evalue": "invalid literal for int() with base 10: 'Alifa Fitriana Putri Yuaswan'",
     "output_type": "error",
     "traceback": [
      "\u001b[1;31m---------------------------------------------------------------------------\u001b[0m",
      "\u001b[1;31mValueError\u001b[0m                                Traceback (most recent call last)",
      "\u001b[1;32m~\\AppData\\Local\\Temp\\ipykernel_26524\\2784677697.py\u001b[0m in \u001b[0;36m<module>\u001b[1;34m\u001b[0m\n\u001b[0;32m      1\u001b[0m \u001b[1;31m##Percobaan untuk mengubah tipe data variabel nama menjadi bertipe data int\u001b[0m\u001b[1;33m\u001b[0m\u001b[1;33m\u001b[0m\u001b[0m\n\u001b[0;32m      2\u001b[0m \u001b[1;33m\u001b[0m\u001b[0m\n\u001b[1;32m----> 3\u001b[1;33m \u001b[0mtype\u001b[0m\u001b[1;33m(\u001b[0m\u001b[0mint\u001b[0m\u001b[1;33m(\u001b[0m\u001b[0mnama_44\u001b[0m\u001b[1;33m)\u001b[0m\u001b[1;33m)\u001b[0m\u001b[1;33m\u001b[0m\u001b[1;33m\u001b[0m\u001b[0m\n\u001b[0m\u001b[0;32m      4\u001b[0m \u001b[1;33m\u001b[0m\u001b[0m\n\u001b[0;32m      5\u001b[0m \u001b[1;31m##Error dikarenakan tipe data sebelumnya berupa string dan tidak dapat diubah ke int\u001b[0m\u001b[1;33m\u001b[0m\u001b[1;33m\u001b[0m\u001b[0m\n",
      "\u001b[1;31mValueError\u001b[0m: invalid literal for int() with base 10: 'Alifa Fitriana Putri Yuaswan'"
     ]
    }
   ],
   "source": [
    "##Percobaan untuk mengubah tipe data variabel nama menjadi bertipe data int\n",
    "\n",
    "type(int(nama_44))\n",
    "\n",
    "##Error dikarenakan tipe data sebelumnya berupa string dan tidak dapat diubah ke int"
   ]
  },
  {
   "cell_type": "code",
   "execution_count": 11,
   "id": "125a84ca",
   "metadata": {},
   "outputs": [
    {
     "name": "stdout",
     "output_type": "stream",
     "text": [
      "Alifa Fitriana Putri Yuaswan\n"
     ]
    }
   ],
   "source": [
    "##Percobaan untuk memunculkan data melebihi jumlah index yang ada\n",
    "\n",
    "print(nama_44[0:30])\n",
    "\n",
    "##Hasil yang dimunculkan dari print merupakan keseluruhan data index yang ada (melebihi jumlah index)\n",
    "##Sehingga yang ditampilkan adalah keseluruhan data"
   ]
  },
  {
   "cell_type": "code",
   "execution_count": 12,
   "id": "1c5f1111",
   "metadata": {},
   "outputs": [
    {
     "name": "stdout",
     "output_type": "stream",
     "text": [
      "iFi ru\n",
      "fa Fitriana Putri\n"
     ]
    }
   ],
   "source": [
    "##Menampilkan data menggunakan 2 print dalam baris yang berbeda\n",
    "\n",
    "print(nama_44[2:-3:4])\n",
    "print(nama_44[3:-8])"
   ]
  },
  {
   "cell_type": "code",
   "execution_count": 14,
   "id": "fb756a35",
   "metadata": {},
   "outputs": [
    {
     "name": "stdout",
     "output_type": "stream",
     "text": [
      "Alifa\n",
      "i ta t\n"
     ]
    },
    {
     "data": {
      "text/plain": [
       "(None, None)"
      ]
     },
     "execution_count": 14,
     "metadata": {},
     "output_type": "execute_result"
    }
   ],
   "source": [
    "##Menampilkan data menggunakan 2 print dalam 1 baris yang sama\n",
    "\n",
    "print(nama_44[0:5]), print(nama_44[2:19:3])\n",
    "\n",
    "##Output ditampilkan dalam baris yang berbeda meskipun perintah print dalam 1 baris yang sama\n",
    "##Muncul None pada output dikarenakan ada 2 print sekaligus dalam 1 baris sehingga terdeteksi sebagai vektor\n",
    "##Namun, karena tipe data berupa string, maka vektornya juga dalam bentuk string sehingga dia memunculkan none"
   ]
  },
  {
   "cell_type": "code",
   "execution_count": 15,
   "id": "2a4377bb",
   "metadata": {},
   "outputs": [
    {
     "name": "stdout",
     "output_type": "stream",
     "text": [
      "lifa Fitriana Putri Yuasw fFrnPr\n"
     ]
    }
   ],
   "source": [
    "##Menampilkan data menggunakan 1 print dalam 1 baris, dimana 1 print digunakan untuk memunculkan 2 data sekaligus\n",
    "\n",
    "print(nama_44[1:-2], nama_44[3:20:3])\n",
    "\n",
    "##Output ditampilkan dalam baris yang sama, tapi tidak ada pembeda/pemisah antara perinta print 1 dengan lainnya"
   ]
  },
  {
   "cell_type": "code",
   "execution_count": 16,
   "id": "0f0573dc",
   "metadata": {},
   "outputs": [
    {
     "name": "stdout",
     "output_type": "stream",
     "text": [
      "nkaaot a Fitriana Putri Yuasw\n"
     ]
    }
   ],
   "source": [
    "##Menampilkan data menggunakan 1 print untuk memanggil 2 variabel yang berbeda\n",
    "\n",
    "print(kelas_44[1:-2:3], nama_44[4:-2:1])"
   ]
  },
  {
   "cell_type": "code",
   "execution_count": 17,
   "id": "f6763400",
   "metadata": {},
   "outputs": [
    {
     "ename": "TypeError",
     "evalue": "'int' object is not subscriptable",
     "output_type": "error",
     "traceback": [
      "\u001b[1;31m---------------------------------------------------------------------------\u001b[0m",
      "\u001b[1;31mTypeError\u001b[0m                                 Traceback (most recent call last)",
      "\u001b[1;32m~\\AppData\\Local\\Temp\\ipykernel_26524\\248646976.py\u001b[0m in \u001b[0;36m<module>\u001b[1;34m\u001b[0m\n\u001b[0;32m      2\u001b[0m \u001b[1;33m\u001b[0m\u001b[0m\n\u001b[0;32m      3\u001b[0m \u001b[0mangka_44\u001b[0m \u001b[1;33m=\u001b[0m \u001b[1;36m123\u001b[0m\u001b[1;33m\u001b[0m\u001b[1;33m\u001b[0m\u001b[0m\n\u001b[1;32m----> 4\u001b[1;33m \u001b[0mprint\u001b[0m\u001b[1;33m(\u001b[0m\u001b[0mangka_44\u001b[0m\u001b[1;33m[\u001b[0m\u001b[1;36m0\u001b[0m\u001b[1;33m:\u001b[0m\u001b[1;33m-\u001b[0m\u001b[1;36m1\u001b[0m\u001b[1;33m]\u001b[0m\u001b[1;33m)\u001b[0m\u001b[1;33m\u001b[0m\u001b[1;33m\u001b[0m\u001b[0m\n\u001b[0m\u001b[0;32m      5\u001b[0m \u001b[1;33m\u001b[0m\u001b[0m\n\u001b[0;32m      6\u001b[0m \u001b[1;31m##Error karena bertipe data int yang tidak dapat digunakan untuk memunculkan index yang ingin ditampilkan\u001b[0m\u001b[1;33m\u001b[0m\u001b[1;33m\u001b[0m\u001b[0m\n",
      "\u001b[1;31mTypeError\u001b[0m: 'int' object is not subscriptable"
     ]
    }
   ],
   "source": [
    "##Mencoba membuat variabel String Index yang berisi angka dan bertipe data bukan string\n",
    "\n",
    "angka_44 = 123\n",
    "print(angka_44[0:-1])\n",
    "\n",
    "##Error karena bertipe data int yang tidak dapat digunakan untuk memunculkan index yang ingin ditampilkan"
   ]
  },
  {
   "cell_type": "code",
   "execution_count": 18,
   "id": "ce6453c9",
   "metadata": {},
   "outputs": [
    {
     "data": {
      "text/plain": [
       "int"
      ]
     },
     "execution_count": 18,
     "metadata": {},
     "output_type": "execute_result"
    }
   ],
   "source": [
    "##Melihat jenis tipe data variabel angka\n",
    "\n",
    "type(angka_44)\n",
    "\n",
    "##Variabel String Index angka terdeteksi bertipe data int"
   ]
  },
  {
   "cell_type": "code",
   "execution_count": 19,
   "id": "044f6fa1",
   "metadata": {},
   "outputs": [
    {
     "data": {
      "text/plain": [
       "str"
      ]
     },
     "execution_count": 19,
     "metadata": {},
     "output_type": "execute_result"
    }
   ],
   "source": [
    "##Mencoba untuk mengubah tipe data variabel angka dari int ke string\n",
    "\n",
    "type(str(angka_44))"
   ]
  },
  {
   "cell_type": "markdown",
   "id": "f3898cfa",
   "metadata": {},
   "source": [
    "# 5.6 String Methods"
   ]
  },
  {
   "cell_type": "code",
   "execution_count": 20,
   "id": "bda9c537",
   "metadata": {},
   "outputs": [],
   "source": [
    "##Mendeklarasikan variabel judul\n",
    "\n",
    "judul_44 = 'Indonesia is Wonderful'"
   ]
  },
  {
   "cell_type": "code",
   "execution_count": 21,
   "id": "fe4924b9",
   "metadata": {},
   "outputs": [
    {
     "name": "stdout",
     "output_type": "stream",
     "text": [
      "22\n"
     ]
    }
   ],
   "source": [
    "##Menghitung banyaknya karakter yang ada dalam variabel judul\n",
    "\n",
    "print(len(judul_44))"
   ]
  },
  {
   "cell_type": "code",
   "execution_count": 22,
   "id": "a5344fc6",
   "metadata": {},
   "outputs": [
    {
     "data": {
      "text/plain": [
       "'INDONESIA IS WONDERFUL'"
      ]
     },
     "execution_count": 22,
     "metadata": {},
     "output_type": "execute_result"
    }
   ],
   "source": [
    "##Mengubah data dalam variabel judul menjadi huruf besar semua\n",
    "\n",
    "judul_44.upper()"
   ]
  },
  {
   "cell_type": "code",
   "execution_count": 23,
   "id": "f98ba355",
   "metadata": {},
   "outputs": [
    {
     "data": {
      "text/plain": [
       "'indonesia is wonderful'"
      ]
     },
     "execution_count": 23,
     "metadata": {},
     "output_type": "execute_result"
    }
   ],
   "source": [
    "##Mengubah data dalam variabel judul menjadi huruf kecil semua\n",
    "\n",
    "judul_44.lower()"
   ]
  },
  {
   "cell_type": "code",
   "execution_count": 24,
   "id": "d9cde2d2",
   "metadata": {},
   "outputs": [
    {
     "data": {
      "text/plain": [
       "('INDONESIA IS WONDERFUL', 'indonesia is wonderful')"
      ]
     },
     "execution_count": 24,
     "metadata": {},
     "output_type": "execute_result"
    }
   ],
   "source": [
    "##Mengubah data dalam variabel judul menjadi huruf besar dan huruf kecil dalam 1 baris\n",
    "\n",
    "judul_44.upper(), judul_44.lower()"
   ]
  },
  {
   "cell_type": "code",
   "execution_count": 25,
   "id": "f1770cbd",
   "metadata": {},
   "outputs": [
    {
     "data": {
      "text/plain": [
       "'indonesia is wonderful'"
      ]
     },
     "execution_count": 25,
     "metadata": {},
     "output_type": "execute_result"
    }
   ],
   "source": [
    "##Mencoba mengubah data dalam 1 perintah sekaligus\n",
    "\n",
    "judul_44.upper().lower()\n",
    "\n",
    "##Output menunjukkan bahwa yang terdeteksi sebagai perintah adalah kode terakhir yang diperintahkan\n",
    "##Sehingga yang muncul merupakan hasil dari perintah mengubah ke huruf kecil"
   ]
  },
  {
   "cell_type": "code",
   "execution_count": 26,
   "id": "425bdf36",
   "metadata": {},
   "outputs": [
    {
     "data": {
      "text/plain": [
       "10"
      ]
     },
     "execution_count": 26,
     "metadata": {},
     "output_type": "execute_result"
    }
   ],
   "source": [
    "##Untuk mencari karakter atau kata dalam variabel\n",
    "\n",
    "judul_44.find('is')\n",
    "\n",
    "##10 berarti 'is' berada pada index ke 10"
   ]
  },
  {
   "cell_type": "code",
   "execution_count": 27,
   "id": "01e7005e",
   "metadata": {},
   "outputs": [
    {
     "data": {
      "text/plain": [
       "-1"
      ]
     },
     "execution_count": 27,
     "metadata": {},
     "output_type": "execute_result"
    }
   ],
   "source": [
    "##Mencari karakter atau kata dalam variabel\n",
    "\n",
    "judul_44.find('are')\n",
    "\n",
    "##-1 berarti karakter atau kata yang dicari tidak ada atau tidak ditemukan"
   ]
  },
  {
   "cell_type": "code",
   "execution_count": 28,
   "id": "837c37ba",
   "metadata": {},
   "outputs": [
    {
     "data": {
      "text/plain": [
       "-1"
      ]
     },
     "execution_count": 28,
     "metadata": {},
     "output_type": "execute_result"
    }
   ],
   "source": [
    "##Mencari karakter atau kata dalam variabel\n",
    "\n",
    "judul_44.find('Is')\n",
    "\n",
    "##-1 berarti karakter yang dicari tidak ditemukan\n",
    "##'Is' memiliki output -1 karena dalam data variabel yang ada adalah 'is' (terdapat perbedaan dalam huruf besar/kecilnya)\n",
    "##Ini merupakan case yang sensitif, sehingga besar atau kecilnya suatu karakter sangat diperhatikan"
   ]
  },
  {
   "cell_type": "code",
   "execution_count": 29,
   "id": "68ab8c7e",
   "metadata": {},
   "outputs": [
    {
     "data": {
      "text/plain": [
       "'Malang is Wonderful'"
      ]
     },
     "execution_count": 29,
     "metadata": {},
     "output_type": "execute_result"
    }
   ],
   "source": [
    "##Untuk mengganti karakter atau kata dalam variabel\n",
    "\n",
    "judul_44.replace('Indonesia', 'Malang')\n",
    "\n",
    "##Mengganti kata 'Indonesia' menjadi 'Malang'"
   ]
  },
  {
   "cell_type": "code",
   "execution_count": 30,
   "id": "4eac6bbd",
   "metadata": {},
   "outputs": [
    {
     "data": {
      "text/plain": [
       "'Indonesia is Wonderful'"
      ]
     },
     "execution_count": 30,
     "metadata": {},
     "output_type": "execute_result"
    }
   ],
   "source": [
    "##Mencoba menggantik karakter atau kata dalam variabel\n",
    "\n",
    "judul_44.replace('indonesia', 'Bandung')\n",
    "\n",
    "##Karakter tidak terganti karena tidak ada 'indonesia' dalam variabel (perbedaan dalam huruf besar/kecilnya)\n",
    "##Ini merupakan case sensitif, sehingga besar kecilnya sangat diperhatikan"
   ]
  },
  {
   "cell_type": "code",
   "execution_count": 31,
   "id": "8b3571e7",
   "metadata": {},
   "outputs": [
    {
     "name": "stdout",
     "output_type": "stream",
     "text": [
      "True\n"
     ]
    }
   ],
   "source": [
    "##Untuk mencari tahu karakter yang ada maupun tidak pada data variabel\n",
    "\n",
    "print('Indonesia' in judul_44)\n",
    "\n",
    "##Jika data tersebut ada, maka outputnya adalah True\n",
    "##Jika tidak ada/salah, maka outputnya adalah False"
   ]
  },
  {
   "cell_type": "code",
   "execution_count": 32,
   "id": "9a348e79",
   "metadata": {},
   "outputs": [
    {
     "name": "stdout",
     "output_type": "stream",
     "text": [
      "False\n"
     ]
    }
   ],
   "source": [
    "print('Bali' in judul_44)\n",
    "\n",
    "##Data yang dicari tidak ada atau tidak ditemukan"
   ]
  },
  {
   "cell_type": "code",
   "execution_count": 33,
   "id": "05c5ec52",
   "metadata": {},
   "outputs": [
    {
     "name": "stdout",
     "output_type": "stream",
     "text": [
      "True\n",
      "False\n"
     ]
    },
    {
     "data": {
      "text/plain": [
       "(None, None)"
      ]
     },
     "execution_count": 33,
     "metadata": {},
     "output_type": "execute_result"
    }
   ],
   "source": [
    "##Mencari 2 data menggunakan 2 print dalam 1 baris\n",
    "\n",
    "print('is' in judul_44), print('are' in judul_44)\n",
    "\n",
    "##Muncul None karena terdapat 2 print yang bertipe data string, sehingga terdeteksi sebagai vektor"
   ]
  },
  {
   "cell_type": "code",
   "execution_count": 34,
   "id": "46d17cac",
   "metadata": {},
   "outputs": [
    {
     "name": "stdout",
     "output_type": "stream",
     "text": [
      "False True\n"
     ]
    }
   ],
   "source": [
    "##Mencari 2 data menggunakan 1 print\n",
    "\n",
    "print('are' in judul_44, 'is' in judul_44)"
   ]
  },
  {
   "cell_type": "code",
   "execution_count": 35,
   "id": "934f94d1",
   "metadata": {},
   "outputs": [
    {
     "name": "stdout",
     "output_type": "stream",
     "text": [
      "True\n",
      "False\n"
     ]
    }
   ],
   "source": [
    "##Mencari 2 data menggunakan 2 print dalam baris yang berbeda\n",
    "\n",
    "print('is' in judul_44)\n",
    "print('are' in judul_44)"
   ]
  },
  {
   "cell_type": "markdown",
   "id": "840d46d6",
   "metadata": {},
   "source": [
    "# 5.7 Operasi Matematika di Python"
   ]
  },
  {
   "cell_type": "code",
   "execution_count": 39,
   "id": "2f8ec82f",
   "metadata": {},
   "outputs": [
    {
     "name": "stdout",
     "output_type": "stream",
     "text": [
      "6\n",
      "-4\n",
      "5\n",
      "2.5\n",
      "2\n",
      "1\n",
      "25\n",
      "5\n",
      "2\n",
      "6\n"
     ]
    }
   ],
   "source": [
    "##Operasi penjumlahan\n",
    "print(1 + 5)\n",
    "\n",
    "##Operasi Pengurangan\n",
    "print(1 - 5)\n",
    "\n",
    "##Operasi Perkalian\n",
    "print(1 * 5)\n",
    "\n",
    "##Operasi Pembagian\n",
    "print(5 / 2)\n",
    "\n",
    "##Operasi Pembulatan Pembagian\n",
    "print(5 // 2)\n",
    "\n",
    "##Operasi Modulo (habis dibagi)\n",
    "print(5 % 2)\n",
    "\n",
    "##Operasi Pemangkatan\n",
    "print(5 ** 2)\n",
    "\n",
    "\n",
    "##Augmented Operator pada Penjumlahan, x += 3 berarti x = x + 3\n",
    "##Maka x = 2 + 3, sehingga x = 5\n",
    "x = 2\n",
    "x += 3\n",
    "print(x)\n",
    "\n",
    "##Augmented Operator pada Pengurangan, x -= 3 berarti x = x - 3\n",
    "##Sebelumnya didapatkan bahwa x = 5, maka selanjutnya nilai x = 5\n",
    "##Maka x = 5 - 3, sehingga x = 2\n",
    "x -= 3\n",
    "print(x)\n",
    "\n",
    "##Augmented Operator pada Perkalian, x *= 3 berarti x = x * 3\n",
    "##Sebelumnya didapatkan bahwa x = 2, maka selanjutnya nilai x = 2\n",
    "##Maka x = 2 * 3, sehingga x = 6\n",
    "x *= 3\n",
    "print(x)\n",
    "\n",
    "##Apabila nilai x tidak dideklarasikan menggunakan data x yang baru,\n",
    "##maka yang akan dieksekusi adalah data lama yang sebelumnya telah tersimpan di memori"
   ]
  },
  {
   "cell_type": "code",
   "execution_count": 40,
   "id": "5d7fe4e5",
   "metadata": {},
   "outputs": [
    {
     "name": "stdout",
     "output_type": "stream",
     "text": [
      "7\n"
     ]
    }
   ],
   "source": [
    "##Augmented Operator pada Penjumlahan\n",
    "\n",
    "x = 5\n",
    "x += 2\n",
    "print(x)\n",
    "\n",
    "##Berarti x = x + 2, dimana x = 5\n",
    "##Sehingga x = 5 + 2, x = 7"
   ]
  },
  {
   "cell_type": "code",
   "execution_count": 41,
   "id": "69646efd",
   "metadata": {},
   "outputs": [
    {
     "name": "stdout",
     "output_type": "stream",
     "text": [
      "4\n"
     ]
    }
   ],
   "source": [
    "##Augmented Operator pada Pengurangan\n",
    "\n",
    "x = 6\n",
    "x -= 2\n",
    "print(x)\n",
    "\n",
    "##Berarti x = x - 2, dimana x = 6\n",
    "##Sehingga x = 6 - 2, x = 4"
   ]
  },
  {
   "cell_type": "code",
   "execution_count": 46,
   "id": "beae9223",
   "metadata": {},
   "outputs": [
    {
     "name": "stdout",
     "output_type": "stream",
     "text": [
      "-1\n"
     ]
    }
   ],
   "source": [
    "##Augmented Operator pada Pengurangan\n",
    "\n",
    "x = 1\n",
    "x -= 2\n",
    "print(x)\n",
    "\n",
    "##Berarti x = x - 2, dimana x = 1\n",
    "##Sehingga x = 1 - 2, x = -1"
   ]
  },
  {
   "cell_type": "code",
   "execution_count": 47,
   "id": "52c07634",
   "metadata": {},
   "outputs": [
    {
     "name": "stdout",
     "output_type": "stream",
     "text": [
      "4\n"
     ]
    }
   ],
   "source": [
    "##Augmented Operator pada Perkalian\n",
    "\n",
    "x = 2\n",
    "x *= 2\n",
    "print(x)\n",
    "\n",
    "\n",
    "##Berarti x = x * 2, dimana x = 2\n",
    "##Sehingga x = 2 * 2, x = 4"
   ]
  },
  {
   "cell_type": "code",
   "execution_count": 48,
   "id": "d599772d",
   "metadata": {},
   "outputs": [
    {
     "name": "stdout",
     "output_type": "stream",
     "text": [
      "3.0\n"
     ]
    },
    {
     "data": {
      "text/plain": [
       "float"
      ]
     },
     "execution_count": 48,
     "metadata": {},
     "output_type": "execute_result"
    }
   ],
   "source": [
    "##Augmented Operator pada Pembagian\n",
    "\n",
    "x = 6\n",
    "x /= 2\n",
    "print(x)\n",
    "\n",
    "##Berarti x = x / 2, dimana x = 6\n",
    "##Sehingga x = 6 / 2, x = 3.0\n",
    "\n",
    "##Output x = 3.0 karena bertipe data float, sehingga output dalam bentuk bilangan desimal\n",
    "\n",
    "type(x)"
   ]
  },
  {
   "cell_type": "markdown",
   "id": "ba240a3b",
   "metadata": {},
   "source": [
    "# 5.8 Operator Perbandingan di Python"
   ]
  },
  {
   "cell_type": "code",
   "execution_count": 49,
   "id": "7ca7c66a",
   "metadata": {},
   "outputs": [
    {
     "name": "stdout",
     "output_type": "stream",
     "text": [
      "True\n",
      "True\n",
      "True\n",
      "True\n",
      "True\n",
      "True\n"
     ]
    }
   ],
   "source": [
    "##Operator Perbandingan Lebih besar (>)\n",
    "x = 5 > 4\n",
    "print(x)\n",
    "\n",
    "##Operator Perbandingan Lebih Kecil (<)\n",
    "x = 4 < 5\n",
    "print(x)\n",
    "\n",
    "##Operator Perbandingan Lebih besar Sama Dengan (>=)\n",
    "x = 5 >= 4\n",
    "print(x)\n",
    "\n",
    "##Operator Perbandingan Lebih Kecil Sama Dengan (<=)\n",
    "x = 4 <= 5\n",
    "print(x)\n",
    "\n",
    "##Operator Perbandingan Sama Dengan (==)\n",
    "x = 4 == 4\n",
    "print(x)\n",
    "\n",
    "##Operator Perbandingan Tidak Sama Dengan (!=)\n",
    "x = 4 != 5\n",
    "print(x)"
   ]
  },
  {
   "cell_type": "code",
   "execution_count": 50,
   "id": "7c028e8f",
   "metadata": {},
   "outputs": [
    {
     "name": "stdout",
     "output_type": "stream",
     "text": [
      "False\n",
      "False\n",
      "False\n",
      "False\n",
      "False\n",
      "False\n"
     ]
    }
   ],
   "source": [
    "##Untuk membandingkan Output dengan hasil output di atas\n",
    "\n",
    "##Operator Perbandingan Lebih besar (>)\n",
    "x = 4 > 5\n",
    "print(x)\n",
    "\n",
    "##Operator Perbandingan Lebih Kecil (<)\n",
    "x = 5 < 4\n",
    "print(x)\n",
    "\n",
    "##Operator Perbandingan Lebih besar Sama Dengan (>=)\n",
    "x = 4 >= 5\n",
    "print(x)\n",
    "\n",
    "##Operator Perbandingan Lebih Kecil Sama Dengan (<=)\n",
    "x = 5 <= 4\n",
    "print(x)\n",
    "\n",
    "##Operator Perbandingan Sama Dengan (==)\n",
    "x = 4 == 5\n",
    "print(x)\n",
    "\n",
    "##Operator Perbandingan Tidak Sama Dengan (!=)\n",
    "x = 4 != 4\n",
    "print(x)\n",
    "\n",
    "##Hasil dari perbandingan 2 output adalah, dengan mengubah atau membalik angkanya saja dapat membuat hasil output yang berbeda,\n",
    "##tergantung operator yang digunakan."
   ]
  },
  {
   "cell_type": "markdown",
   "id": "d3e98f55",
   "metadata": {},
   "source": [
    "# 5.9 Operator Logika di Python"
   ]
  },
  {
   "cell_type": "code",
   "execution_count": 52,
   "id": "8d323023",
   "metadata": {},
   "outputs": [],
   "source": [
    "##Mendeklarasikan variabel\n",
    "\n",
    "mangga_44 = 4\n",
    "apel_44 = 6"
   ]
  },
  {
   "cell_type": "code",
   "execution_count": 53,
   "id": "483b4766",
   "metadata": {},
   "outputs": [
    {
     "name": "stdout",
     "output_type": "stream",
     "text": [
      "True\n"
     ]
    }
   ],
   "source": [
    "##Operator AND\n",
    "##Operator AND akan bernilai True jika keduanya bernilai True, outputnya = True\n",
    "##Apabila hanya salah satu yang bernilai True, maka outputnya = False\n",
    "\n",
    "print(mangga_44 > 2 and apel_44 < 10)\n",
    "\n",
    "##Keduanya bernilai True"
   ]
  },
  {
   "cell_type": "code",
   "execution_count": 54,
   "id": "80a48e18",
   "metadata": {},
   "outputs": [
    {
     "name": "stdout",
     "output_type": "stream",
     "text": [
      "False\n"
     ]
    }
   ],
   "source": [
    "print(mangga_44 > 4 and apel_44 < 10)\n",
    "\n",
    "##Bernilai False karena tidak benar bahwa mangga > 4"
   ]
  },
  {
   "cell_type": "code",
   "execution_count": 55,
   "id": "f944be3e",
   "metadata": {},
   "outputs": [
    {
     "name": "stdout",
     "output_type": "stream",
     "text": [
      "False\n"
     ]
    }
   ],
   "source": [
    "print(mangga_44 > 2 and apel_44 < 5)\n",
    "\n",
    "##Bernilai False karena kedua pernyataan tidak benar"
   ]
  },
  {
   "cell_type": "code",
   "execution_count": 56,
   "id": "dae6772b",
   "metadata": {},
   "outputs": [
    {
     "name": "stdout",
     "output_type": "stream",
     "text": [
      "True\n"
     ]
    }
   ],
   "source": [
    "##Operator OR\n",
    "##Operator OR akan bernilai True jika salah satu atau lebih dari pernyataan bernilai True, outputnya = True\n",
    "##Apabila kedua pernyataan bernilai False, maka outputnya = Falsa\n",
    "\n",
    "print(mangga_44 < 2 or apel_44 < 10)\n",
    "\n",
    "##Bernilai True karena terdapat salah 1 pernyataan yang benar"
   ]
  },
  {
   "cell_type": "code",
   "execution_count": 57,
   "id": "26ee1c4e",
   "metadata": {},
   "outputs": [
    {
     "name": "stdout",
     "output_type": "stream",
     "text": [
      "False\n"
     ]
    }
   ],
   "source": [
    "print(mangga_44 < 2 or apel_44 > 10)\n",
    "\n",
    "##Bernilai False karena kedua pernyataan bernilai False"
   ]
  },
  {
   "cell_type": "code",
   "execution_count": 58,
   "id": "0d81f517",
   "metadata": {},
   "outputs": [
    {
     "name": "stdout",
     "output_type": "stream",
     "text": [
      "True\n"
     ]
    }
   ],
   "source": [
    "##Operator NOT\n",
    "##Operator NOT menghasilkan output yang berlawan/berkebalikan dari output aslinya\n",
    "##Jika output bernilai True, maka nilai dari operator not nya adalah False\n",
    "\n",
    "print(not(mangga_44 < 2 or apel_44 > 10))\n",
    "\n",
    "##Benar bahwa mangga < 2 or apel > 10, namun setelah diberi perintah menggunakan operator not outputnya menjadi berkebalikan"
   ]
  },
  {
   "cell_type": "code",
   "execution_count": 59,
   "id": "085941cf",
   "metadata": {},
   "outputs": [
    {
     "name": "stdout",
     "output_type": "stream",
     "text": [
      "True\n"
     ]
    }
   ],
   "source": [
    "##Menggunakan tanda ~ untuk negasi atau operator not\n",
    "\n",
    "##Tanda ~ dapat digunakan dalam operator not, dimana -1 berarti True dan -2 berarti False\n",
    "\n",
    "x = 2 < 6\n",
    "print(x)"
   ]
  },
  {
   "cell_type": "code",
   "execution_count": 60,
   "id": "88044094",
   "metadata": {},
   "outputs": [
    {
     "name": "stdout",
     "output_type": "stream",
     "text": [
      "-2\n"
     ]
    }
   ],
   "source": [
    "print(~(x))\n",
    "\n",
    "##-2 berarti bernilai False/salah"
   ]
  },
  {
   "cell_type": "code",
   "execution_count": 61,
   "id": "b6ffbad3",
   "metadata": {},
   "outputs": [
    {
     "name": "stdout",
     "output_type": "stream",
     "text": [
      "False\n"
     ]
    }
   ],
   "source": [
    "x = 10 < 5\n",
    "print(x)"
   ]
  },
  {
   "cell_type": "code",
   "execution_count": 62,
   "id": "9de5bd24",
   "metadata": {},
   "outputs": [
    {
     "name": "stdout",
     "output_type": "stream",
     "text": [
      "-1\n"
     ]
    }
   ],
   "source": [
    "print(~(x))\n",
    "\n",
    "##-1 berarti bernilai True/benar"
   ]
  },
  {
   "cell_type": "markdown",
   "id": "6ec1badf",
   "metadata": {},
   "source": [
    "# 5.10 Operator If di Python"
   ]
  },
  {
   "cell_type": "markdown",
   "id": "7189189a",
   "metadata": {},
   "source": [
    "### Operator if menggunakan if"
   ]
  },
  {
   "cell_type": "code",
   "execution_count": 64,
   "id": "b131a132",
   "metadata": {},
   "outputs": [
    {
     "name": "stdout",
     "output_type": "stream",
     "text": [
      "Nilai anda adalah 90\n",
      "Anda mendapatkan nilai A\n",
      "Bagus sekali, selamat ya!\n"
     ]
    }
   ],
   "source": [
    "##Penerapan dalam penggunaan operator if menggunakan if saja membutuhkan 2 batas (batas awal & batas akhir)\n",
    "\n",
    "nilai_44 = float(input('Nilai anda adalah '))\n",
    "if nilai_44 >= 80:\n",
    "    print('Anda mendapatkan nilai A')\n",
    "    print('Bagus sekali, selamat ya!')\n",
    "if nilai_44 < 80 and nilai_44 >= 70:\n",
    "    print('Anda mendapatkan nilai B')\n",
    "    print('Tingkatkan lagi ya!')\n",
    "if nilai_44 >= 60 and nilai_44 < 70:\n",
    "    print('Anda mendapatkan nilai C')\n",
    "    print('Lain kali harus lebih baik lagi, oke!')\n",
    "if nilai_44 >= 50 and nilai_44 < 60:\n",
    "    print('Anda mendapatkan nilai D')\n",
    "    print('Ulangi lagi di tahun depan')\n",
    "if nilai_44 < 50:\n",
    "    print('Anda mendapatkan nilai E')\n",
    "    print('Sampai jumpa tahun depan!')"
   ]
  },
  {
   "cell_type": "markdown",
   "id": "bc667691",
   "metadata": {},
   "source": [
    "### Operator if menggunakan if dan elif (else if)"
   ]
  },
  {
   "cell_type": "code",
   "execution_count": 65,
   "id": "a0663a5f",
   "metadata": {},
   "outputs": [
    {
     "name": "stdout",
     "output_type": "stream",
     "text": [
      "Nilai anda adalah 89\n",
      "Anda mendapatkan nilai A\n",
      "Bagus sekali, selamat ya!\n"
     ]
    }
   ],
   "source": [
    "##Penerapan dalam penggunaan operator if dan elif tidak memerlukan batas awal dan batas akhir, cukup dengan 1 batas saja\n",
    "\n",
    "nilai_44 = float(input('Nilai anda adalah '))\n",
    "if nilai_44 >= 80:\n",
    "    print('Anda mendapatkan nilai A')\n",
    "    print('Bagus sekali, selamat ya!')\n",
    "elif nilai_44 >= 70:\n",
    "    print('Anda mendapatkan nilai B')\n",
    "    print('Tingkatkan lagi ya!')\n",
    "elif nilai_44 >= 60:\n",
    "    print('Anda mendapatkan nilai C')\n",
    "    print('Lain kali harus lebih baik lagi, oke!')\n",
    "elif nilai_44 >= 50:\n",
    "    print('Anda mendapatkan nilai D')\n",
    "    print('Ulangi lagi di tahun depan')\n",
    "else:\n",
    "    print('Anda mendapatkan nilai E')\n",
    "    print('Sampai jumpa tahun depan!')"
   ]
  },
  {
   "cell_type": "markdown",
   "id": "75eb2f5c",
   "metadata": {},
   "source": [
    "### Contoh Penerapan Operator if"
   ]
  },
  {
   "cell_type": "code",
   "execution_count": 66,
   "id": "0d59a60d",
   "metadata": {},
   "outputs": [
    {
     "name": "stdout",
     "output_type": "stream",
     "text": [
      "Berapa uang anda saat ini? 100\n",
      "Apa mata uang anda? dollar\n",
      "Uang anda saat ini adalah 1515000.0 rupiah\n"
     ]
    }
   ],
   "source": [
    "##Membuat program dengan operator if yang dapat mengkonversi uang dari rupiah ke dollar maupun sebaliknya\n",
    "\n",
    "uang_44 = float(input('Berapa uang anda saat ini? '))\n",
    "rupiah_atau_dollar_44 = input('Apa mata uang anda? ')\n",
    "\n",
    "if rupiah_atau_dollar_44.upper() == 'RUPIAH':\n",
    "    uang_44 = uang_44 / 15150 \n",
    "    print('Uang anda saat ini adalah ' + str(uang_44) + ' dollar')\n",
    "elif rupiah_atau_dollar_44.upper() == 'DOLLAR':\n",
    "    uang_44 = uang_44 * 15150\n",
    "    print(f'Uang anda saat ini adalah {uang_44} rupiah')"
   ]
  },
  {
   "cell_type": "code",
   "execution_count": null,
   "id": "b699ef87",
   "metadata": {},
   "outputs": [],
   "source": []
  }
 ],
 "metadata": {
  "kernelspec": {
   "display_name": "Python 3 (ipykernel)",
   "language": "python",
   "name": "python3"
  },
  "language_info": {
   "codemirror_mode": {
    "name": "ipython",
    "version": 3
   },
   "file_extension": ".py",
   "mimetype": "text/x-python",
   "name": "python",
   "nbconvert_exporter": "python",
   "pygments_lexer": "ipython3",
   "version": "3.9.13"
  }
 },
 "nbformat": 4,
 "nbformat_minor": 5
}
