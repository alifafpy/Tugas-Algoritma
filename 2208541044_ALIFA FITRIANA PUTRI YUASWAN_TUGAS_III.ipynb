{
 "cells": [
  {
   "cell_type": "markdown",
   "id": "a538ddc4",
   "metadata": {},
   "source": [
    "# 5.5 String Index"
   ]
  },
  {
   "cell_type": "code",
   "execution_count": null,
   "id": "e5f5691b",
   "metadata": {},
   "outputs": [],
   "source": [
    "##Deklarasi variabel yang bertipe data string\n",
    "##Index dimulai dari index ke 0, dan urutan index terakhir dikatakan atau didefinisikan sebagai -1\n",
    "\n",
    "kelas = 'Ini kelas algoritma'"
   ]
  },
  {
   "cell_type": "code",
   "execution_count": null,
   "id": "aa8d6001",
   "metadata": {},
   "outputs": [],
   "source": [
    "##String Index dengan 2 angka\n",
    "\n",
    "print(kelas[3:-3])\n",
    "\n",
    "##Angka pertama pada print berarti index pertama yang akan dimunculkan\n",
    "##Angka kedua pada print berarti batas index yang akan dimunculkan (tidak termasuk index itu sendiri)\n",
    "##Contoh, apabila batasnya sampai -3 maka index yang akan dimunculkan hanya sampai di index -4"
   ]
  },
  {
   "cell_type": "code",
   "execution_count": null,
   "id": "ce1ee09e",
   "metadata": {},
   "outputs": [],
   "source": [
    "##String Index dengan 3 angka\n",
    "\n",
    "print(kelas[3:-2:3])\n",
    "\n",
    "##Angka ketiga pada print berarti loncatan index yang akan dimunculkan"
   ]
  },
  {
   "cell_type": "code",
   "execution_count": null,
   "id": "e4b87882",
   "metadata": {},
   "outputs": [],
   "source": [
    "##Percobaan String Index menggunakan variabel yang baru\n",
    "\n",
    "nama = 'Alifa Fitriana Putri Yuaswan'"
   ]
  },
  {
   "cell_type": "code",
   "execution_count": null,
   "id": "08305f33",
   "metadata": {},
   "outputs": [],
   "source": [
    "##String Index dengan 2 angka\n",
    "\n",
    "print(nama[0:6])\n",
    "\n",
    "##[0:6] artinya memunculkan index ke 0 sampai index ke 5 saja (tidak termasuk index ke 6)"
   ]
  },
  {
   "cell_type": "code",
   "execution_count": null,
   "id": "9b86b2f3",
   "metadata": {},
   "outputs": [],
   "source": [
    "##String Index tanpa memanggil index ke berapa yang akan dimunculkan\n",
    "\n",
    "print(nama[:])\n",
    "\n",
    "##Karena tidak ada yang dipanggil, maka yang tampil adalah semua data index di variabel nama"
   ]
  },
  {
   "cell_type": "code",
   "execution_count": null,
   "id": "1e1de2ec",
   "metadata": {},
   "outputs": [],
   "source": [
    "##Percobaan memunculkan index ke 3 dengan batas index ke 9 yang memiliki loncatan sebanyak 2 index\n",
    "\n",
    "print(nama[3:9:2])"
   ]
  },
  {
   "cell_type": "code",
   "execution_count": null,
   "id": "4e6838b8",
   "metadata": {},
   "outputs": [],
   "source": [
    "##Mengecek jenis tipe data pada String Index sekaligus menggunakan perintah print\n",
    "\n",
    "type(print(nama[0:4]))\n",
    "\n",
    "##Muncul NoneType karena tidak ada tipe data yang terdeteksi dikarenakan adanya perintan print"
   ]
  },
  {
   "cell_type": "code",
   "execution_count": null,
   "id": "c699cde1",
   "metadata": {},
   "outputs": [],
   "source": [
    "##Melihat atau mengecek tipe data pada String Index\n",
    "\n",
    "type(nama)\n",
    "\n",
    "##Variabel nama memiliki tipe data String"
   ]
  },
  {
   "cell_type": "code",
   "execution_count": null,
   "id": "c74bc249",
   "metadata": {},
   "outputs": [],
   "source": [
    "##Percobaan untuk mengubah tipe data variabel nama menjadi bertipe data int\n",
    "\n",
    "type(int(nama))\n",
    "\n",
    "##Error dikarenakan tipe data sebelumnya berupa string dan tidak dapat diubah ke int"
   ]
  },
  {
   "cell_type": "code",
   "execution_count": null,
   "id": "12822d01",
   "metadata": {},
   "outputs": [],
   "source": [
    "##Percobaan untuk memunculkan data melebihi jumlah index yang ada\n",
    "\n",
    "print(nama[0:30])\n",
    "\n",
    "##Hasil yang dimunculkan dari print merupakan keseluruhan data index yang ada (melebihi jumlah index)\n",
    "##Sehingga yang ditampilkan adalah keseluruhan data"
   ]
  },
  {
   "cell_type": "code",
   "execution_count": null,
   "id": "9d673425",
   "metadata": {},
   "outputs": [],
   "source": [
    "##Menampilkan data menggunakan 2 print dalam baris yang berbeda\n",
    "\n",
    "print(nama[2:-3:4])\n",
    "print(nama[3:-8])"
   ]
  },
  {
   "cell_type": "code",
   "execution_count": null,
   "id": "8e8dc54c",
   "metadata": {},
   "outputs": [],
   "source": [
    "##Menampilkan data menggunakan 2 print dalam 1 baris yang sama\n",
    "\n",
    "print(nama[0:5]), print(nama[2:19:3])\n",
    "\n",
    "##Output ditampilkan dalam baris yang berbeda meskipun perintah print dalam 1 baris yang sama\n",
    "##Muncul None pada output dikarenakan ada 2 print sekaligus dalam 1 baris sehingga terdeteksi sebagai vektor\n",
    "##Namun, karena tipe data berupa string, maka vektornya juga dalam bentuk string sehingga dia memunculkan none"
   ]
  },
  {
   "cell_type": "code",
   "execution_count": null,
   "id": "ba6674ea",
   "metadata": {},
   "outputs": [],
   "source": [
    "##Menampilkan data menggunakan 1 print dalam 1 baris, dimana 1 print digunakan untuk memunculkan 2 data sekaligus\n",
    "\n",
    "print(nama[1:-2], nama[3:20:3])\n",
    "\n",
    "##Output ditampilkan dalam baris yang sama, tapi tidak ada pembeda/pemisah antara perinta print 1 dengan lainnya"
   ]
  },
  {
   "cell_type": "code",
   "execution_count": null,
   "id": "2e12dc36",
   "metadata": {},
   "outputs": [],
   "source": [
    "##Menampilkan data menggunakan 1 print untuk memanggil 2 variabel yang berbeda\n",
    "\n",
    "print(kelas[1:-2:3], nama[4:-2:1])"
   ]
  },
  {
   "cell_type": "code",
   "execution_count": null,
   "id": "a73b9907",
   "metadata": {},
   "outputs": [],
   "source": [
    "##Mencoba membuat variabel String Index yang berisi angka dan bertipe data bukan string\n",
    "\n",
    "angka = 123\n",
    "print(angka[0:-1])\n",
    "\n",
    "##Error karena bertipe data int yang tidak dapat digunakan untuk memunculkan index yang ingin ditampilkan"
   ]
  },
  {
   "cell_type": "code",
   "execution_count": null,
   "id": "342ed928",
   "metadata": {},
   "outputs": [],
   "source": [
    "##Melihat jenis tipe data variabel angka\n",
    "\n",
    "type(angka)\n",
    "\n",
    "##Variabel String Index angka terdeteksi bertipe data int"
   ]
  },
  {
   "cell_type": "code",
   "execution_count": null,
   "id": "552c8191",
   "metadata": {},
   "outputs": [],
   "source": [
    "##Mencoba untuk mengubah tipe data variabel angka dari int ke string\n",
    "\n",
    "type(str(angka))"
   ]
  },
  {
   "cell_type": "markdown",
   "id": "e9b76269",
   "metadata": {},
   "source": [
    "# 5.6 String Methods"
   ]
  },
  {
   "cell_type": "code",
   "execution_count": null,
   "id": "ef4f4d97",
   "metadata": {},
   "outputs": [],
   "source": [
    "##Mendeklarasikan variabel judul\n",
    "\n",
    "judul = 'Indonesia is Wonderful'"
   ]
  },
  {
   "cell_type": "code",
   "execution_count": null,
   "id": "2b2caa5a",
   "metadata": {},
   "outputs": [],
   "source": [
    "##Menghitung banyaknya karakter yang ada dalam variabel judul\n",
    "\n",
    "print(len(judul))"
   ]
  },
  {
   "cell_type": "code",
   "execution_count": null,
   "id": "d9fdc18a",
   "metadata": {},
   "outputs": [],
   "source": [
    "##Mengubah data dalam variabel judul menjadi huruf besar semua\n",
    "\n",
    "judul.upper()"
   ]
  },
  {
   "cell_type": "code",
   "execution_count": null,
   "id": "a34c3780",
   "metadata": {},
   "outputs": [],
   "source": [
    "##Mengubah data dalam variabel judul menjadi huruf kecil semua\n",
    "\n",
    "judul.lower()"
   ]
  },
  {
   "cell_type": "code",
   "execution_count": null,
   "id": "e4b2d2b2",
   "metadata": {},
   "outputs": [],
   "source": [
    "##Mengubah data dalam variabel judul menjadi huruf besar dan huruf kecil dalam 1 baris\n",
    "\n",
    "judul.upper(), judul.lower()"
   ]
  },
  {
   "cell_type": "code",
   "execution_count": null,
   "id": "1a39ae8a",
   "metadata": {},
   "outputs": [],
   "source": [
    "##Mencoba mengubah data dalam 1 perintah sekaligus\n",
    "\n",
    "judul.upper().lower()\n",
    "\n",
    "##Output menunjukkan bahwa yang terdeteksi sebagai perintah adalah kode terakhir yang diperintahkan\n",
    "##Sehingga yang muncul merupakan hasil dari perintah mengubah ke huruf kecil"
   ]
  },
  {
   "cell_type": "code",
   "execution_count": null,
   "id": "3cd53869",
   "metadata": {},
   "outputs": [],
   "source": [
    "##Untuk mencari karakter atau kata dalam variabel\n",
    "\n",
    "judul.find('is')\n",
    "\n",
    "##10 berarti 'is' berada pada index ke 10"
   ]
  },
  {
   "cell_type": "code",
   "execution_count": null,
   "id": "cad4a196",
   "metadata": {},
   "outputs": [],
   "source": [
    "##Mencari karakter atau kata dalam variabel\n",
    "\n",
    "judul.find('are')\n",
    "\n",
    "##-1 berarti karakter atau kata yang dicari tidak ada atau tidak ditemukan"
   ]
  },
  {
   "cell_type": "code",
   "execution_count": null,
   "id": "d787456b",
   "metadata": {},
   "outputs": [],
   "source": [
    "##Mencari karakter atau kata dalam variabel\n",
    "\n",
    "judul.find('Is')\n",
    "\n",
    "##-1 berarti karakter yang dicari tidak ditemukan\n",
    "##'Is' memiliki output -1 karena dalam data variabel yang ada adalah 'is' (terdapat perbedaan dalam huruf besar/kecilnya)\n",
    "##Ini merupakan case yang sensitif, sehingga besar atau kecilnya suatu karakter sangat diperhatikan"
   ]
  },
  {
   "cell_type": "code",
   "execution_count": null,
   "id": "5942c523",
   "metadata": {},
   "outputs": [],
   "source": [
    "##Untuk mengganti karakter atau kata dalam variabel\n",
    "\n",
    "judul.replace('Indonesia', 'Malang')\n",
    "\n",
    "##Mengganti kata 'Indonesia' menjadi 'Malang'"
   ]
  },
  {
   "cell_type": "code",
   "execution_count": null,
   "id": "abe1bbbc",
   "metadata": {},
   "outputs": [],
   "source": [
    "##Mencoba menggantik karakter atau kata dalam variabel\n",
    "\n",
    "judul.replace('indonesia', 'Bandung')\n",
    "\n",
    "##Karakter tidak terganti karena tidak ada 'indonesia' dalam variabel (perbedaan dalam huruf besar/kecilnya)\n",
    "##Ini merupakan case sensitif, sehingga besar kecilnya sangat diperhatikan"
   ]
  },
  {
   "cell_type": "code",
   "execution_count": null,
   "id": "3af1c227",
   "metadata": {},
   "outputs": [],
   "source": [
    "##Untuk mencari tahu karakter yang ada maupun tidak pada data variabel\n",
    "\n",
    "print('Indonesia' in judul)\n",
    "\n",
    "##Jika data tersebut ada, maka outputnya adalah True\n",
    "##Jika tidak ada/salah, maka outputnya adalah False"
   ]
  },
  {
   "cell_type": "code",
   "execution_count": null,
   "id": "41f8105a",
   "metadata": {},
   "outputs": [],
   "source": [
    "print('Bali' in judul)\n",
    "\n",
    "##Data yang dicari tidak ada atau tidak ditemukan"
   ]
  },
  {
   "cell_type": "code",
   "execution_count": null,
   "id": "66cb06d8",
   "metadata": {},
   "outputs": [],
   "source": [
    "##Mencari 2 data menggunakan 2 print dalam 1 baris\n",
    "\n",
    "print('is' in judul), print('are' in judul)\n",
    "\n",
    "##Muncul None karena terdapat 2 print yang bertipe data string, sehingga terdeteksi sebagai vektor"
   ]
  },
  {
   "cell_type": "code",
   "execution_count": null,
   "id": "228f2154",
   "metadata": {},
   "outputs": [],
   "source": [
    "##Mencari 2 data menggunakan 1 print\n",
    "\n",
    "print('are' in judul, 'is' in judul)"
   ]
  },
  {
   "cell_type": "code",
   "execution_count": null,
   "id": "7fb47c11",
   "metadata": {},
   "outputs": [],
   "source": [
    "##Mencari 2 data menggunakan 2 print dalam baris yang berbeda\n",
    "\n",
    "print('is' in judul)\n",
    "print('are' in judul)"
   ]
  },
  {
   "cell_type": "markdown",
   "id": "a04a620d",
   "metadata": {},
   "source": [
    "# 5.7 Operasi Matematika di Python"
   ]
  },
  {
   "cell_type": "code",
   "execution_count": null,
   "id": "49c08b7d",
   "metadata": {},
   "outputs": [],
   "source": [
    "##Operasi penjumlahan\n",
    "print(1 + 5)\n",
    "\n",
    "##Operasi Pengurangan\n",
    "print(1 - 5)\n",
    "\n",
    "##Operasi Perkalian\n",
    "print(1 * 5)\n",
    "\n",
    "##Operasi Pembagian\n",
    "print(5 / 2)\n",
    "\n",
    "##Operasi Pembulatan Pembagian\n",
    "print(5 // 2)\n",
    "\n",
    "##Operasi Modulo (habis dibagi)\n",
    "print(5 % 2)\n",
    "\n",
    "##Operasi Pemangkatan\n",
    "print(5 ** 2)\n",
    "\n",
    "\n",
    "##Augmented Operator pada Penjumlahan, x += 3 berarti x = x + 3\n",
    "##Maka x = 2 + 3, sehingga x = 5\n",
    "x = 2\n",
    "x += 3\n",
    "print(x)\n",
    "\n",
    "##Augmented Operator pada Pengurangan, x -= 3 berarti x = x - 3\n",
    "##Sebelumnya didapatkan bahwa x = 5, maka selanjutnya nilai x = 5\n",
    "##Maka x = 5 - 3, sehingga x = 2\n",
    "x -= 3\n",
    "print(x)\n",
    "\n",
    "##Augmented Operator pada Perkalian, x *= 3 berarti x = x * 3\n",
    "##Sebelumnya didapatkan bahwa x = 2, maka selanjutnya nilai x = 2\n",
    "##Maka x = 2 * 3, sehingga x = 6\n",
    "x *= 3\n",
    "print(x)\n",
    "\n",
    "##Apabila nilai x tidak dideklarasikan menggunakan data x yang baru,\n",
    "##maka yang akan dieksekusi adalah data lama yang sebelumnya telah tersimpan di memori"
   ]
  },
  {
   "cell_type": "code",
   "execution_count": null,
   "id": "ed60d213",
   "metadata": {},
   "outputs": [],
   "source": [
    "##Augmented Operator pada Penjumlahan\n",
    "\n",
    "x = 5\n",
    "x += 2\n",
    "print(x)\n",
    "\n",
    "##Berarti x = x + 2, dimana x = 5\n",
    "##Sehingga x = 5 + 2, x = 7"
   ]
  },
  {
   "cell_type": "code",
   "execution_count": null,
   "id": "4c29f7c2",
   "metadata": {},
   "outputs": [],
   "source": [
    "##Augmented Operator pada Pengurangan\n",
    "\n",
    "x = 6\n",
    "x -= 2\n",
    "print(x)\n",
    "\n",
    "##Berarti x = x - 2, dimana x = 6\n",
    "##Sehingga x = 6 - 2, x = 4"
   ]
  },
  {
   "cell_type": "code",
   "execution_count": null,
   "id": "e89af038",
   "metadata": {},
   "outputs": [],
   "source": [
    "##Augmented Operator pada Pengurangan\n",
    "\n",
    "x = 1\n",
    "x -= 2\n",
    "print(x)\n",
    "\n",
    "##Berarti x = x - 2, dimana x = 1\n",
    "##Sehingga x = 1 - 2, x = -1"
   ]
  },
  {
   "cell_type": "code",
   "execution_count": null,
   "id": "07553cea",
   "metadata": {},
   "outputs": [],
   "source": [
    "##Augmented Operator pada Perkalian\n",
    "\n",
    "x = 2\n",
    "x *= 2\n",
    "print(x)\n",
    "\n",
    "\n",
    "##Berarti x = x * 2, dimana x = 2\n",
    "##Sehingga x = 2 * 2, x = 4"
   ]
  },
  {
   "cell_type": "code",
   "execution_count": null,
   "id": "10ba8817",
   "metadata": {},
   "outputs": [],
   "source": [
    "##Augmented Operator pada Pembagian\n",
    "\n",
    "x = 6\n",
    "x /= 2\n",
    "print(x)\n",
    "\n",
    "##Berarti x = x / 2, dimana x = 6\n",
    "##Sehingga x = 6 / 2, x = 3.0\n",
    "\n",
    "##Output x = 3.0 karena bertipe data float, sehingga output dalam bentuk bilangan desimal\n",
    "\n",
    "type(x)"
   ]
  },
  {
   "cell_type": "markdown",
   "id": "78351196",
   "metadata": {},
   "source": [
    "# 5.8 Operator Perbandingan di Python"
   ]
  },
  {
   "cell_type": "code",
   "execution_count": null,
   "id": "d22e44a1",
   "metadata": {},
   "outputs": [],
   "source": [
    "##Operator Perbandingan Lebih besar (>)\n",
    "x = 5 > 4\n",
    "print(x)\n",
    "\n",
    "##Operator Perbandingan Lebih Kecil (<)\n",
    "x = 4 < 5\n",
    "print(x)\n",
    "\n",
    "##Operator Perbandingan Lebih besar Sama Dengan (>=)\n",
    "x = 5 >= 4\n",
    "print(x)\n",
    "\n",
    "##Operator Perbandingan Lebih Kecil Sama Dengan (<=)\n",
    "x = 4 <= 5\n",
    "print(x)\n",
    "\n",
    "##Operator Perbandingan Sama Dengan (==)\n",
    "x = 4 == 4\n",
    "print(x)\n",
    "\n",
    "##Operator Perbandingan Tidak Sama Dengan (!=)\n",
    "x = 4 != 5\n",
    "print(x)"
   ]
  },
  {
   "cell_type": "code",
   "execution_count": null,
   "id": "655f502a",
   "metadata": {},
   "outputs": [],
   "source": [
    "##Untuk membandingkan Output dengan hasil output di atas\n",
    "\n",
    "##Operator Perbandingan Lebih besar (>)\n",
    "x = 4 > 5\n",
    "print(x)\n",
    "\n",
    "##Operator Perbandingan Lebih Kecil (<)\n",
    "x = 5 < 4\n",
    "print(x)\n",
    "\n",
    "##Operator Perbandingan Lebih besar Sama Dengan (>=)\n",
    "x = 4 >= 5\n",
    "print(x)\n",
    "\n",
    "##Operator Perbandingan Lebih Kecil Sama Dengan (<=)\n",
    "x = 5 <= 4\n",
    "print(x)\n",
    "\n",
    "##Operator Perbandingan Sama Dengan (==)\n",
    "x = 4 == 5\n",
    "print(x)\n",
    "\n",
    "##Operator Perbandingan Tidak Sama Dengan (!=)\n",
    "x = 4 != 4\n",
    "print(x)\n",
    "\n",
    "##Hasil dari perbandingan 2 output adalah, dengan mengubah atau membalik angkanya saja dapat membuat hasil output yang berbeda,\n",
    "##tergantung operator yang digunakan."
   ]
  },
  {
   "cell_type": "markdown",
   "id": "867468e0",
   "metadata": {},
   "source": [
    "# 5.9 Operator Logika di Python"
   ]
  },
  {
   "cell_type": "code",
   "execution_count": null,
   "id": "cdb437ff",
   "metadata": {},
   "outputs": [],
   "source": [
    "##Mendeklarasikan variabel\n",
    "\n",
    "mangga = 4\n",
    "apel = 6"
   ]
  },
  {
   "cell_type": "code",
   "execution_count": null,
   "id": "5763e0eb",
   "metadata": {},
   "outputs": [],
   "source": [
    "##Operator AND\n",
    "##Operator AND akan bernilai True jika keduanya bernilai True, outputnya = True\n",
    "##Apabila hanya salah satu yang bernilai True, maka outputnya = False\n",
    "\n",
    "print(mangga > 2 and apel < 10)\n",
    "\n",
    "##Keduanya bernilai True"
   ]
  },
  {
   "cell_type": "code",
   "execution_count": null,
   "id": "5091b291",
   "metadata": {},
   "outputs": [],
   "source": [
    "print(mangga > 4 and apel < 10)\n",
    "\n",
    "##Bernilai False karena tidak benar bahwa mangga > 4"
   ]
  },
  {
   "cell_type": "code",
   "execution_count": null,
   "id": "f402ba0d",
   "metadata": {},
   "outputs": [],
   "source": [
    "print(mangga > 2 and apel < 5)\n",
    "\n",
    "##Bernilai False karena kedua pernyataan tidak benar"
   ]
  },
  {
   "cell_type": "code",
   "execution_count": null,
   "id": "70f9b188",
   "metadata": {},
   "outputs": [],
   "source": [
    "##Operator OR\n",
    "##Operator OR akan bernilai True jika salah satu atau lebih dari pernyataan bernilai True, outputnya = True\n",
    "##Apabila kedua pernyataan bernilai False, maka outputnya = Falsa\n",
    "\n",
    "print(mangga < 2 or apel < 10)\n",
    "\n",
    "##Bernilai True karena terdapat salah 1 pernyataan yang benar"
   ]
  },
  {
   "cell_type": "code",
   "execution_count": null,
   "id": "413a1e0d",
   "metadata": {},
   "outputs": [],
   "source": [
    "print(mangga < 2 or apel > 10)\n",
    "\n",
    "##Bernilai False karena kedua pernyataan bernilai False"
   ]
  },
  {
   "cell_type": "code",
   "execution_count": null,
   "id": "48350573",
   "metadata": {},
   "outputs": [],
   "source": [
    "##Operator NOT\n",
    "##Operator NOT menghasilkan output yang berlawan/berkebalikan dari output aslinya\n",
    "##Jika output bernilai True, maka nilai dari operator not nya adalah False\n",
    "\n",
    "print(not(mangga < 2 or apel > 10))\n",
    "\n",
    "##Benar bahwa mangga < 2 or apel > 10, namun setelah diberi perintah menggunakan operator not outputnya menjadi berkebalikan"
   ]
  },
  {
   "cell_type": "code",
   "execution_count": null,
   "id": "d4351de5",
   "metadata": {},
   "outputs": [],
   "source": [
    "##Menggunakan tanda ~ untuk negasi atau operator not\n",
    "\n",
    "##Tanda ~ dapat digunakan dalam operator not, dimana -1 berarti True dan -2 berarti False\n",
    "\n",
    "x = 2 < 6\n",
    "print(x)"
   ]
  },
  {
   "cell_type": "code",
   "execution_count": null,
   "id": "d4d50430",
   "metadata": {},
   "outputs": [],
   "source": [
    "print(~(x))\n",
    "\n",
    "##-2 berarti bernilai False/salah"
   ]
  },
  {
   "cell_type": "code",
   "execution_count": null,
   "id": "88ee237f",
   "metadata": {},
   "outputs": [],
   "source": [
    "x = 10 < 5\n",
    "print(x)"
   ]
  },
  {
   "cell_type": "code",
   "execution_count": null,
   "id": "898e5de8",
   "metadata": {},
   "outputs": [],
   "source": [
    "print(~(x))\n",
    "\n",
    "##-1 berarti bernilai True/benar"
   ]
  },
  {
   "cell_type": "markdown",
   "id": "b5f18318",
   "metadata": {},
   "source": [
    "# 5.10 Operator If di Python"
   ]
  },
  {
   "cell_type": "markdown",
   "id": "ac5e0554",
   "metadata": {},
   "source": [
    "### Operator if menggunakan if"
   ]
  },
  {
   "cell_type": "code",
   "execution_count": null,
   "id": "cbd42b6a",
   "metadata": {},
   "outputs": [],
   "source": [
    "##Penerapan dalam penggunaan operator if menggunakan if saja membutuhkan 2 batas (batas awal & batas akhir)\n",
    "\n",
    "nilai = float(input('Nilai anda adalah '))\n",
    "if nilai >= 80:\n",
    "    print('Anda mendapatkan nilai A')\n",
    "    print('Bagus sekali, selamat ya!')\n",
    "if nilai < 80 and nilai >= 70:\n",
    "    print('Anda mendapatkan nilai B')\n",
    "    print('Tingkatkan lagi ya!')\n",
    "if nilai >= 60 and nilai < 70:\n",
    "    print('Anda mendapatkan nilai C')\n",
    "    print('Lain kali harus lebih baik lagi, oke!')\n",
    "if nilai >= 50 and nilai < 60:\n",
    "    print('Anda mendapatkan nilai D')\n",
    "    print('Ulangi lagi di tahun depan')\n",
    "if nilai < 50:\n",
    "    print('Anda mendapatkan nilai E')\n",
    "    print('Sampai jumpa tahun depan!')"
   ]
  },
  {
   "cell_type": "markdown",
   "id": "d46392fd",
   "metadata": {},
   "source": [
    "### Operator if menggunakan if dan elif (else if)"
   ]
  },
  {
   "cell_type": "code",
   "execution_count": null,
   "id": "78420d46",
   "metadata": {},
   "outputs": [],
   "source": [
    "##Penerapan dalam penggunaan operator if dan elif tidak memerlukan batas awal dan batas akhir, cukup dengan 1 batas saja\n",
    "\n",
    "nilai = float(input('Nilai anda adalah '))\n",
    "if nilai >= 80:\n",
    "    print('Anda mendapatkan nilai A')\n",
    "    print('Bagus sekali, selamat ya!')\n",
    "elif nilai >= 70:\n",
    "    print('Anda mendapatkan nilai B')\n",
    "    print('Tingkatkan lagi ya!')\n",
    "elif nilai >= 60:\n",
    "    print('Anda mendapatkan nilai C')\n",
    "    print('Lain kali harus lebih baik lagi, oke!')\n",
    "elif nilai >= 50:\n",
    "    print('Anda mendapatkan nilai D')\n",
    "    print('Ulangi lagi di tahun depan')\n",
    "else:\n",
    "    print('Anda mendapatkan nilai E')\n",
    "    print('Sampai jumpa tahun depan!')"
   ]
  },
  {
   "cell_type": "markdown",
   "id": "847958d4",
   "metadata": {},
   "source": [
    "### Contoh Penerapan Operator if"
   ]
  },
  {
   "cell_type": "code",
   "execution_count": 4,
   "id": "b371e72d",
   "metadata": {},
   "outputs": [
    {
     "name": "stdout",
     "output_type": "stream",
     "text": [
      "Berapa uang anda saat ini? 150000\n",
      "Apa mata uang anda? rupiah\n",
      "Uang anda saat ini adalah 9.900990099009901 dollar\n"
     ]
    }
   ],
   "source": [
    "##Membuat program dengan operator if yang dapat mengkonversi uang dari rupiah ke dollar maupun sebaliknya\n",
    "\n",
    "uang = float(input('Berapa uang anda saat ini? '))\n",
    "rupiah_atau_dollar = input('Apa mata uang anda? ')\n",
    "\n",
    "if rupiah_atau_dollar.upper() == 'RUPIAH':\n",
    "    uang = uang / 15150 \n",
    "    print('Uang anda saat ini adalah ' + str(uang) + ' dollar')\n",
    "elif rupiah_atau_dollar.upper() == 'DOLLAR':\n",
    "    uang = uang * 15150\n",
    "    print(f'Uang anda saat ini adalah {uang} rupiah')"
   ]
  },
  {
   "cell_type": "code",
   "execution_count": null,
   "id": "5d1b97fe",
   "metadata": {},
   "outputs": [],
   "source": []
  }
 ],
 "metadata": {
  "kernelspec": {
   "display_name": "Python 3 (ipykernel)",
   "language": "python",
   "name": "python3"
  },
  "language_info": {
   "codemirror_mode": {
    "name": "ipython",
    "version": 3
   },
   "file_extension": ".py",
   "mimetype": "text/x-python",
   "name": "python",
   "nbconvert_exporter": "python",
   "pygments_lexer": "ipython3",
   "version": "3.9.13"
  }
 },
 "nbformat": 4,
 "nbformat_minor": 5
}
