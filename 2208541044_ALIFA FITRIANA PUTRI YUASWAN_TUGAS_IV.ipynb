{
 "cells": [
  {
   "cell_type": "markdown",
   "id": "dfe12ccd",
   "metadata": {},
   "source": [
    "# 5.11 While Loop"
   ]
  },
  {
   "cell_type": "markdown",
   "id": "ed7bcc69",
   "metadata": {},
   "source": [
    "While Loop adalah suatu kondisi perulangan pada Python yang digunakan untuk mengeksekusi perintah yang diinginkan sampai suatu kondisi tertentu terpenuhi. Apabila memiliki nilai True maka program akan selalu melakukan looping sesuai kondisi dalam program, apabila memiliki nilai False maka akan langsung berhenti dan keluar dari program perulangannya."
   ]
  },
  {
   "cell_type": "markdown",
   "id": "84d88b44",
   "metadata": {},
   "source": [
    "### Contoh 1"
   ]
  },
  {
   "cell_type": "code",
   "execution_count": 1,
   "id": "fdef3919",
   "metadata": {},
   "outputs": [
    {
     "name": "stdout",
     "output_type": "stream",
     "text": [
      "Angka 0 masih di bawah 5\n",
      "Angka 1 masih di bawah 5\n",
      "Angka 2 masih di bawah 5\n",
      "Angka 3 masih di bawah 5\n",
      "Angka 4 masih di bawah 5\n"
     ]
    }
   ],
   "source": [
    "##Deklarasikan variabel yang akan digunakan dalam perulangan while\n",
    "a_44 = 0\n",
    "\n",
    "                                                         ##Struktur while\n",
    "while a_44 < 5:                                          ##While <kondisi>:\n",
    "    print('Angka ' + str(a_44) + ' masih di bawah 5')    ##<perintah>, berisi print dan memanggil variabel a_44 yang dieksekusi\n",
    "    a_44 += 1                                            ##perulangan/looping (increment/decrement)\n",
    "    \n",
    "##Program while looping mengeksekusi variabel a_44 yang dideklarasikan = 0, dengan kondisi apabila a_44 < 5\n",
    "##maka while looping akan mengeksekusi perintah dalam struktur while\n",
    "##Setelah itu a_44 akan melakukan perulangan dimana a_44 += 1 berarti a_44 = a_44 + 1 atau bisa juga ditulis dalam bentuk a_44++"
   ]
  },
  {
   "cell_type": "markdown",
   "id": "67118766",
   "metadata": {},
   "source": [
    "Program di atas berhenti di a_44 = 4 karena sesuai kondisi yang diminta a_44 < 5, sehingga benar bahwa a_44 = 4 masih dibawah 5. Jika a_44 = 4 mengalami looping, maka 4 + 1 = 5, dimana a_44 = 5 tidak memenuhi kondisi a_44 < 5."
   ]
  },
  {
   "cell_type": "markdown",
   "id": "9db1cc33",
   "metadata": {},
   "source": [
    "Setelah variabel a_44 tidak memenuhi kondisi a_44 < 5, program berhenti mengeksekusi dan langsung keluar dari program. Ini berarti nilai dari data sudah bernilai False sehingga program berhenti dijalankan."
   ]
  },
  {
   "cell_type": "markdown",
   "id": "207219e6",
   "metadata": {},
   "source": [
    "### Contoh 2"
   ]
  },
  {
   "cell_type": "code",
   "execution_count": 2,
   "id": "19c0f936",
   "metadata": {},
   "outputs": [],
   "source": [
    "x_44 = 0              ##Deklarasi variabel x_44 = 0\n",
    "\n",
    "while x_44 > 2:       ##Kondisi dimana x_44 harus memenuhi syarat x_44 > 2\n",
    "    y_44 = x_44 ** 2  ##Membuat variabel baru untuk menampung data dari nilai x_44**2 (x_44**2 = x_44 dipangkatkan 2)\n",
    "    x_44 = x_44 - 1   ##Perulangan/looping menggunakan decrement (decrement = operasi menggunakan -,\n",
    "                      ##increment = operasi menggunakan +)"
   ]
  },
  {
   "cell_type": "markdown",
   "id": "5b8cc2f8",
   "metadata": {},
   "source": [
    "Program di atas tidak error maupun tidak salah, tapi program di atas tidak mengeluarkan/menghasilkan output. Mengapa?\n",
    "Hal itu dikarenakan, variabel x_44 yang dideklarasikan di awal = 0, dimana kondisi tersebut tidak memenuhi kondisi untuk while looping. Tidak benar bahwa 0 > 2, sehingga program looping tidak dapat menghasilkan output apapun dan langsung keluar dari program."
   ]
  },
  {
   "cell_type": "code",
   "execution_count": 3,
   "id": "0dd713ce",
   "metadata": {},
   "outputs": [
    {
     "name": "stdout",
     "output_type": "stream",
     "text": [
      "0\n"
     ]
    }
   ],
   "source": [
    "##Disini saya mencoba untuk melihat nilai dari x_44 setelah melakukan while looping\n",
    "\n",
    "print(x_44)"
   ]
  },
  {
   "cell_type": "markdown",
   "id": "6fa3a1f8",
   "metadata": {},
   "source": [
    "Nilai dari print(x_44) = 0 karena dikode sebelumnya telah dijalankan program while looping yang tidak memenuhi suatu kondisinya, sehingga ketika dilakukan print atau memanggil nilai x_44, nilai x_44 yang terpanggil merupakan nilai x_44 pada saat dideklarasikan (tidak merubah apapun). Karena tidak memenuhi kondisi while looping, maka perulangan pun tidak terjadi, dan nilai dari x_44 tetap 0"
   ]
  },
  {
   "cell_type": "markdown",
   "id": "a21ef594",
   "metadata": {},
   "source": [
    "### Contoh 3"
   ]
  },
  {
   "cell_type": "markdown",
   "id": "c9378bdc",
   "metadata": {},
   "source": [
    "Mencoba membuat segitiga siku-siku yang terbalik"
   ]
  },
  {
   "cell_type": "code",
   "execution_count": 4,
   "id": "2acdc527",
   "metadata": {},
   "outputs": [
    {
     "name": "stdout",
     "output_type": "stream",
     "text": [
      "**********\n",
      "*********\n",
      "********\n",
      "*******\n",
      "******\n",
      "*****\n",
      "****\n",
      "***\n",
      "**\n",
      "*\n"
     ]
    }
   ],
   "source": [
    "n_44 = 10                     ##Deklarasi variabel dimana n_44 = 10\n",
    "\n",
    "while n_44 > 0:               ##Kondisi perulangan n_44 > 0\n",
    "    print(n_44 * '*')         ##Perintah apabila kondisi terpenuhi, maka print * sebanyak n_44 kali\n",
    "    n_44 = n_44 - 1           ##Perulangan (decrement --) apabila sudah melakukan eksekusi pada print"
   ]
  },
  {
   "cell_type": "markdown",
   "id": "dd2a4698",
   "metadata": {},
   "source": [
    "Segitiga berbentuk secara terbalik karena deklarasi variabel n_44 di awal = 10, saat program mengeksekusi dan kondisi terpenuhi maka dilakukan print * sebanyak n_44 kali (n_44 = 10), sehingga muncul 10 bintang pada baris pertama. Lalu terjadi looping, dengan kondisi n_44 = n_44 - 1, sehingga setelah itu n_44 = 9. Karena n_44 = 9 masih memenuhi kondisi n_44 > 0, maka perulangan terus dilakukan sampai n_44 tidak lagi memenuhi kondisi n_44 > 0."
   ]
  },
  {
   "cell_type": "markdown",
   "id": "a8273cde",
   "metadata": {},
   "source": [
    "### Contoh 4"
   ]
  },
  {
   "cell_type": "code",
   "execution_count": null,
   "id": "057bf3bf",
   "metadata": {},
   "outputs": [],
   "source": [
    "p_44 = 0                   ##Deklarasi variabel p_44 = 0\n",
    "\n",
    "while p_44 < 2:            ##Kondisi perulangan yang harus dipenuhi yaitu p_44 < 2\n",
    "    q_44 = p_44 ** 2       ##Membuat variabel baru q_44 untuk menampung nilai dari p_44**2\n",
    "    ##print(q_44)\n",
    "    p_44 = p_44 - 1        ##Perulangan decrement -1 apabila sudah dilakukan proses pemangkatan pada variabel q_44\n",
    "    ##print(p_44)\n",
    "    \n",
    "##Print(q_44) dan print(p_44) saya buat menjadi komen karena apabila saya tetap menggunakan print tersebut,\n",
    "##proses running tidak akan berhenti karena nilai terus mengecil menjadi minus tak hingga"
   ]
  },
  {
   "cell_type": "markdown",
   "id": "f74b6b3f",
   "metadata": {},
   "source": [
    "Program di atas jika di run tidak melakukan apapun, tidak error maupun tidak mengeluarkan output."
   ]
  },
  {
   "cell_type": "markdown",
   "id": "30d139ca",
   "metadata": {},
   "source": [
    "Karena dari variabel awal yang dideklarasikan adalah 0, dimana 0 memenuhi kondisi p_44 < 2, maka dapat dilakukan p_44 ** 2 yang hasilnya tetap 0. Lalu dilakukan looping p_44-1, sehingga nilai dari p_44 saat ini adalah -1. Nilai p_44 = -1 masih memenuhi kondisi p_44, lalu mengapa tidak ada output yang keluarkan oleh program? \n",
    "Hal tersebut dikarenakan nilai dari variabel p_44 terus mengecil dengan nilai minus, sehingga program kebingungan dan tidak mengeluarkan output apapun."
   ]
  },
  {
   "cell_type": "markdown",
   "id": "d9b7678f",
   "metadata": {},
   "source": [
    "Apabila ditambahkan print di dalam proses while untuk melihat nilai dari p_44 dan q_44, program akan mengeluarkan output. Namun, program tidak akan berhenti melakukan running, karena nilai terus mengecil maka program terus melakukan running dengan batas minus tak hingga."
   ]
  },
  {
   "cell_type": "markdown",
   "id": "2be499d4",
   "metadata": {},
   "source": [
    "Kondisi ini disebut dengan **infinity looping**, dimana perulangan terus terjadi tanpa batas. Penyebab hal ini dikarenakan kondisi yang terpenuhi **selalu bernilai True**. Untuk kasus program di atas, sudah dapat dipastikan jika kondisi while selalu bernilai True, hal itu dikarenakan nilai p_44 menjadi minus yang mana p_44 sudah pasti < 2."
   ]
  },
  {
   "cell_type": "markdown",
   "id": "551cf831",
   "metadata": {},
   "source": [
    "### Contoh 5"
   ]
  },
  {
   "cell_type": "code",
   "execution_count": 9,
   "id": "c4e582c6",
   "metadata": {},
   "outputs": [
    {
     "name": "stdout",
     "output_type": "stream",
     "text": [
      "Program Menampilkan Bilangan Genap\n",
      "\n",
      "Masukkan batas bilangan = 10\n",
      "0\n",
      "2\n",
      "4\n",
      "6\n",
      "8\n",
      "10\n"
     ]
    }
   ],
   "source": [
    "print('Program Menampilkan Bilangan Genap\\n')      ##Menampilkan judul program\n",
    "\n",
    "i = 0                 ##Deklarasi variabel i = 0\n",
    "\n",
    "j = int(input('Masukkan batas bilangan = '))       ##Inputan untuk menetukan batas bilangan yang ingin dipanggil\n",
    "\n",
    "while i <= j:         ##Kondisi perulangan dimanan nilai i harus lebih kecil dari sama dengan nilai j\n",
    "    print(i)          ##Lakukan print/cetak nilai i\n",
    "    i += 2            ##Perulangan increment, dimana i = i + 2 untuk menghasilkan baris bilangan genap"
   ]
  },
  {
   "cell_type": "markdown",
   "id": "c02c983f",
   "metadata": {},
   "source": [
    "Program di atas menampilkan perulangan untuk menampilkan baris bilangan genap dengan batas dari hasil input oleh pengguna. Jadi, hasil input tersebut menentukan berapa kali terjadinya perulangan. Apabila sudah tidak memenuhi kondisi, maka perulangan akan berhenti dan keluar dari program."
   ]
  },
  {
   "cell_type": "markdown",
   "id": "76550220",
   "metadata": {},
   "source": [
    "# 5.12 List di Python"
   ]
  },
  {
   "cell_type": "markdown",
   "id": "7f2af849",
   "metadata": {},
   "source": [
    "List di Python digunakan untuk menyimpan serta mengolah data lebih dari satu, baik dalam bentuk string maupun angka. List dapat dikatakan mirip seperti array."
   ]
  },
  {
   "cell_type": "markdown",
   "id": "9b65dab3",
   "metadata": {},
   "source": [
    "### Contoh List Kosong"
   ]
  },
  {
   "cell_type": "code",
   "execution_count": 25,
   "id": "fb43ceb1",
   "metadata": {},
   "outputs": [
    {
     "name": "stdout",
     "output_type": "stream",
     "text": [
      "[]\n"
     ]
    }
   ],
   "source": [
    "##Membuat variabel list kosong yang bernama 'nama'\n",
    "nama_44 = []\n",
    "\n",
    "##Memanggil list\n",
    "print(nama_44)"
   ]
  },
  {
   "cell_type": "markdown",
   "id": "67dfee34",
   "metadata": {},
   "source": [
    "Program di atas merupakan contoh list yang kosong/tidak memiliki data. Sehingga ketika dipanggil tidak muncul apapun karena tidak adanya data."
   ]
  },
  {
   "cell_type": "markdown",
   "id": "b847cbe8",
   "metadata": {},
   "source": [
    "### Contoh 1"
   ]
  },
  {
   "cell_type": "code",
   "execution_count": 26,
   "id": "f348ed6b",
   "metadata": {},
   "outputs": [
    {
     "name": "stdout",
     "output_type": "stream",
     "text": [
      "['hitam', 'putih', 'biru']\n"
     ]
    }
   ],
   "source": [
    "##Membuat list dengan diisi beberapa data\n",
    "warna_44 = ['hitam', 'putih', 'biru']              ##Mendeklarasikan data yang ada di dalam list\n",
    "\n",
    "##Memanggil list\n",
    "print(warna_44)                                    ##Ingin menampilkan semua data yang ada di dalam list"
   ]
  },
  {
   "cell_type": "markdown",
   "id": "17afc734",
   "metadata": {},
   "source": [
    "Data list yang terpanggil dalam variabel list warna sesuai dengan apa yang ada dalam datanya."
   ]
  },
  {
   "cell_type": "markdown",
   "id": "81efd9c6",
   "metadata": {},
   "source": [
    "### Menampilkan Data List sesuai Index"
   ]
  },
  {
   "cell_type": "code",
   "execution_count": 27,
   "id": "39ee894e",
   "metadata": {},
   "outputs": [
    {
     "name": "stdout",
     "output_type": "stream",
     "text": [
      "biru\n"
     ]
    }
   ],
   "source": [
    "##Menampilkan data list dengan index ke-2\n",
    "\n",
    "print(warna_44[2])           ##Print(nama_variabel_list[index_yang_ingin_dipanggil])"
   ]
  },
  {
   "cell_type": "code",
   "execution_count": 28,
   "id": "181fdefe",
   "metadata": {},
   "outputs": [
    {
     "name": "stdout",
     "output_type": "stream",
     "text": [
      "hitam\n"
     ]
    }
   ],
   "source": [
    "##Menampilkan data list dengan index ke 0\n",
    "\n",
    "print(warna_44[0])           ##Print(nama_variabel_list[index_yang_ingin_dipanggil])"
   ]
  },
  {
   "cell_type": "code",
   "execution_count": 29,
   "id": "13875211",
   "metadata": {},
   "outputs": [
    {
     "name": "stdout",
     "output_type": "stream",
     "text": [
      "putih\n"
     ]
    }
   ],
   "source": [
    "##Menampilkan data list dengan index ke -2\n",
    "\n",
    "print(warna_44[-2])          ##Print(nama_variabel_list[index_yang_ingin_dipanggil])"
   ]
  },
  {
   "cell_type": "markdown",
   "id": "9f9758db",
   "metadata": {},
   "source": [
    "Untuk menampilkan/memanggil data list sesuai index, harus diketahui bahwa index data list dimulai dari 0 dan data list yang paling akhir dapat dipanggil dengan -1, -2, dan seterusnya."
   ]
  },
  {
   "cell_type": "markdown",
   "id": "00869318",
   "metadata": {},
   "source": [
    "### Mengubah Isi Data List"
   ]
  },
  {
   "cell_type": "code",
   "execution_count": 31,
   "id": "98d960fb",
   "metadata": {},
   "outputs": [
    {
     "name": "stdout",
     "output_type": "stream",
     "text": [
      "['hitam', 'putih', 'merah']\n"
     ]
    }
   ],
   "source": [
    "##Mengubah data list warna, di index ke 2. Dari biru menjadi merah\n",
    "warna_44[2] = 'merah'       ##Untuk mengubah data list, nama_variabel_list[index_yg_ingin_diubah] = 'data_baru'\n",
    "\n",
    "##Menampilkan data list\n",
    "print(warna_44)"
   ]
  },
  {
   "cell_type": "code",
   "execution_count": 32,
   "id": "906553e1",
   "metadata": {},
   "outputs": [
    {
     "name": "stdout",
     "output_type": "stream",
     "text": [
      "['kuning', 'putih', 'merah']\n"
     ]
    }
   ],
   "source": [
    "##Mengubah data list warna, di index ke 0. Dari hitam menjadi kuning\n",
    "warna_44[0] = 'kuning'\n",
    "\n",
    "##Menampilkan data list\n",
    "print(warna_44)"
   ]
  },
  {
   "cell_type": "markdown",
   "id": "cdeb9fb7",
   "metadata": {},
   "source": [
    "### Menampilkan data list menggunakan Index"
   ]
  },
  {
   "cell_type": "code",
   "execution_count": 33,
   "id": "0f546447",
   "metadata": {},
   "outputs": [
    {
     "name": "stdout",
     "output_type": "stream",
     "text": [
      "['kuning']\n"
     ]
    }
   ],
   "source": [
    "##Menampilkan data list index ke 0 sampai index ke 1\n",
    "print(warna_44[0:1])"
   ]
  },
  {
   "cell_type": "markdown",
   "id": "f898a140",
   "metadata": {},
   "source": [
    "Berarti yang akan ditampilkan adalah data dengan index 0 saja. Kenapa index ke 1 tidak muncul juga?\n",
    "Karena index ke 1 merupakan batas, sehingga index ke 1 tidak termasuk output dari [0:1]"
   ]
  },
  {
   "cell_type": "code",
   "execution_count": 34,
   "id": "4faab50c",
   "metadata": {},
   "outputs": [
    {
     "name": "stdout",
     "output_type": "stream",
     "text": [
      "[]\n"
     ]
    }
   ],
   "source": [
    "##Menampilkan data list index ke 1 sampai index ke -2\n",
    "print(warna_44[1:-2])"
   ]
  },
  {
   "cell_type": "markdown",
   "id": "9a9bbb10",
   "metadata": {},
   "source": [
    "Memiliki output kosong artinya tidak ada data yang dicari. Dimana yang diminta adalah data dengan index ke 1 sampai index ke -2. Padahal dalam data list hanya ada 3 data saja, sehingga hanya ada index ke 0, 1, dan 2. Bisa juga menjadi index ke -3, -2, dan -1."
   ]
  },
  {
   "cell_type": "markdown",
   "id": "e68b3217",
   "metadata": {},
   "source": [
    "Program di atas tidak memiliki isi karena data index yang diminta mulai dari index ke 1, yaitu 'putih' sampai index ke -2 yaitu 'putih'. Dalam pemanggilan data list, batas index yang dipanggil tidak termasuk dalam output, oleh karena itu program di atas tidak memiliki isi."
   ]
  },
  {
   "cell_type": "code",
   "execution_count": 35,
   "id": "f5dbf8a6",
   "metadata": {},
   "outputs": [
    {
     "name": "stdout",
     "output_type": "stream",
     "text": [
      "['kuning', 'putih']\n"
     ]
    }
   ],
   "source": [
    "##Menampilkan data list index ke 0 sampai index ke -1\n",
    "print(warna_44[0:-1])"
   ]
  },
  {
   "cell_type": "markdown",
   "id": "eb084ed9",
   "metadata": {},
   "source": [
    "Menampilkan data list dengan index ke 0 sampai ke -1, berarti hanya ada 2 data yang akan muncul. Index ke 0 dan/atau index ke 1/-2."
   ]
  },
  {
   "cell_type": "markdown",
   "id": "914d5c63",
   "metadata": {},
   "source": [
    "Dikatakan bahwa apabila menampilkan data list menggunakan index tidak mengubah isi dari data list itu sendiri."
   ]
  },
  {
   "cell_type": "code",
   "execution_count": 36,
   "id": "40d689dc",
   "metadata": {},
   "outputs": [
    {
     "name": "stdout",
     "output_type": "stream",
     "text": [
      "['kuning', 'putih', 'merah']\n"
     ]
    }
   ],
   "source": [
    "##Membuktikan jika data list tidak berubah\n",
    "print(warna_44)"
   ]
  },
  {
   "cell_type": "markdown",
   "id": "c4ad94b0",
   "metadata": {},
   "source": [
    "### Menambahkan 2 data List"
   ]
  },
  {
   "cell_type": "code",
   "execution_count": 37,
   "id": "4688bd5c",
   "metadata": {},
   "outputs": [],
   "source": [
    "##Mendeklarasikan/Membuat data list\n",
    "vektor1_44 = [1, 3, 5, 7]"
   ]
  },
  {
   "cell_type": "code",
   "execution_count": 38,
   "id": "e1eb267c",
   "metadata": {},
   "outputs": [],
   "source": [
    "##Mendeklarasikan/Membuat data list\n",
    "vektor2_44 = [2, 4, 6, 8]"
   ]
  },
  {
   "cell_type": "code",
   "execution_count": 41,
   "id": "94ff6bc6",
   "metadata": {},
   "outputs": [],
   "source": [
    "##Membuat variabel baru vektor_44 untuk menampung hasil dari penjumlahan 2 data list\n",
    "vektor_44 = vektor1_44 + vektor2_44"
   ]
  },
  {
   "cell_type": "code",
   "execution_count": 42,
   "id": "9bd7b888",
   "metadata": {},
   "outputs": [
    {
     "name": "stdout",
     "output_type": "stream",
     "text": [
      "[1, 3, 5, 7, 2, 4, 6, 8]\n"
     ]
    }
   ],
   "source": [
    "##Memanggil hasil dari penjumlahan 2 data list\n",
    "print(vektor_44)"
   ]
  },
  {
   "cell_type": "markdown",
   "id": "5f5ccb78",
   "metadata": {},
   "source": [
    "Program di atas digunakan untuk menambahkan 2 data list, namun data yang ditambahkan belum bisa berurutan sesuai dengan urutan dari terkecil-terbesar."
   ]
  },
  {
   "cell_type": "markdown",
   "id": "842ee9f6",
   "metadata": {},
   "source": [
    "### Membuat data List dengan isi yang bertipe data berbeda"
   ]
  },
  {
   "cell_type": "code",
   "execution_count": 46,
   "id": "7b3d14b0",
   "metadata": {},
   "outputs": [],
   "source": [
    "##Membuat data list dengan tipe data yang berbeda\n",
    "data_44 = ['kursi', 6, True, 24.12, False]"
   ]
  },
  {
   "cell_type": "code",
   "execution_count": 47,
   "id": "b99e6c5c",
   "metadata": {},
   "outputs": [
    {
     "name": "stdout",
     "output_type": "stream",
     "text": [
      "['kursi', 6, True, 24.12, False]\n"
     ]
    }
   ],
   "source": [
    "print(data_44)"
   ]
  },
  {
   "cell_type": "markdown",
   "id": "667196c6",
   "metadata": {},
   "source": [
    "'kursi' bertipe data **string**, 6 bertipe data **integer**, True bertipe data **boolean**, 24.12 bertipe data **float**, dan False bertipe data **boolean**."
   ]
  },
  {
   "cell_type": "markdown",
   "id": "e47e562e",
   "metadata": {},
   "source": [
    "# 5.13 Metoda List"
   ]
  },
  {
   "cell_type": "markdown",
   "id": "776cda19",
   "metadata": {},
   "source": [
    "Ada beberapa metode yang dapat digunakan dalam pemrograman List di Python"
   ]
  },
  {
   "cell_type": "code",
   "execution_count": 3,
   "id": "4acbea29",
   "metadata": {},
   "outputs": [],
   "source": [
    "##Membuat data list kota\n",
    "kota_44 = ['Malang', 'Bali', 'Bandung']"
   ]
  },
  {
   "cell_type": "markdown",
   "id": "f55417f5",
   "metadata": {},
   "source": [
    "### Menambahkan item di data List"
   ]
  },
  {
   "cell_type": "code",
   "execution_count": 4,
   "id": "fef5f6d9",
   "metadata": {},
   "outputs": [
    {
     "name": "stdout",
     "output_type": "stream",
     "text": [
      "['Malang', 'Bali', 'Bandung', 'Surabaya']\n"
     ]
    }
   ],
   "source": [
    "##Menambahkan 'surabaya' dalam data list\n",
    "kota_44.append('Surabaya')         ##nama_variabel_list.append('data_yg_ditambahkan')\n",
    "\n",
    "##Menampilkan data list\n",
    "print(kota_44)"
   ]
  },
  {
   "cell_type": "markdown",
   "id": "c207cfa4",
   "metadata": {},
   "source": [
    "Metode append() digunakan untuk menambahkan item list dari belakang atau akhir list."
   ]
  },
  {
   "cell_type": "code",
   "execution_count": 5,
   "id": "133e4929",
   "metadata": {},
   "outputs": [
    {
     "ename": "AttributeError",
     "evalue": "'list' object has no attribute 'prepend'",
     "output_type": "error",
     "traceback": [
      "\u001b[1;31m---------------------------------------------------------------------------\u001b[0m",
      "\u001b[1;31mAttributeError\u001b[0m                            Traceback (most recent call last)",
      "\u001b[1;32m~\\AppData\\Local\\Temp\\ipykernel_1280\\2395024994.py\u001b[0m in \u001b[0;36m<module>\u001b[1;34m\u001b[0m\n\u001b[0;32m      1\u001b[0m \u001b[1;31m##Menambahkan 'Bogor' dalam data list\u001b[0m\u001b[1;33m\u001b[0m\u001b[1;33m\u001b[0m\u001b[0m\n\u001b[1;32m----> 2\u001b[1;33m \u001b[0mkota_44\u001b[0m\u001b[1;33m.\u001b[0m\u001b[0mprepend\u001b[0m\u001b[1;33m(\u001b[0m\u001b[1;34m'Bogor'\u001b[0m\u001b[1;33m)\u001b[0m         \u001b[1;31m##nama_variabel_list.prepend('data_yg_ditambahkan')\u001b[0m\u001b[1;33m\u001b[0m\u001b[1;33m\u001b[0m\u001b[0m\n\u001b[0m\u001b[0;32m      3\u001b[0m \u001b[1;33m\u001b[0m\u001b[0m\n\u001b[0;32m      4\u001b[0m \u001b[1;31m##Menampilkan data list\u001b[0m\u001b[1;33m\u001b[0m\u001b[1;33m\u001b[0m\u001b[0m\n\u001b[0;32m      5\u001b[0m \u001b[0mprint\u001b[0m\u001b[1;33m(\u001b[0m\u001b[0mkota_44\u001b[0m\u001b[1;33m)\u001b[0m\u001b[1;33m\u001b[0m\u001b[1;33m\u001b[0m\u001b[0m\n",
      "\u001b[1;31mAttributeError\u001b[0m: 'list' object has no attribute 'prepend'"
     ]
    }
   ],
   "source": [
    "##Menambahkan 'Bogor' dalam data list\n",
    "kota_44.prepend('Bogor')         ##nama_variabel_list.prepend('data_yg_ditambahkan')\n",
    "\n",
    "##Menampilkan data list\n",
    "print(kota_44)"
   ]
  },
  {
   "cell_type": "markdown",
   "id": "7f96954a",
   "metadata": {},
   "source": [
    "Setelah membaca beberapa referensi mengenai List di Python, saya menemukan metode prepend(). Metode prepend digunakan untuk menambahkan item list dari depan atau awal list. Tapi setelah saya coba, hasilnya error. Setelah saya otak atik tetap error, saya belum bisa menemukan dimana letak salahnya."
   ]
  },
  {
   "cell_type": "code",
   "execution_count": 6,
   "id": "fa9c9e35",
   "metadata": {},
   "outputs": [
    {
     "name": "stdout",
     "output_type": "stream",
     "text": [
      "['Solo', 'Malang', 'Bali', 'Bandung', 'Surabaya']\n"
     ]
    }
   ],
   "source": [
    "##Menambahkan 'Solo' dalam data list\n",
    "kota_44.insert(0, 'Solo')          ##nama_variabel_list.insert(index_yg_diinginkan, 'data_yg_ditambahkan')\n",
    "\n",
    "##Menampilkan data list\n",
    "print(kota_44)"
   ]
  },
  {
   "cell_type": "markdown",
   "id": "42292267",
   "metadata": {},
   "source": [
    "Metode insert() digunakan untuk menambahkan item list sesuai dengan letak index yang kita inginkan."
   ]
  },
  {
   "cell_type": "code",
   "execution_count": 7,
   "id": "ea382ba8",
   "metadata": {},
   "outputs": [
    {
     "name": "stdout",
     "output_type": "stream",
     "text": [
      "['Solo', 'Jakarta', 'Malang', 'Bali', 'Bandung', 'Surabaya']\n"
     ]
    }
   ],
   "source": [
    "##Menambahkan 'Jakarta' dalam data list\n",
    "kota_44.insert(1, 'Jakarta')      ##nama_variabel_list.insert(index_yg_diinginkan, 'data_yg_ditambahkan')\n",
    "\n",
    "##Menampilkan data list\n",
    "print(kota_44)"
   ]
  },
  {
   "cell_type": "markdown",
   "id": "ad3191ac",
   "metadata": {},
   "source": [
    "### Menghapus item di data List"
   ]
  },
  {
   "cell_type": "code",
   "execution_count": 8,
   "id": "ea4baa69",
   "metadata": {},
   "outputs": [
    {
     "name": "stdout",
     "output_type": "stream",
     "text": [
      "['Jakarta', 'Malang', 'Bali', 'Bandung', 'Surabaya']\n"
     ]
    }
   ],
   "source": [
    "##Menghapus 'Solo' dalam data list\n",
    "kota_44.remove('Solo')            ##nama_variabel_list.remove('data_yg_akan_dihapus')\n",
    "\n",
    "##Menampilkan data list\n",
    "print(kota_44)"
   ]
  },
  {
   "cell_type": "markdown",
   "id": "560b42dd",
   "metadata": {},
   "source": [
    "Kita dapat menggunakan metode remove() untuk menghapus item dalam data list."
   ]
  },
  {
   "cell_type": "code",
   "execution_count": 10,
   "id": "bf56da3e",
   "metadata": {},
   "outputs": [
    {
     "name": "stdout",
     "output_type": "stream",
     "text": [
      "['Malang', 'Bali', 'Bandung', 'Surabaya']\n"
     ]
    }
   ],
   "source": [
    "del kota_44[0]\n",
    "\n",
    "print(kota_44)"
   ]
  },
  {
   "cell_type": "markdown",
   "id": "551f1468",
   "metadata": {},
   "source": [
    "Kita juga dapat menggunakan del (delete) untuk menghapus item dalam data list."
   ]
  },
  {
   "cell_type": "markdown",
   "id": "9be72ca6",
   "metadata": {},
   "source": [
    "### Mencari data/item dalam List"
   ]
  },
  {
   "cell_type": "code",
   "execution_count": 16,
   "id": "1210ba25",
   "metadata": {},
   "outputs": [
    {
     "name": "stdout",
     "output_type": "stream",
     "text": [
      "True\n"
     ]
    }
   ],
   "source": [
    "##Mencari data 'Malang' dalam data list kota\n",
    "print('Malang' in kota_44)         ##print('data_yg_ingin_dicari' in nama_variabel_list)"
   ]
  },
  {
   "cell_type": "code",
   "execution_count": 17,
   "id": "be4aea37",
   "metadata": {},
   "outputs": [
    {
     "name": "stdout",
     "output_type": "stream",
     "text": [
      "False\n"
     ]
    }
   ],
   "source": [
    "##Mencari data 'Solo' dalam data list kota\n",
    "print('Solo' in kota_44)           ##print('data_yg_ingin_dicari' in nama_variabel_list)"
   ]
  },
  {
   "cell_type": "markdown",
   "id": "21785b83",
   "metadata": {},
   "source": [
    "Berdasarkan dua program di atas, diketahui bahwa apabila data yang dicari ada/dapat ditemukan maka output akan bernilai True. Sebaliknya, apabila data yang dicari tidak ada/salah maka output akan bernilai False"
   ]
  },
  {
   "cell_type": "markdown",
   "id": "1de52ec3",
   "metadata": {},
   "source": [
    "### Menampilkan Jumlah Objek yang ada dalam Data List"
   ]
  },
  {
   "cell_type": "code",
   "execution_count": 18,
   "id": "44f2e966",
   "metadata": {},
   "outputs": [
    {
     "name": "stdout",
     "output_type": "stream",
     "text": [
      "4\n"
     ]
    }
   ],
   "source": [
    "##Menampilkan jumlah objek dalam data list kota\n",
    "print(len(kota_44))               ##print(len(nama_variabel_list))"
   ]
  },
  {
   "cell_type": "markdown",
   "id": "e9eaa15e",
   "metadata": {},
   "source": [
    "Metode len dalam python digunakan untuk mencari jumlah/panjang objek yang ada dalam data variabel List."
   ]
  },
  {
   "cell_type": "markdown",
   "id": "f9bc4472",
   "metadata": {},
   "source": [
    "# 5.14 For Loop"
   ]
  },
  {
   "cell_type": "markdown",
   "id": "7915eb6b",
   "metadata": {},
   "source": [
    "For Loop adalah suatu kondisi perulangan yang sudah diketahui/ditentukan batas awal dan batas akhirnya."
   ]
  },
  {
   "cell_type": "markdown",
   "id": "954d3ae5",
   "metadata": {},
   "source": [
    "### Contoh 1"
   ]
  },
  {
   "cell_type": "code",
   "execution_count": 20,
   "id": "2f898589",
   "metadata": {},
   "outputs": [
    {
     "name": "stdout",
     "output_type": "stream",
     "text": [
      "Ayam\n",
      "Kelinci\n",
      "Kucing\n",
      "Singa\n"
     ]
    }
   ],
   "source": [
    "##Mendeklarasikan variabel\n",
    "hewan_44 = ['Ayam', 'Kelinci', 'Kucing', 'Singa']\n",
    "\n",
    "                                  ##Struktur For Loop\n",
    "for nama_44 in hewan_44:          ##for <variabel> in <iterable>\n",
    "    print(nama_44)                ##<perintah>\n",
    "    \n",
    "##Variabel nama_44 digunakan untuk menampung data iterable dalam setiap perulangan\n",
    "##Iterable adalah nilai/objek yang mengalami perulangan"
   ]
  },
  {
   "cell_type": "markdown",
   "id": "8c815562",
   "metadata": {},
   "source": [
    "Pada program di atas, dapat diketahui bahwa for loop digunakan untuk memanggil data list hewan_44 yang ditampung di dalam variabel baru bernama nama_44 dengan batas jumlah data list hewan_44."
   ]
  },
  {
   "cell_type": "markdown",
   "id": "0c994ce9",
   "metadata": {},
   "source": [
    "### Contoh 2"
   ]
  },
  {
   "cell_type": "code",
   "execution_count": 30,
   "id": "95e06bb7",
   "metadata": {},
   "outputs": [
    {
     "name": "stdout",
     "output_type": "stream",
     "text": [
      "1\n",
      "8\n",
      "27\n",
      "125\n",
      "343\n",
      "1331\n"
     ]
    }
   ],
   "source": [
    "##For Loop dengan deklarasi iterable di dalam for\n",
    "for b_44 in [1, 2, 3, 5, 7, 11]:        ##for <variabel> in <iterable>\n",
    "    c_44 = b_44 ** 3                    ##Membuat variabel baru untuk menampung hasil dari b_44 ** 3\n",
    "    print(c_44)                         ##Perintah dalam for loop"
   ]
  },
  {
   "cell_type": "markdown",
   "id": "b2264af5",
   "metadata": {},
   "source": [
    "Pada program di atas tidak diperlukan deklarasi variabel yang akan digunakan sebagai iterable. Karena deklarasinya dilakukan secara langsung di dalam for loop nya. Sehingga batas awal dan batas akhir bergantung pada data iterablenya."
   ]
  },
  {
   "cell_type": "markdown",
   "id": "930caab1",
   "metadata": {},
   "source": [
    "### Contoh 3"
   ]
  },
  {
   "cell_type": "code",
   "execution_count": 35,
   "id": "99e4d67d",
   "metadata": {},
   "outputs": [
    {
     "name": "stdout",
     "output_type": "stream",
     "text": [
      "S\n",
      "a\n",
      "y\n",
      "a\n",
      " \n",
      "b\n",
      "e\n",
      "l\n",
      "a\n",
      "j\n",
      "a\n",
      "r\n",
      " \n",
      "b\n",
      "a\n",
      "h\n",
      "a\n",
      "s\n",
      "a\n",
      " \n",
      "P\n",
      "y\n",
      "t\n",
      "h\n",
      "o\n",
      "n\n",
      "Saya\n",
      "belajar\n",
      "bahasa\n",
      "Python\n"
     ]
    }
   ],
   "source": [
    "##Melihat perbedaan 2 For Loop\n",
    "\n",
    "##For Loop dalam 1 kalimat\n",
    "kalimat_44 = 'Saya belajar bahasa Python'             ##Berupa kalimat sehingga objek dilihat dari perkarakternya\n",
    "\n",
    "for huruf_44 in kalimat_44:\n",
    "    print(huruf_44)\n",
    "\n",
    "##For Loop dalam data list\n",
    "kata_44 = ['Saya', 'belajar', 'bahasa', 'Python']     ##Berupa data list yang isinya perkata\n",
    "    \n",
    "for kata_kata_44 in kata_44:\n",
    "    print(kata_kata_44)"
   ]
  },
  {
   "cell_type": "markdown",
   "id": "ec748747",
   "metadata": {},
   "source": [
    "Berdasarkan program di atas, dapat dilihat perbedaannya. Jika data iterable nya berbentuk 1 kalimat, maka tampilan outputnya menjadi menurun kebawah, hal itu karena dalam 1 kalimat terdapat banyak objek sehingga program perkarakter merupakan 1 objek.\n",
    "Namun, apabila data iterable nya dalam bentuk data list, maka outputnya sama dengan isi dalam data iterable nya yang disusun kebawah perkata."
   ]
  },
  {
   "cell_type": "markdown",
   "id": "ba52ea4b",
   "metadata": {},
   "source": [
    "# 5.15 Fungsi Range"
   ]
  },
  {
   "cell_type": "markdown",
   "id": "5d4e2686",
   "metadata": {},
   "source": [
    "Fungsi Range dapat dikatakan sebuah fungsi yang berbentuk list dengan rentang/batas tertentu. Fungsi Range dapat dikombinasikan dengan For Loop."
   ]
  },
  {
   "cell_type": "markdown",
   "id": "c11bcdea",
   "metadata": {},
   "source": [
    "### Contoh 1"
   ]
  },
  {
   "cell_type": "code",
   "execution_count": 36,
   "id": "087a25af",
   "metadata": {},
   "outputs": [
    {
     "name": "stdout",
     "output_type": "stream",
     "text": [
      "range(0, 12)\n"
     ]
    }
   ],
   "source": [
    "##Mendeklarasikan variabel\n",
    "angka_44 = range(12)              ##nama_variabel = range(batas)\n",
    "\n",
    "##Menampilkan data angka_44\n",
    "print(angka_44)"
   ]
  },
  {
   "cell_type": "markdown",
   "id": "754cffc7",
   "metadata": {},
   "source": [
    "Struktur: range(batas bawah, batas atas, interval/loncatan)"
   ]
  },
  {
   "cell_type": "markdown",
   "id": "0a782ea8",
   "metadata": {},
   "source": [
    "Program di atas digunakan untuk menampilkan range dari angka_44, dimana range sendiri berfungsi untuk membentuk suatu list dengan data yang ada. Dari program di atas, diketahui bahwa range(12) berarti rentangnya antara 0 sampai 12."
   ]
  },
  {
   "cell_type": "markdown",
   "id": "2d495a42",
   "metadata": {},
   "source": [
    "### Contoh 2"
   ]
  },
  {
   "cell_type": "code",
   "execution_count": 37,
   "id": "af7dffcd",
   "metadata": {},
   "outputs": [
    {
     "name": "stdout",
     "output_type": "stream",
     "text": [
      "0\n",
      "1\n",
      "2\n",
      "3\n",
      "4\n",
      "5\n",
      "6\n",
      "7\n",
      "8\n",
      "9\n",
      "10\n",
      "11\n"
     ]
    }
   ],
   "source": [
    "##Mengkombinasikan for loop dengan fungsi range\n",
    "\n",
    "for data_44 in angka_44:          ##for <variabel> in <iterable>\n",
    "    print(data_44)                ##<perintah>\n",
    "    \n",
    "##data_44 digunakan untuk menampung data dari iterable sehingga dapat ditampilkan/dikemas dalam 1 variabel baru"
   ]
  },
  {
   "cell_type": "markdown",
   "id": "46efe0bd",
   "metadata": {},
   "source": [
    "Output yang ditampilkan berasal dari data_44 yang menampung perulangan dari angka_44, dimana sebelumnya angka_44 memiliki range(0, 12). Lalu mengapa yang ditampilkan hanya 0 sampai 11 saja?\n",
    "Itu karena 0 merupakan batas awal dan 12 merupakan batas akhir, sehingga 12 tidak termasuk dalam data list."
   ]
  },
  {
   "cell_type": "markdown",
   "id": "8c7c1cce",
   "metadata": {},
   "source": [
    "### Contoh 3"
   ]
  },
  {
   "cell_type": "code",
   "execution_count": 38,
   "id": "77540d3e",
   "metadata": {},
   "outputs": [
    {
     "name": "stdout",
     "output_type": "stream",
     "text": [
      "3\n",
      "4\n",
      "5\n",
      "6\n",
      "7\n",
      "8\n"
     ]
    }
   ],
   "source": [
    "##Menampilkan data list dari range(3, 9)\n",
    "for data_44 in range(3, 9):     ##for <variabel> in <iterabel/range(batas awal, batas akhir)>\n",
    "    print(data_44)              ##<perintah>"
   ]
  },
  {
   "cell_type": "markdown",
   "id": "f4019d65",
   "metadata": {},
   "source": [
    "Dalam program di atas, yang diminta untuk ditampilkan adalah range (3, 9). Itu artinya yang akan ditampilkan adalah 3 sampai 8 saja."
   ]
  },
  {
   "cell_type": "markdown",
   "id": "675eb748",
   "metadata": {},
   "source": [
    "### Contoh 4"
   ]
  },
  {
   "cell_type": "code",
   "execution_count": 43,
   "id": "b65c0971",
   "metadata": {},
   "outputs": [
    {
     "name": "stdout",
     "output_type": "stream",
     "text": [
      "1\n",
      "3\n",
      "5\n",
      "7\n",
      "9\n"
     ]
    }
   ],
   "source": [
    "##Menampilkan data list dari range(1, 11, 2)\n",
    "for data_44 in range(1, 11, 2):      ##for <variabel> in <iterabel/range(batas awal, batas akhir, interval)>\n",
    "    print(data_44)                   ##<perintah>"
   ]
  },
  {
   "cell_type": "markdown",
   "id": "e7c579a4",
   "metadata": {},
   "source": [
    "Range (1, 11, 2) berarti menampilkan data dari range dengan batas awal 1, batas akhir 11, dan interval 2. Maka yang akan muncul adalah 1+2, 3+2, dan seterusnya sampai batas akhir yang telah ditentukan."
   ]
  },
  {
   "cell_type": "markdown",
   "id": "2dd2b4d1",
   "metadata": {},
   "source": [
    "### Contoh 5"
   ]
  },
  {
   "cell_type": "code",
   "execution_count": 45,
   "id": "620bc652",
   "metadata": {},
   "outputs": [
    {
     "name": "stdout",
     "output_type": "stream",
     "text": [
      "Mahasiswa ke-0\n",
      "Mahasiswa ke-1\n",
      "Mahasiswa ke-2\n",
      "Mahasiswa ke-3\n",
      "Mahasiswa ke-4\n",
      "Mahasiswa ke-5\n"
     ]
    }
   ],
   "source": [
    "##Menampilkan data list dengan range(6) untuk menampilkan data mahasiswa\n",
    "for urutan_44 in range(6):                        ##for <variabel> in range(range_yg_diinginkan)\n",
    "    print('Mahasiswa ke-' + str(urutan_44))       ##print('kalimat/kata yg digunakan' + str(nama_variabel))"
   ]
  },
  {
   "cell_type": "markdown",
   "id": "d696f000",
   "metadata": {},
   "source": [
    "Untuk menampilkan data list mahasiswa sebanyak 6 kali, maka digunakan pada range(6) yang merupakan batasnya. Sehingga yang muncul terdapat 6 output saja. Dimulai dari Mahasiswa ke-0 sampai Mahasiswa ke-5."
   ]
  },
  {
   "cell_type": "markdown",
   "id": "c4e73c7b",
   "metadata": {},
   "source": [
    "### Contoh Program 1"
   ]
  },
  {
   "cell_type": "code",
   "execution_count": 47,
   "id": "27c26b99",
   "metadata": {},
   "outputs": [
    {
     "name": "stdout",
     "output_type": "stream",
     "text": [
      "6\n"
     ]
    }
   ],
   "source": [
    "##Deklarasi data variabel\n",
    "data_44 = [1, 2, 3, 4, 5, 6, 5, 4, 3, 2, 1]\n",
    "\n",
    "##Mendeklarasikan bahwa isi dari variabel terbesar_44 merupakan data_44 dengan index ke-0 yaitu 1\n",
    "terbesar_44 = data_44[0]                ##data_44[0] = 1, sehingga terbesar_44 = data_44[0] = 1\n",
    "\n",
    "for i_44 in range(len(data_44)):        ##for <variabel> in range(len(iterable)), len(data_44) = 11 (panjang data)\n",
    "    if data_44[i_44] > terbesar_44:     ##data_44[i_44] = 1, terbesar_44 = 1\n",
    "        terbesar_44 = data_44[i_44]\n",
    "print(terbesar_44)"
   ]
  },
  {
   "cell_type": "markdown",
   "id": "3695e716",
   "metadata": {},
   "source": [
    "Dalam program di atas, akan dicari angkan terbesar dari suatu data list. Dimana untuk mencari angka terbesar dalam data list digunakan for loop. "
   ]
  },
  {
   "cell_type": "markdown",
   "id": "aa98ebe3",
   "metadata": {},
   "source": [
    "Pada perulangan, diketahui untuk i_44 dalam range data_44. Jika data_44[i_44] > terbesar_44, maka terbesar_44 = data_44[i_44].\n",
    "-Perulangan 1 : \n",
    "data_44[0] > terbesar_44, dimana data_44[0] = 1 dan terbesar_44 = 1. Karena tidak memenuhi kondisi, maka dilakukan looping kembalin.\n",
    "-Perulangan 2 :\n",
    "data_44[1] > terbesar_44, dimana data_44[1] = 2 dan terbesar_44 = 1. Karena memenuhi kondisi, maka berlaku terbesar_44 = data_44[i_44]. Sehingga terbesar_44 menjadi 2.\n",
    "-Perulangan 3 :\n",
    "data_44[2] > terbesar_44, dimana data_44[2] = 3 dan terbesar_44 = 2. Karena memenuhi kondisi, maka berlaku terbesar_44 = data_44[i_44]. Sehingga terbesar_44 menjadi 3.\n",
    "Dan seterusnya."
   ]
  },
  {
   "cell_type": "markdown",
   "id": "d110b2c2",
   "metadata": {},
   "source": [
    "Sehingga dari perulangan di atas diperoleh 6 sebagai data terbesar. Yang telah diperiksa melalui for loop pada program di atas."
   ]
  },
  {
   "cell_type": "markdown",
   "id": "74d440d6",
   "metadata": {},
   "source": [
    "### Contoh Program 2"
   ]
  },
  {
   "cell_type": "code",
   "execution_count": 3,
   "id": "c6424742",
   "metadata": {},
   "outputs": [
    {
     "name": "stdout",
     "output_type": "stream",
     "text": [
      "[1, 2, 3, 4, 5, 6, 7, 8]\n"
     ]
    }
   ],
   "source": [
    "##Deklarasikan variabel data list\n",
    "nomor_44 = [1, 2, 3, 4, 5, 6, 3, 4, 5, 7, 8, 7]\n",
    "\n",
    "##Membuat list kosong\n",
    "nomor_unik_44 = []                            ##variabel baru untuk menampung data\n",
    "\n",
    "for bagian_44 in nomor_44:                    ##bagian_44 digunakan untuk menampung data perulangan dari nomor_44\n",
    "    if bagian_44 not in nomor_unik_44:        ##jika data bagian_44 tidak ada di dalam nomor_unik_44, maka:\n",
    "        nomor_unik_44.append(bagian_44)       ##akan ditambahkan data tersebut menggunakan metode append\n",
    "print(nomor_unik_44)                          ##Menampilkan data pada variabel list nomor_unik_44"
   ]
  },
  {
   "cell_type": "markdown",
   "id": "daf90115",
   "metadata": {},
   "source": [
    "Pada program di atas, akan dilakukan pemisahan agar tidak ada data yang sama dalam list. Dilakukan perulangan mulai dari data dengan index ke 0, jika dia tidak ada/bukan dalam nomor_unik_44 maka akan dilakukan penambahan data menggunakan metode append, dan begitu seterusnya. Namun jika tidak memenuhi kondisi if bagian_44 not in nomor_unik_44, maka tidak ada data yang akan ditambahkan ke dalam nomor_unik_44, karena datanya sama (data ada/in dalam nomor_unik_44)."
   ]
  },
  {
   "cell_type": "code",
   "execution_count": null,
   "id": "cd13f835",
   "metadata": {},
   "outputs": [],
   "source": []
  }
 ],
 "metadata": {
  "kernelspec": {
   "display_name": "Python 3 (ipykernel)",
   "language": "python",
   "name": "python3"
  },
  "language_info": {
   "codemirror_mode": {
    "name": "ipython",
    "version": 3
   },
   "file_extension": ".py",
   "mimetype": "text/x-python",
   "name": "python",
   "nbconvert_exporter": "python",
   "pygments_lexer": "ipython3",
   "version": "3.9.13"
  }
 },
 "nbformat": 4,
 "nbformat_minor": 5
}
