{
 "cells": [
  {
   "cell_type": "markdown",
   "id": "8a6553e2",
   "metadata": {},
   "source": [
    "# 5.16 List 2 Dimensi"
   ]
  },
  {
   "cell_type": "markdown",
   "id": "7fde30b4",
   "metadata": {},
   "source": [
    "List 2 dimensi adalah list yang didalamnya terdapat list lagi, sehingga ada list di dalam list. Apabila digambarkan seperti matriks, maka akan terdapat baris dan kolom. Sehingga list tersebut menjadi 2 dimensi."
   ]
  },
  {
   "cell_type": "markdown",
   "id": "66e81b3d",
   "metadata": {},
   "source": [
    "### Contoh 1"
   ]
  },
  {
   "cell_type": "code",
   "execution_count": 3,
   "id": "4295b39b",
   "metadata": {},
   "outputs": [
    {
     "name": "stdout",
     "output_type": "stream",
     "text": [
      "[[1, 2, 3, 4], [5, 6, 7, 8], [9, 10, 11, 12], [13, 14, 15, 16]]\n"
     ]
    }
   ],
   "source": [
    "##Mendeklarasikan list 2 dimensi        ##Struktur List 2 dimensi\n",
    "matriks_44 = [                          ##nama_variabel_list = [\n",
    "    [1, 2, 3, 4],                                ##[data_list1, data_list2, data_list3],\n",
    "    [5, 6, 7, 8],                                ##[data_list4, data_list5, data_list6], \n",
    "    [9, 10, 11, 12],                             ##[data_list7, data_list8, data_list9]\n",
    "    [13, 14, 15, 16]                    ##]\n",
    "]\n",
    "\n",
    "print(matriks_44)"
   ]
  },
  {
   "cell_type": "markdown",
   "id": "cced5c6d",
   "metadata": {},
   "source": [
    "Struktur list matriks dari output di atas adalah:\n",
    "[[baris1 index ke-0], [baris2 index ke-1], [baris3 index ke-2], [baris4 index ke-3]], dengan [[kolom1 index ke 0, kolom2 index ke 1, kolom3 index ke 2, kolom4 index ke 3]], dan begitu seterusnya."
   ]
  },
  {
   "cell_type": "markdown",
   "id": "0980f7a7",
   "metadata": {},
   "source": [
    "Program di atas digunakan untuk menampilkan data list dalam bentuk matriks. Karena program di atas merupakan list 2 dimensi, sehingga terdapat baris dan kolom di dalamnya."
   ]
  },
  {
   "cell_type": "code",
   "execution_count": 5,
   "id": "5e8f4d1d",
   "metadata": {},
   "outputs": [
    {
     "data": {
      "text/plain": [
       "[5, 6, 7, 8]"
      ]
     },
     "execution_count": 5,
     "metadata": {},
     "output_type": "execute_result"
    }
   ],
   "source": [
    "##Menampilkan matriks_44 dengan baris index ke-1\n",
    "\n",
    "matriks_44[1]               ##nama_variabel_list[baris_dengan_index_yang_akan_ditampilkan]"
   ]
  },
  {
   "cell_type": "code",
   "execution_count": 6,
   "id": "ed7db575",
   "metadata": {},
   "outputs": [
    {
     "data": {
      "text/plain": [
       "7"
      ]
     },
     "execution_count": 6,
     "metadata": {},
     "output_type": "execute_result"
    }
   ],
   "source": [
    "##Menampilkan matriks_44 dengan baris index ke-1 dan kolom index ke-2\n",
    "\n",
    "matriks_44[1][2]           ##nama_variabel_list[baris][kolom]"
   ]
  },
  {
   "cell_type": "code",
   "execution_count": 8,
   "id": "167e9520",
   "metadata": {},
   "outputs": [
    {
     "name": "stdout",
     "output_type": "stream",
     "text": [
      "100\n"
     ]
    }
   ],
   "source": [
    "##Mengubah isi data list matriks \n",
    "\n",
    "matriks_44[1][2] = 100     ##nama_variabel_list[baris][kolom] = data_baru\n",
    "print(matriks_44[1][2])    ##print(nama_variabel_list[baris][kolom])"
   ]
  },
  {
   "cell_type": "markdown",
   "id": "e7ac3920",
   "metadata": {},
   "source": [
    "Program di atas digunakan untuk mengubah data dalam data list matriks pada baris dengan index ke 1 dan pada kolom dengan index ke 2, yang awal datanya adalah 7 diganti menjadi 100."
   ]
  },
  {
   "cell_type": "code",
   "execution_count": 9,
   "id": "541c7b54",
   "metadata": {},
   "outputs": [
    {
     "data": {
      "text/plain": [
       "[[1, 2, 3, 4], [5, 6, 100, 8], [9, 10, 11, 12], [13, 14, 15, 16]]"
      ]
     },
     "execution_count": 9,
     "metadata": {},
     "output_type": "execute_result"
    }
   ],
   "source": [
    "##Memanggil data list matriks_44\n",
    "\n",
    "matriks_44"
   ]
  },
  {
   "cell_type": "markdown",
   "id": "ce9214fe",
   "metadata": {},
   "source": [
    "Program di atas adalah data list matriks_44 yang sebelumnya sudah diubah datanya pada baris dengan index ke 1 dan pada kolom dengan index ke 2."
   ]
  },
  {
   "cell_type": "markdown",
   "id": "aab44688",
   "metadata": {},
   "source": [
    "### Contoh 2"
   ]
  },
  {
   "cell_type": "markdown",
   "id": "26508f10",
   "metadata": {},
   "source": [
    "Penerapan List 2 Dimensi"
   ]
  },
  {
   "cell_type": "code",
   "execution_count": 12,
   "id": "b6f93205",
   "metadata": {},
   "outputs": [
    {
     "name": "stdout",
     "output_type": "stream",
     "text": [
      "[1, 2, 3, 4]\n",
      "1\n",
      "2\n",
      "3\n",
      "4\n",
      "[5, 6, 100, 8]\n",
      "5\n",
      "6\n",
      "100\n",
      "8\n",
      "[9, 10, 11, 12]\n",
      "9\n",
      "10\n",
      "11\n",
      "12\n",
      "[13, 14, 15, 16]\n",
      "13\n",
      "14\n",
      "15\n",
      "16\n"
     ]
    }
   ],
   "source": [
    "##Looping untuk menampilkan data list matriks_44 menggunakan for loop\n",
    "\n",
    "for baris_44 in matriks_44:        ##for <variabel> in <iterabel>\n",
    "    print(baris_44)                      ##perintah\n",
    "    for kolom_44 in baris_44:            ##for <variabel> in <iterabel>\n",
    "        print(kolom_44)                        ##<perintah>"
   ]
  },
  {
   "cell_type": "markdown",
   "id": "f5cd21d1",
   "metadata": {},
   "source": [
    "Pada program di atas akan dilakukan looping menggunakan for dalam for untuk menampilkan data list."
   ]
  },
  {
   "cell_type": "markdown",
   "id": "baaee75f",
   "metadata": {},
   "source": [
    "baris_44 digunakan untuk menampung data matriks_44 dalam perulangan, lalu setelah dilakukan perintah print(baris_44). Dilakukan for loop untuk manmpilkan data kolom_44 yang digunakan untuk menampung data baris_44. Jadi perulangan dalam for loop kedua dilakukan hanya sampai data baris_44 selesai, baru setelah itu program akan melakukan looping kembali ke for loop paling luar. Begitu seterusnya, hingga data dalam variabel list matriks_44 habis."
   ]
  },
  {
   "cell_type": "markdown",
   "id": "d18bb5b3",
   "metadata": {},
   "source": [
    "### Contoh 3"
   ]
  },
  {
   "cell_type": "code",
   "execution_count": 13,
   "id": "427f961e",
   "metadata": {},
   "outputs": [
    {
     "name": "stdout",
     "output_type": "stream",
     "text": [
      "[['Bakso', 'Nasi Goreng', 'Pizza'], ['Nasi Uduk', 'Pecel', 'Ayam Geprek']]\n"
     ]
    }
   ],
   "source": [
    "##Mendeklarasikan variabel data list\n",
    "                                                 ##Struktur List 2 Dimensi\n",
    "list_makanan_44 = [                              ##nama_variabel_list = [\n",
    "    ['Bakso', 'Nasi Goreng', 'Pizza'],           ##      ['data_list1', 'data_list2', 'data_list3'],\n",
    "    ['Nasi Uduk', 'Pecel', 'Ayam Geprek']        ##      ['data_list4', 'data_list5', 'data_list6']\n",
    "]                                                ##]\n",
    "\n",
    "##Menampilkan data list_makanan_44\n",
    "print(list_makanan_44)"
   ]
  },
  {
   "cell_type": "code",
   "execution_count": 15,
   "id": "784ee7d0",
   "metadata": {},
   "outputs": [
    {
     "name": "stdout",
     "output_type": "stream",
     "text": [
      "Bakso\n",
      "Nasi Goreng\n",
      "Pizza\n",
      "Nasi Uduk\n",
      "Pecel\n",
      "Ayam Geprek\n"
     ]
    }
   ],
   "source": [
    "##Looping untuk menampilkan data list_makanan_44 menggunakan for loop\n",
    "\n",
    "for menu_44 in list_makanan_44:          ##for <variabel> in <iterabel>:\n",
    "    for makanan_44 in menu_44:           ##    for <variabel> in <iterabel>:\n",
    "        print(makanan_44)                ##          <perintah>"
   ]
  },
  {
   "cell_type": "markdown",
   "id": "be675804",
   "metadata": {},
   "source": [
    "Program di atas dimulai dengan perulangan pada variabel menu_44 yang digunakan untuk menampung data list_makanan_44, lalu data nya akan melakukan perulangan dalam for loop kedua. Sehingga data tadi ada di dalam variabel menu_44, yang selanjutnya akan melakukan perulangan melalui variabel makanan_44 yang digunakan untuk menampung data dari menu_44. Setelah itu akan dijalankan perintah untuk melakukan print pada variabel makanan_44. Sehingga data yang ditampilkan akan ditampilkan ke bawah, karena terdapat for dalam for."
   ]
  },
  {
   "cell_type": "markdown",
   "id": "eb269770",
   "metadata": {},
   "source": [
    "### Contoh 4"
   ]
  },
  {
   "cell_type": "code",
   "execution_count": 20,
   "id": "95ec1bec",
   "metadata": {},
   "outputs": [],
   "source": [
    "##Mendeklarasikan list vektor1_44 dan vektor2_44\n",
    "\n",
    "vektor1_44 = [1, 2, 3, 4]\n",
    "vektor2_44 = [5, 6, 7, 8]"
   ]
  },
  {
   "cell_type": "code",
   "execution_count": 18,
   "id": "e28a78be",
   "metadata": {},
   "outputs": [
    {
     "name": "stdout",
     "output_type": "stream",
     "text": [
      "[6, 8, 10, 12]\n"
     ]
    }
   ],
   "source": [
    "##Mendeklarasikan list jumlah_vektor_44\n",
    "jumlah_vektor_44 = [0, 0, 0, 0]\n",
    "\n",
    "##Looping untuk melakukan penjumlahan list data\n",
    "for isi_44 in range(len(vektor1_44)):\n",
    "    jumlah_vektor_44[isi_44] = vektor1_44[isi_44] + vektor2_44[isi_44]\n",
    "print(jumlah_vektor_44)"
   ]
  },
  {
   "cell_type": "markdown",
   "id": "051d102e",
   "metadata": {},
   "source": [
    "Program di atas digunakan untuk menjumlahkan vektor1_44 dengan vektor2_44 yang datanya ditampung dalam jumlah_vektor_44. Untuk melakukan perulangan data, isi_44 akan menampung data dari panjang vektor1_44. Sehingga ketika dilakukan perulangan, perulangan tersebut akan terjadi sebanyak panjang dari vektor1_44. Lalu dilakukan perintah untuk melakukan penjumlahan pada data list 2 dimensi vektor1_44 dengan vektor2_44, yang hasil penjumlahannya akan ditampung/disimpan di variabel jumlah_vektor_44. Lalu setelah perulangan selesai, dilakukan print untuk menampilkan hasil dari penjumlahan diluar for loop."
   ]
  },
  {
   "cell_type": "markdown",
   "id": "d2dff4ff",
   "metadata": {},
   "source": [
    "# 5.17 Tuples"
   ]
  },
  {
   "cell_type": "markdown",
   "id": "32ab7437",
   "metadata": {},
   "source": [
    "Tuples sama dengan list, hanya saja tuples datanya tidak dapat diubah. Jadi, tuples biasanya digunakan untuk penggunaan data yang isinya tidak akan diubah lagi. Apabila masih ingin melakukan pengubahan isi data, bisa menggunakan list saja."
   ]
  },
  {
   "cell_type": "code",
   "execution_count": 22,
   "id": "3b18ce88",
   "metadata": {},
   "outputs": [],
   "source": [
    "##Deklarasikan variabel tuples\n",
    "angka_44 = (0, 1, 1, 3, 4, 5) "
   ]
  },
  {
   "cell_type": "code",
   "execution_count": 25,
   "id": "1a2e97f6",
   "metadata": {},
   "outputs": [
    {
     "name": "stdout",
     "output_type": "stream",
     "text": [
      "0\n"
     ]
    }
   ],
   "source": [
    "##Menampilkan data tuples angka_44 pada index ke 0\n",
    "print(angka_44[0])"
   ]
  },
  {
   "cell_type": "code",
   "execution_count": 26,
   "id": "a96c01b7",
   "metadata": {},
   "outputs": [
    {
     "name": "stdout",
     "output_type": "stream",
     "text": [
      "(0, 1, 1)\n"
     ]
    }
   ],
   "source": [
    "##Menampilkan data tuples angka_44 pada index ke 0 sampai 3 (data dengan index ke 3 tidak ikut ditampilkan, hanya sampai ke 2)\n",
    "print(angka_44[0:3])"
   ]
  },
  {
   "cell_type": "code",
   "execution_count": 28,
   "id": "85f861be",
   "metadata": {},
   "outputs": [
    {
     "name": "stdout",
     "output_type": "stream",
     "text": [
      "0\n",
      "1\n",
      "1\n"
     ]
    }
   ],
   "source": [
    "##Melakukan perulangan for untuk menampilkan data tuples angka_44 dari index ke 0 sampai index ke 3\n",
    "\n",
    "for isi_44 in angka_44[0:3]:        ##for <variabel> in <iterabel>:\n",
    "    print(isi_44)                   ##     <perintah>  "
   ]
  },
  {
   "cell_type": "markdown",
   "id": "061c4070",
   "metadata": {},
   "source": [
    "Program diatas melakukan perulangan dengan menyimpan data perulangan dalam variabel isi_44 yang digunakan untuk menampung data dari angka_44. Jadi yang melakukan perulangan for hanya data tuples dengan index ke 0 sampai index ke 3 saja."
   ]
  },
  {
   "cell_type": "code",
   "execution_count": 29,
   "id": "f3e4ecf7",
   "metadata": {},
   "outputs": [
    {
     "ename": "TypeError",
     "evalue": "'tuple' object does not support item assignment",
     "output_type": "error",
     "traceback": [
      "\u001b[1;31m---------------------------------------------------------------------------\u001b[0m",
      "\u001b[1;31mTypeError\u001b[0m                                 Traceback (most recent call last)",
      "\u001b[1;32m~\\AppData\\Local\\Temp\\ipykernel_14264\\1178052555.py\u001b[0m in \u001b[0;36m<module>\u001b[1;34m\u001b[0m\n\u001b[1;32m----> 1\u001b[1;33m \u001b[0mangka_44\u001b[0m\u001b[1;33m[\u001b[0m\u001b[1;36m0\u001b[0m\u001b[1;33m]\u001b[0m \u001b[1;33m=\u001b[0m \u001b[1;36m10\u001b[0m\u001b[1;33m\u001b[0m\u001b[1;33m\u001b[0m\u001b[0m\n\u001b[0m",
      "\u001b[1;31mTypeError\u001b[0m: 'tuple' object does not support item assignment"
     ]
    }
   ],
   "source": [
    "##Mengubah data tuples angka_44 dengan index ke 0 menjadi 10\n",
    "angka_44[0] = 10"
   ]
  },
  {
   "cell_type": "markdown",
   "id": "c496c92f",
   "metadata": {},
   "source": [
    "Kode di atas error karena data tuples tidak dapat diubah. Sehingga terjadi error, dan tidak mengubah apapun"
   ]
  },
  {
   "cell_type": "code",
   "execution_count": 31,
   "id": "92b61f57",
   "metadata": {},
   "outputs": [
    {
     "ename": "AttributeError",
     "evalue": "'tuple' object has no attribute 'append'",
     "output_type": "error",
     "traceback": [
      "\u001b[1;31m---------------------------------------------------------------------------\u001b[0m",
      "\u001b[1;31mAttributeError\u001b[0m                            Traceback (most recent call last)",
      "\u001b[1;32m~\\AppData\\Local\\Temp\\ipykernel_14264\\3148776055.py\u001b[0m in \u001b[0;36m<module>\u001b[1;34m\u001b[0m\n\u001b[0;32m      1\u001b[0m \u001b[1;31m##Mengubah data tuples angka_44 dari belakang atau akhir\u001b[0m\u001b[1;33m\u001b[0m\u001b[1;33m\u001b[0m\u001b[0m\n\u001b[1;32m----> 2\u001b[1;33m \u001b[0mangka_44\u001b[0m\u001b[1;33m.\u001b[0m\u001b[0mappend\u001b[0m\u001b[1;33m(\u001b[0m\u001b[1;36m10\u001b[0m\u001b[1;33m)\u001b[0m\u001b[1;33m\u001b[0m\u001b[1;33m\u001b[0m\u001b[0m\n\u001b[0m",
      "\u001b[1;31mAttributeError\u001b[0m: 'tuple' object has no attribute 'append'"
     ]
    }
   ],
   "source": [
    "##Mengubah data tuples angka_44 dari belakang atau akhir\n",
    "angka_44.append(10)"
   ]
  },
  {
   "cell_type": "markdown",
   "id": "b9f34b6a",
   "metadata": {},
   "source": [
    "Kode di atas error karena data tuples tidak dapat diubah dari depan maupun belakang. Sehingga terjadi error, dan tidak mengubah apapun"
   ]
  },
  {
   "cell_type": "code",
   "execution_count": 32,
   "id": "7053e665",
   "metadata": {},
   "outputs": [
    {
     "ename": "AttributeError",
     "evalue": "'tuple' object has no attribute 'remove'",
     "output_type": "error",
     "traceback": [
      "\u001b[1;31m---------------------------------------------------------------------------\u001b[0m",
      "\u001b[1;31mAttributeError\u001b[0m                            Traceback (most recent call last)",
      "\u001b[1;32m~\\AppData\\Local\\Temp\\ipykernel_14264\\1863272562.py\u001b[0m in \u001b[0;36m<module>\u001b[1;34m\u001b[0m\n\u001b[1;32m----> 1\u001b[1;33m \u001b[0mangka_44\u001b[0m\u001b[1;33m.\u001b[0m\u001b[0mremove\u001b[0m\u001b[1;33m(\u001b[0m\u001b[1;36m5\u001b[0m\u001b[1;33m)\u001b[0m\u001b[1;33m\u001b[0m\u001b[1;33m\u001b[0m\u001b[0m\n\u001b[0m",
      "\u001b[1;31mAttributeError\u001b[0m: 'tuple' object has no attribute 'remove'"
     ]
    }
   ],
   "source": [
    "##Menghapus data tuples angka_44\n",
    "angka_44.remove(5)"
   ]
  },
  {
   "cell_type": "markdown",
   "id": "dd4b6f91",
   "metadata": {},
   "source": [
    "Kode di atas error karena data tuples tidak dapat diubah maupun dihapus. Sehingga terjadi error, dan tidak mengubah apapun"
   ]
  },
  {
   "cell_type": "code",
   "execution_count": 34,
   "id": "28086a13",
   "metadata": {},
   "outputs": [
    {
     "data": {
      "text/plain": [
       "2"
      ]
     },
     "execution_count": 34,
     "metadata": {},
     "output_type": "execute_result"
    }
   ],
   "source": [
    "##Menghitung jumlah data menggunakan fungsi count\n",
    "angka_44.count(1)                 ##nama_tuples.count(data_yang_ingin_dihitung)"
   ]
  },
  {
   "cell_type": "markdown",
   "id": "a3920bf2",
   "metadata": {},
   "source": [
    "Program di atas digunakan untuk menghitung jumlah data yang di panggil. Pada tuples angka_44 data 1 ada sebanyak 2. Sehingga outputnya = 2."
   ]
  },
  {
   "cell_type": "code",
   "execution_count": 36,
   "id": "441e16db",
   "metadata": {},
   "outputs": [
    {
     "data": {
      "text/plain": [
       "3"
      ]
     },
     "execution_count": 36,
     "metadata": {},
     "output_type": "execute_result"
    }
   ],
   "source": [
    "##Menampilkan tuples menggunakan fungsi index\n",
    "angka_44.index(3)                 ##nama_tuples.index(data_yang_ingin_ditampilkan)"
   ]
  },
  {
   "cell_type": "markdown",
   "id": "d23d429a",
   "metadata": {},
   "source": [
    "Program di atas digunakan untuk menampilkan atau memanggil data tuples dengan index ke 3. Sehingga outputnya = 3."
   ]
  },
  {
   "cell_type": "markdown",
   "id": "2328bfd2",
   "metadata": {},
   "source": [
    "Kesimpulannya, data pada tuples tidak dapat ditambah maupun dihapus. Karena data tuples merupakan data tetap yang tidak dapat diubah."
   ]
  },
  {
   "cell_type": "markdown",
   "id": "cadba8ca",
   "metadata": {},
   "source": [
    "# 5.18 Dictionaries"
   ]
  },
  {
   "cell_type": "markdown",
   "id": "5890d089",
   "metadata": {},
   "source": [
    "Dictionaries adalah tipe data pada Python yang digunakan untuk menyimpan kumpulan data dengan pendekatan \"key-value\". Komponen pada dictionary ada 2, yaitu key yang merupakan nama atribut suatu item pada dictionary, dan value yang merupakan nilai/data yang disimpan pada suatu atribut."
   ]
  },
  {
   "cell_type": "code",
   "execution_count": 1,
   "id": "f2c99254",
   "metadata": {},
   "outputs": [],
   "source": [
    "##Mendeklarasikan dictionary dengan 3 atribut(key)\n",
    "                                                ##Struktur dictionary\n",
    "data_orang_44 = {                               ##nama_dictionary = {\n",
    "    'nama' : 'Alifa Fitriana Putri Yuaswan',    ##     'nama_atribut1' : 'data dalam atribut', disini bertipe data string\n",
    "    'umur' : 20,                                ##     'nama_atribut2' : 'data dalam atribut', disini bertipe data int\n",
    "    'apakah_singel' : True                      ##     'nama_atribut3' : 'data dalam atribut', disini bertipe data boolean\n",
    "}"
   ]
  },
  {
   "cell_type": "markdown",
   "id": "5f0dd2be",
   "metadata": {},
   "source": [
    "Note: Tipe data pada data dalam atribut bisa apa saja, tergantung apa yang diinginkan. Program di atas hanya contoh saja."
   ]
  },
  {
   "cell_type": "markdown",
   "id": "691b41ee",
   "metadata": {},
   "source": [
    "### Menampilkan data dalam Dictionary"
   ]
  },
  {
   "cell_type": "code",
   "execution_count": 2,
   "id": "3d4757ac",
   "metadata": {},
   "outputs": [
    {
     "name": "stdout",
     "output_type": "stream",
     "text": [
      "Alifa Fitriana Putri Yuaswan\n"
     ]
    }
   ],
   "source": [
    "##Menampilkan data dengan key/atribut 'nama'\n",
    "print(data_orang_44['nama'])"
   ]
  },
  {
   "cell_type": "code",
   "execution_count": 3,
   "id": "21169836",
   "metadata": {},
   "outputs": [
    {
     "ename": "KeyError",
     "evalue": "'Nama'",
     "output_type": "error",
     "traceback": [
      "\u001b[1;31m---------------------------------------------------------------------------\u001b[0m",
      "\u001b[1;31mKeyError\u001b[0m                                  Traceback (most recent call last)",
      "\u001b[1;32m~\\AppData\\Local\\Temp\\ipykernel_26600\\1870543458.py\u001b[0m in \u001b[0;36m<module>\u001b[1;34m\u001b[0m\n\u001b[1;32m----> 1\u001b[1;33m \u001b[0mprint\u001b[0m\u001b[1;33m(\u001b[0m\u001b[0mdata_orang_44\u001b[0m\u001b[1;33m[\u001b[0m\u001b[1;34m'Nama'\u001b[0m\u001b[1;33m]\u001b[0m\u001b[1;33m)\u001b[0m\u001b[1;33m\u001b[0m\u001b[1;33m\u001b[0m\u001b[0m\n\u001b[0m",
      "\u001b[1;31mKeyError\u001b[0m: 'Nama'"
     ]
    }
   ],
   "source": [
    "##Menampilkan data dengan key/atribut 'Nama'\n",
    "print(data_orang_44['Nama'])"
   ]
  },
  {
   "cell_type": "markdown",
   "id": "361e3a56",
   "metadata": {},
   "source": [
    "Kode di atas error karena key/atribut 'Nama' tidak ada dalam Dictionary, sehingga menjadi error. Ini merupakan case sensitif, sehingga besar kecilnya huruf harus diperhatikan."
   ]
  },
  {
   "cell_type": "markdown",
   "id": "ce826e25",
   "metadata": {},
   "source": [
    "### Mengambil data dalam atribut Dictionary"
   ]
  },
  {
   "cell_type": "code",
   "execution_count": 5,
   "id": "3f40ffda",
   "metadata": {},
   "outputs": [
    {
     "name": "stdout",
     "output_type": "stream",
     "text": [
      "Alifa Fitriana Putri Yuaswan\n"
     ]
    }
   ],
   "source": [
    "##Menampilkan data yang diambil dari atribut 'nama'\n",
    "print(data_orang_44.get('nama'))"
   ]
  },
  {
   "cell_type": "code",
   "execution_count": 6,
   "id": "fa9d5474",
   "metadata": {},
   "outputs": [
    {
     "name": "stdout",
     "output_type": "stream",
     "text": [
      "None\n"
     ]
    }
   ],
   "source": [
    "##Menampilkan data yang diambil dari atribut 'Nama'\n",
    "print(data_orang_44.get('Nama'))"
   ]
  },
  {
   "cell_type": "markdown",
   "id": "f74938f7",
   "metadata": {},
   "source": [
    "Program di atas memiliki output none dikarenakan data dalam atribut yang akan diambil lalu ditampilkan tidak ada (disini terdapat kesahalahan dalam pemanggilan 'Nama', dimana atribut dengan 'Nama' itu tidak ada, yang ada hanya 'nama'), sehingga output menjadi none. Kembali lagi, ini case sensitif sehingga besar kecilnya huruf harus diperhatikan."
   ]
  },
  {
   "cell_type": "code",
   "execution_count": 7,
   "id": "d1d04357",
   "metadata": {},
   "outputs": [
    {
     "name": "stdout",
     "output_type": "stream",
     "text": [
      "None\n"
     ]
    }
   ],
   "source": [
    "##Menampilkan data yang diambil dari atribut 'tanggal lahir'\n",
    "print(data_orang_44.get('tanggal lahir'))"
   ]
  },
  {
   "cell_type": "markdown",
   "id": "b835b164",
   "metadata": {},
   "source": [
    "Program di atas outputnya none karena atribut 'tanggal lahir' tidak ada/tidak ditemukan."
   ]
  },
  {
   "cell_type": "code",
   "execution_count": 9,
   "id": "2b726440",
   "metadata": {},
   "outputs": [
    {
     "name": "stdout",
     "output_type": "stream",
     "text": [
      "26-02-2012\n"
     ]
    }
   ],
   "source": [
    "##Menampilkan data yang diambil dari atribut 'tanggal lahir' dan data dalam atributnya '26-02-2012'\n",
    "print(data_orang_44.get('tanggal lahir', '26-02-2012'))"
   ]
  },
  {
   "cell_type": "markdown",
   "id": "948c1c14",
   "metadata": {},
   "source": [
    "Mengapa data di atas tidak menghasilkan output none padahal tidak ada atribut 'tanggal lahir' pada dictionary? Hal itu disebabkan oleh kodenya. Di atas menunjukkan bahwa akan diambil data dari atribut 'tanggal lahir' yang isinya '26-02-2012', meskipun 'tanggal lahir' tidak ada dalam dictionary, tapi data tersebut akan tetap ditampilkan. Karena sudah dideklarasikan isi dari atributnya. Namun, data tersebut tidak akan tersimpan dalam dictionary, karena kode di atas digunakan hanya untuk mengambil lalu menampilkan data saja."
   ]
  },
  {
   "cell_type": "code",
   "execution_count": 10,
   "id": "15576a20",
   "metadata": {},
   "outputs": [
    {
     "name": "stdout",
     "output_type": "stream",
     "text": [
      "{'nama': 'Alifa Fitriana Putri Yuaswan', 'umur': 20, 'apakah_singel': True}\n"
     ]
    }
   ],
   "source": [
    "##Menampilkan isi dictionary data_orang_44\n",
    "print(data_orang_44)"
   ]
  },
  {
   "cell_type": "markdown",
   "id": "4f3b2aaa",
   "metadata": {},
   "source": [
    "Atribut 'tanggal lahir' tidak ada dalam dictionary di atas karena atribut tersebut tidak ditambahkan sebelumnya."
   ]
  },
  {
   "cell_type": "code",
   "execution_count": 11,
   "id": "422d062c",
   "metadata": {},
   "outputs": [
    {
     "ename": "KeyError",
     "evalue": "'tanggal lahir'",
     "output_type": "error",
     "traceback": [
      "\u001b[1;31m---------------------------------------------------------------------------\u001b[0m",
      "\u001b[1;31mKeyError\u001b[0m                                  Traceback (most recent call last)",
      "\u001b[1;32m~\\AppData\\Local\\Temp\\ipykernel_26600\\2578526448.py\u001b[0m in \u001b[0;36m<module>\u001b[1;34m\u001b[0m\n\u001b[1;32m----> 1\u001b[1;33m \u001b[0mprint\u001b[0m\u001b[1;33m(\u001b[0m\u001b[0mdata_orang_44\u001b[0m\u001b[1;33m[\u001b[0m\u001b[1;34m'tanggal lahir'\u001b[0m\u001b[1;33m]\u001b[0m\u001b[1;33m)\u001b[0m\u001b[1;33m\u001b[0m\u001b[1;33m\u001b[0m\u001b[0m\n\u001b[0m",
      "\u001b[1;31mKeyError\u001b[0m: 'tanggal lahir'"
     ]
    }
   ],
   "source": [
    "##Menampilkan data dictionary dengan atribut 'tanggal lahir'\n",
    "print(data_orang_44['tanggal lahir'])"
   ]
  },
  {
   "cell_type": "markdown",
   "id": "03608543",
   "metadata": {},
   "source": [
    "Program di atas error karena atribut yang akan ditampilkan tidak ada/tidak ditemukan."
   ]
  },
  {
   "cell_type": "markdown",
   "id": "66190c0b",
   "metadata": {},
   "source": [
    "### Menambahkan atribut pada Dictionary"
   ]
  },
  {
   "cell_type": "code",
   "execution_count": 13,
   "id": "b698cb22",
   "metadata": {},
   "outputs": [],
   "source": [
    "##Menambahkan atribut 'HP' pada dictionary data_orang_44\n",
    "data_orang_44['HP'] = '081234567890'"
   ]
  },
  {
   "cell_type": "code",
   "execution_count": 14,
   "id": "070c7f25",
   "metadata": {},
   "outputs": [
    {
     "name": "stdout",
     "output_type": "stream",
     "text": [
      "081234567890\n"
     ]
    }
   ],
   "source": [
    "##Menampilkan data dictionary dengan atribut 'HP'\n",
    "print(data_orang_44['HP'])"
   ]
  },
  {
   "cell_type": "code",
   "execution_count": 15,
   "id": "6c390c76",
   "metadata": {},
   "outputs": [
    {
     "name": "stdout",
     "output_type": "stream",
     "text": [
      "{'nama': 'Alifa Fitriana Putri Yuaswan', 'umur': 20, 'apakah_singel': True, 'HP': '081234567890'}\n"
     ]
    }
   ],
   "source": [
    "print(data_orang_44)"
   ]
  },
  {
   "cell_type": "markdown",
   "id": "cc2a1c97",
   "metadata": {},
   "source": [
    "Atribut 'HP' berhasil ditambahkan dalam dictionary, sehingga ketika diberikan perintah print, dapat ditampilkan outputnya."
   ]
  },
  {
   "cell_type": "markdown",
   "id": "20be4fab",
   "metadata": {},
   "source": [
    "### Contoh 1"
   ]
  },
  {
   "cell_type": "code",
   "execution_count": 17,
   "id": "657cfc31",
   "metadata": {},
   "outputs": [],
   "source": [
    "##Mendeklarasikan dictionary angka_44\n",
    "angka_44 = {\n",
    "    '0' : 'nol',\n",
    "    '1' : 'satu',\n",
    "    '2' : 'dua',\n",
    "    '3' : 'tiga',\n",
    "    '4' : 'empat',\n",
    "    '5' : 'lima',\n",
    "    '6' : 'enam',\n",
    "    '7' : 'tujuh',\n",
    "    '8' : 'delapan',\n",
    "    '9' : 'sembilan'\n",
    "}"
   ]
  },
  {
   "cell_type": "code",
   "execution_count": 18,
   "id": "757c3564",
   "metadata": {},
   "outputs": [
    {
     "name": "stdout",
     "output_type": "stream",
     "text": [
      "Masukkan nomor HP anda : 081346869383\n",
      " nol delapan satu tiga empat enam delapan enam sembilan tiga delapan tiga \n"
     ]
    }
   ],
   "source": [
    "##Digunakan untuk menyimpan data inputan nomor hp\n",
    "nomor_hp_44 = input('Masukkan nomor HP anda : ')\n",
    "\n",
    "##Digunakan untuk menyimpan data atribut angka_44 yang nanti dikonversi dalam bentuk kata\n",
    "nomor_angka_44 = ' '\n",
    "\n",
    "##Perulangan for digunakan untuk menampilkan dan mengambil data nomor_hp_44\n",
    "for isi_44 in nomor_hp_44:                             ##for <variabel> in <iterabel>\n",
    "    nomor_angka_44 += angka_44.get(isi_44) + ' '       ##   <perintah> = penambahan nomor_angka_44 dengan angka_44\n",
    "                                                       ##                (dalam bentuk kata) + ' '\n",
    "    \n",
    "##Menampilkan hasil perulangan yang disimpan dalam variabel nomor_angka_44\n",
    "print(nomor_angka_44)"
   ]
  },
  {
   "cell_type": "markdown",
   "id": "aa6b6a58",
   "metadata": {},
   "source": [
    "Berdasarkan program di atas, akan ditampilkan sebuah konversi dari angka ke kata menggunakan dictionary dan for loop. Dimana dilakukan perulangan dengan isi_44 digunakan untuk menampung data inputan nomor_hp_44, lalu terjadi penambahan data atribut yang disimpan dalam variabel nomor_angka_44, karena terdapat kode angka_44.get(isi_44) maka data yang terambil dalam bentuk kata. Sehingga terjadi perulangan sesuai dengan jumlah inputan dari nomor_hp_44."
   ]
  },
  {
   "cell_type": "markdown",
   "id": "a60ba10d",
   "metadata": {},
   "source": [
    "# 5.19 Fungsi dalam Python"
   ]
  },
  {
   "cell_type": "markdown",
   "id": "8b3c5306",
   "metadata": {},
   "source": [
    "Fungsi dalam Python adalah kumpulan perintah atau kode yang dikelompokkan menjadi satu agar bisa digunakan atau dipanggil berkali-kali. Adapun beberapa jenis fungsi pada Python yaitu, input, print, len, range, dan banyak fungsi lainnya."
   ]
  },
  {
   "cell_type": "code",
   "execution_count": 26,
   "id": "d3a4ea89",
   "metadata": {},
   "outputs": [],
   "source": [
    "##Mendeklarasikan fungsi\n",
    "def full_name(first_name_44, last_name_44):                             ##def nama_fungsi(parameters1, parameters2):\n",
    "    print(f'Nama lengkapnya adalah {first_name_44} {last_name_44}')     ##     perintah//statements    "
   ]
  },
  {
   "cell_type": "code",
   "execution_count": 27,
   "id": "47743aec",
   "metadata": {},
   "outputs": [
    {
     "name": "stdout",
     "output_type": "stream",
     "text": [
      "Nama depan anda adalah Alifa\n",
      "Nama belakang anda adalah Fitriana\n",
      "Nama lengkapnya adalah Alifa Fitriana\n"
     ]
    }
   ],
   "source": [
    "##Mendeklarasikan parameters\n",
    "first_name_44 = input('Nama depan anda adalah ')       ##parameters1\n",
    "last_name_44 = input('Nama belakang anda adalah ')     ##parameters2\n",
    "\n",
    "##Memanggil fungsi full_name\n",
    "full_name(first_name_44, last_name_44)                 ##nama_fungsi(parameters1, parameters2)"
   ]
  },
  {
   "cell_type": "markdown",
   "id": "5f4fcd83",
   "metadata": {},
   "source": [
    "Program di atas adalah tentang pembuatan fungsi yang memiliki 2 parameter. Fungsi di atas digunakan untuk memanggil nama lengkap dari data 2 parameter yang ada, yaitu first name dan last name."
   ]
  },
  {
   "cell_type": "markdown",
   "id": "dddae6f3",
   "metadata": {},
   "source": [
    "## 5.19. 1 Tugas Fungsi pada Python"
   ]
  },
  {
   "cell_type": "markdown",
   "id": "d48ad8f8",
   "metadata": {},
   "source": [
    "Akan dilakukan tugas fungsi pada python, yaitu menjalankan perintah dan menampilkan hasil perhitungan."
   ]
  },
  {
   "cell_type": "markdown",
   "id": "45e003a8",
   "metadata": {},
   "source": [
    "### Contoh 1"
   ]
  },
  {
   "cell_type": "code",
   "execution_count": 40,
   "id": "f5a774db",
   "metadata": {},
   "outputs": [],
   "source": [
    "##Mendeklarasikan fungsi\n",
    "def waktu_sampai(jarak_44, kecepatan_44):         ##def nama_fungsi(parameters1, parameters2):\n",
    "    waktu_44 = jarak_44/kecepatan_44              ##     perintah/statments\n",
    "    print(waktu_44)                               ##     perintah/statments"
   ]
  },
  {
   "cell_type": "code",
   "execution_count": 41,
   "id": "ae898e9c",
   "metadata": {},
   "outputs": [],
   "source": [
    "##Mendeklarasikan fungsi\n",
    "def waktu_tempuh(jarak_44, kecepatan_44):         ##def nama_fungsi(parameters1, parameters2):\n",
    "    waktu_44 = jarak_44/kecepatan_44              ##      perintah/statments\n",
    "    return waktu_44                               ##      perintah/statments"
   ]
  },
  {
   "cell_type": "code",
   "execution_count": 30,
   "id": "4ba60a79",
   "metadata": {},
   "outputs": [
    {
     "name": "stdout",
     "output_type": "stream",
     "text": [
      "1.6666666666666667\n"
     ]
    }
   ],
   "source": [
    "##Memanggil fungsi waktu_sampai dengan parameter (100, 60)\n",
    "waktu_sampai(100, 60)"
   ]
  },
  {
   "cell_type": "code",
   "execution_count": 42,
   "id": "be63a31d",
   "metadata": {},
   "outputs": [
    {
     "data": {
      "text/plain": [
       "1.6666666666666667"
      ]
     },
     "execution_count": 42,
     "metadata": {},
     "output_type": "execute_result"
    }
   ],
   "source": [
    "##Memanggil fungsi waktu_tempuh dengan parameters (100, 60)\n",
    "waktu_tempuh(100, 60)"
   ]
  },
  {
   "cell_type": "code",
   "execution_count": 36,
   "id": "4c67c724",
   "metadata": {},
   "outputs": [
    {
     "name": "stdout",
     "output_type": "stream",
     "text": [
      "1.6666666666666667\n",
      "None\n"
     ]
    }
   ],
   "source": [
    "a_44 = waktu_sampai(100, 60)\n",
    "print(a_44)"
   ]
  },
  {
   "cell_type": "markdown",
   "id": "9eb41be3",
   "metadata": {},
   "source": [
    "Outputnya terdapat none karena pada a_44 digunakan fungsi waktu_sampai, dimana fungsi tersebut tidak terdapat pengembalian nilai. Hanya menjalankan perintah dan menampilkan saja. Sehingga fungsi tidak dapat diolah kembali dan menghasilkan none."
   ]
  },
  {
   "cell_type": "code",
   "execution_count": 37,
   "id": "8c3e6201",
   "metadata": {},
   "outputs": [
    {
     "name": "stdout",
     "output_type": "stream",
     "text": [
      "1.6666666666666667\n"
     ]
    }
   ],
   "source": [
    "b_44 = waktu_tempuh(100, 60)\n",
    "print(b_44)"
   ]
  },
  {
   "cell_type": "markdown",
   "id": "e178a1ea",
   "metadata": {},
   "source": [
    "Disini output tetap sama dengan output dari waktu_tempuh, hal itu dikarenakan fungsi waktu_tempuh terdapat return yang digunakan untuk mengembalikan suatu nilai, sehingga nilai tersebut bisa diolah kembali dengan menggunakan operasi atau disimpan dalam variabel yang berbeda."
   ]
  },
  {
   "cell_type": "markdown",
   "id": "ec1d7438",
   "metadata": {},
   "source": [
    "Berdasarkan program di atas terdapat 2 jenis fungsi, yaitu fungsi tanpa pengembalian nilai dan fungsi dengan pengembalian nilai. Fungsi tanpa pengembalian nilai tidak dapat diolah kembali, sedangkan fungsi dengan pengembalian nilai bisa diolah kembali untuk berbagai kebutuhan."
   ]
  },
  {
   "cell_type": "markdown",
   "id": "c762925e",
   "metadata": {},
   "source": [
    "### Contoh 2"
   ]
  },
  {
   "cell_type": "code",
   "execution_count": 43,
   "id": "a9484427",
   "metadata": {},
   "outputs": [],
   "source": [
    "##Numpy(Numerical Python) adalah sebuah library dalam python\n",
    "import numpy as np "
   ]
  },
  {
   "cell_type": "code",
   "execution_count": 44,
   "id": "c665b4bf",
   "metadata": {},
   "outputs": [],
   "source": [
    "##Mendeklarasikan fungsi\n",
    "def luas_segitiga(alas_44, tinggi_44):\n",
    "    luas_44 = (1/2) * alas_44 * tinggi_44\n",
    "    return luas_44"
   ]
  },
  {
   "cell_type": "code",
   "execution_count": 51,
   "id": "10cb26aa",
   "metadata": {},
   "outputs": [],
   "source": [
    "##Mendeklarasikan fungsi\n",
    "def luas_lingkaran(jari_jari_44):\n",
    "    luas_44 = np.pi * (jari_jari_44 ** 2)\n",
    "    return luas_44"
   ]
  },
  {
   "cell_type": "code",
   "execution_count": 52,
   "id": "d8860aeb",
   "metadata": {},
   "outputs": [],
   "source": [
    "##Mendeklarasikan fungsi\n",
    "def luas_persegi(sisi_44):\n",
    "    luas_44 = sisi_44 ** 2\n",
    "    return luas_44"
   ]
  },
  {
   "cell_type": "code",
   "execution_count": 53,
   "id": "5d45d73d",
   "metadata": {},
   "outputs": [],
   "source": [
    "##Mendeklarasikan fungsi\n",
    "def luas_persegi_panjang(panjang_44, lebar_44):\n",
    "    luas_44 = panjang_44 * lebar_44\n",
    "    return luas_44"
   ]
  },
  {
   "cell_type": "code",
   "execution_count": 48,
   "id": "703613a5",
   "metadata": {},
   "outputs": [
    {
     "name": "stdout",
     "output_type": "stream",
     "text": [
      "Tulis jenis bidangnya segitiga\n",
      "Berapa panjang alasnya? 3\n",
      "Berapa tingginya? 6\n",
      "Luas segitiga adalah 9.0\n"
     ]
    }
   ],
   "source": [
    "jenis_bidang_44 = input('Tulis jenis bidangnya ')\n",
    "if jenis_bidang_44.upper() == 'SEGITIGA':\n",
    "    alas_44 = float(input('Berapa panjang alasnya? '))\n",
    "    tinggi_44 = float(input('Berapa tingginya? '))\n",
    "    luas_44 = luas_segitiga(alas_44, tinggi_44)\n",
    "    print(f'Luas {jenis_bidang_44} adalah {luas_44}')\n",
    "elif jenis.bidang_44.upper() == 'LINGKARAN':\n",
    "    jari_jari_44 = float(input('Berapa panjang jari-jarinya? '))\n",
    "    luas_44 = luas_lingkaran(jari_jari_44)\n",
    "    print(f'Luas {jenis_bidang_44} adalah {luas_44}')\n",
    "elif (jenis_bidang_44.upper() == 'PERSEGI') or (jenis_bidang_44.upper() == 'BUJUR SANGKAR'):\n",
    "    sisi_44 = float(input('Berapa panjang sisinya? '))\n",
    "    luas_44 = luas_persegi(sisi_44)\n",
    "    print(f'Luas {jenis_bidang_44} adalah {luas_44}')\n",
    "elif jenis_bidang_44.upper() == 'PERSEGI PANJANG':\n",
    "    panjang_44 = float(input('Berapa panjangnya? '))\n",
    "    lebar_44 = float(input('Berapa lebarnya? '))\n",
    "    luas_44 = luas_persegi_panjang(panjang_44, lebar_44)\n",
    "    print(f'Luas {jenis_bidang_44} adalah {luas_44}')\n",
    "else:\n",
    "    print(f'Maaf bidang {jenis_bidang_44} yang anda masukkan tidak ada.')\n",
    "    print('Pilihannya hanya SEGITIGA, LINGKARAN, PERSEGI, dan PERSEGI PANJANG.')\n",
    "    print('Terima kasih')"
   ]
  },
  {
   "cell_type": "markdown",
   "id": "b8acfbfa",
   "metadata": {},
   "source": [
    "Pada program di atas dibuat 4 fungsi luas untuk menentukan luas dari suatu bidang. Digunakan if dalam python untuk menentukan bidang apa yang diinputkan oleh pengguna. Sehingga yang terproses oleh komputer adalah bidang yang ada dalam pilihan. Apabila bidang yang diinputkan tidak ada, maka akan langsung menuju else terakhir."
   ]
  },
  {
   "cell_type": "markdown",
   "id": "64235dfe",
   "metadata": {},
   "source": [
    "# 5.20 Numpy"
   ]
  },
  {
   "cell_type": "markdown",
   "id": "3e651a75",
   "metadata": {},
   "source": [
    "Numpy (Numerical Python) adalah salah satu library yang digunakan di Python. Numpy memiliki keunggulan dari segi penggunaan/pemakaian memory yang lebih kecil dan runtime yang lebih cepat dibandingkan yang lainnya."
   ]
  },
  {
   "cell_type": "code",
   "execution_count": 55,
   "id": "2bca2c3b",
   "metadata": {},
   "outputs": [],
   "source": [
    "##Mendeklarasikan numpy -> np, agar mempersingkat penggunaan kode\n",
    "import numpy as np"
   ]
  },
  {
   "cell_type": "markdown",
   "id": "184ea05c",
   "metadata": {},
   "source": [
    "## 5.20.1 Perintah Dasar pada Numpy"
   ]
  },
  {
   "cell_type": "markdown",
   "id": "1ef77d66",
   "metadata": {},
   "source": [
    "### Menampilkan Numpy menggunakan array"
   ]
  },
  {
   "cell_type": "code",
   "execution_count": 57,
   "id": "dd104ed1",
   "metadata": {},
   "outputs": [
    {
     "name": "stdout",
     "output_type": "stream",
     "text": [
      "[0 1 2 3 4]\n"
     ]
    }
   ],
   "source": [
    "##Deklarasikan a sebagai numpy dengan array [0,1,2,3,4]\n",
    "a_44 = np.array([0, 1, 2, 3, 4])\n",
    "\n",
    "##Menampilkan a_44\n",
    "print(a_44)"
   ]
  },
  {
   "cell_type": "code",
   "execution_count": 59,
   "id": "7c9fef1e",
   "metadata": {},
   "outputs": [
    {
     "name": "stdout",
     "output_type": "stream",
     "text": [
      "[[5 6 7 8]\n",
      " [9 8 7 6]]\n"
     ]
    }
   ],
   "source": [
    "##Deklarasikan b sebagai numpy dengan array 2 dimensi\n",
    "b_44 = np.array([[5, 6, 7, 8], [9, 8, 7, 6]])\n",
    "print(b_44)"
   ]
  },
  {
   "cell_type": "code",
   "execution_count": 60,
   "id": "284ed652",
   "metadata": {},
   "outputs": [
    {
     "name": "stdout",
     "output_type": "stream",
     "text": [
      "[[[0 1 2 3]\n",
      "  [4 5 6 7]]\n",
      "\n",
      " [[8 9 8 7]\n",
      "  [6 5 4 3]]\n",
      "\n",
      " [[1 2 3 4]\n",
      "  [5 6 7 8]]]\n"
     ]
    }
   ],
   "source": [
    "####Deklarasikan c sebagai numpy dengan array dimensi\n",
    "c_44 = np.array([[[0, 1, 2, 3], [4, 5, 6, 7]],\n",
    "                 [[8, 9, 8, 7], [6, 5, 4, 3]],\n",
    "                 [[1, 2, 3, 4], [5, 6, 7, 8]]\n",
    "])\n",
    "print(c_44)"
   ]
  },
  {
   "cell_type": "markdown",
   "id": "0bb35f98",
   "metadata": {},
   "source": [
    "### Menentukan/Melihat Dimensi pada Numpy"
   ]
  },
  {
   "cell_type": "code",
   "execution_count": 61,
   "id": "d4675ac6",
   "metadata": {},
   "outputs": [
    {
     "data": {
      "text/plain": [
       "1"
      ]
     },
     "execution_count": 61,
     "metadata": {},
     "output_type": "execute_result"
    }
   ],
   "source": [
    "a_44.ndim         ##nama_variabel.ndim"
   ]
  },
  {
   "cell_type": "markdown",
   "id": "1f900c14",
   "metadata": {},
   "source": [
    "Berarti numpy di atas merupakan numpy dengan dimensi tunggal."
   ]
  },
  {
   "cell_type": "code",
   "execution_count": 62,
   "id": "11442a5b",
   "metadata": {},
   "outputs": [
    {
     "data": {
      "text/plain": [
       "2"
      ]
     },
     "execution_count": 62,
     "metadata": {},
     "output_type": "execute_result"
    }
   ],
   "source": [
    "b_44.ndim         ##nama_variabel.ndim"
   ]
  },
  {
   "cell_type": "markdown",
   "id": "65722b49",
   "metadata": {},
   "source": [
    "Berarti numpy di atas merupakan numpy multi-dimensi yang berdimensi 2."
   ]
  },
  {
   "cell_type": "code",
   "execution_count": 63,
   "id": "eac3836d",
   "metadata": {},
   "outputs": [
    {
     "data": {
      "text/plain": [
       "3"
      ]
     },
     "execution_count": 63,
     "metadata": {},
     "output_type": "execute_result"
    }
   ],
   "source": [
    "c_44.ndim         ##nama_variabel.ndim"
   ]
  },
  {
   "cell_type": "markdown",
   "id": "749c3776",
   "metadata": {},
   "source": [
    "Berarti numpy di atas merupakan numpy multi-dimensi yang berdimensi 3."
   ]
  },
  {
   "cell_type": "markdown",
   "id": "e02a6055",
   "metadata": {},
   "source": [
    "### Melihat Ukuran Numpy"
   ]
  },
  {
   "cell_type": "code",
   "execution_count": 64,
   "id": "093bf135",
   "metadata": {},
   "outputs": [
    {
     "data": {
      "text/plain": [
       "(5,)"
      ]
     },
     "execution_count": 64,
     "metadata": {},
     "output_type": "execute_result"
    }
   ],
   "source": [
    "a_44.shape        ##nama_variabel.shape"
   ]
  },
  {
   "cell_type": "markdown",
   "id": "94ad06c3",
   "metadata": {},
   "source": [
    "Berarti numpy di atas merupakan numpy 1 dimensi yang berukuran 5."
   ]
  },
  {
   "cell_type": "code",
   "execution_count": 65,
   "id": "26781234",
   "metadata": {},
   "outputs": [
    {
     "data": {
      "text/plain": [
       "(2, 4)"
      ]
     },
     "execution_count": 65,
     "metadata": {},
     "output_type": "execute_result"
    }
   ],
   "source": [
    "b_44.shape        ##nama_variabel.shape"
   ]
  },
  {
   "cell_type": "markdown",
   "id": "94433ad0",
   "metadata": {},
   "source": [
    "Berarti numpy di atas berdimensi 2 dan memiliki ukuran dengan barisnya 2 dan kolomnya 4."
   ]
  },
  {
   "cell_type": "code",
   "execution_count": 66,
   "id": "65430f55",
   "metadata": {},
   "outputs": [
    {
     "data": {
      "text/plain": [
       "(3, 2, 4)"
      ]
     },
     "execution_count": 66,
     "metadata": {},
     "output_type": "execute_result"
    }
   ],
   "source": [
    "c_44.shape        ##nama_variabel.shape"
   ]
  },
  {
   "cell_type": "markdown",
   "id": "6a50c991",
   "metadata": {},
   "source": [
    "Berarti numpy di atas berdimensi 3 dan memiliki ukuran dengan barisnya 2 dan kolomnya 4."
   ]
  },
  {
   "cell_type": "markdown",
   "id": "b7a2586d",
   "metadata": {},
   "source": [
    "### Mengubah Ulang Ukuran Numpy"
   ]
  },
  {
   "cell_type": "code",
   "execution_count": 69,
   "id": "627c9eb9",
   "metadata": {},
   "outputs": [
    {
     "name": "stdout",
     "output_type": "stream",
     "text": [
      "[[5 6]\n",
      " [7 8]\n",
      " [9 8]\n",
      " [7 6]]\n"
     ]
    }
   ],
   "source": [
    "b_44 = b_44.reshape (4, 2)         ##nama_variabel = nama_variabel.reshape(baris, kolom)\n",
    "print(b_44)"
   ]
  },
  {
   "cell_type": "markdown",
   "id": "fda1eb87",
   "metadata": {},
   "source": [
    "Kode di atas digunakan untuk mengubah atau membentuk kembali numpy. Pada cotoh di atas, akan dibentuk kembali dari yang awalnya (2, 4) menjadi (4, 2). Yang berarti mengubah baris menjadi kolom, dan kolom menjadi baris."
   ]
  },
  {
   "cell_type": "markdown",
   "id": "e6916de8",
   "metadata": {},
   "source": [
    "## 5.20.2 Memanggil Anggota, Kolom dan Baris dengan Numpy"
   ]
  },
  {
   "cell_type": "code",
   "execution_count": 70,
   "id": "595d7ccd",
   "metadata": {},
   "outputs": [
    {
     "name": "stdout",
     "output_type": "stream",
     "text": [
      "[[ 1  2  3  4]\n",
      " [ 5  6  7  8]\n",
      " [ 9 10 11 12]]\n"
     ]
    }
   ],
   "source": [
    "##Mendeklarasikan d_44 sebagai numpy dengan menggunakan array\n",
    "d_44 = np.array([[1, 2, 3, 4], [5, 6, 7, 8], [9, 10, 11, 12]])\n",
    "print(d_44)"
   ]
  },
  {
   "cell_type": "code",
   "execution_count": 72,
   "id": "fd1223fb",
   "metadata": {},
   "outputs": [
    {
     "data": {
      "text/plain": [
       "4"
      ]
     },
     "execution_count": 72,
     "metadata": {},
     "output_type": "execute_result"
    }
   ],
   "source": [
    "##Memanggil anggota\n",
    "d_44[0, 3]            ##nama_variabel[baris, kolom]"
   ]
  },
  {
   "cell_type": "markdown",
   "id": "49a8e0b8",
   "metadata": {},
   "source": [
    "Berarti memanggil data dari d_44 dengan baris index ke-0 dan kolom index ke 3."
   ]
  },
  {
   "cell_type": "code",
   "execution_count": 74,
   "id": "e13ac853",
   "metadata": {},
   "outputs": [
    {
     "data": {
      "text/plain": [
       "array([5, 6, 7, 8])"
      ]
     },
     "execution_count": 74,
     "metadata": {},
     "output_type": "execute_result"
    }
   ],
   "source": [
    "##Memanggil anggota\n",
    "d_44[1, :]           ##nama_variabel[baris, kolom]"
   ]
  },
  {
   "cell_type": "markdown",
   "id": "583a11b9",
   "metadata": {},
   "source": [
    "Berarti memanggil array dengan baris index ke 1 dan kolom yang tidak diketahui. Maka akan muncul semua anggota pada baris dengan index ke 1 tanpa memandang kolomnya."
   ]
  },
  {
   "cell_type": "code",
   "execution_count": 75,
   "id": "b02b2ebe",
   "metadata": {},
   "outputs": [
    {
     "data": {
      "text/plain": [
       "array([ 3,  7, 11])"
      ]
     },
     "execution_count": 75,
     "metadata": {},
     "output_type": "execute_result"
    }
   ],
   "source": [
    "d_44[:,2]            ##nama_variabel[baris, kolom]"
   ]
  },
  {
   "cell_type": "markdown",
   "id": "48d41de8",
   "metadata": {},
   "source": [
    "Berarti memanggil array dengan baris yang tidak diketahui dan kolom dengan index ke 2. Sehingga yang muncul adalah anggota dari kolom dengan index ke 2 saja."
   ]
  },
  {
   "cell_type": "code",
   "execution_count": 76,
   "id": "a001f400",
   "metadata": {},
   "outputs": [
    {
     "data": {
      "text/plain": [
       "array([2, 3])"
      ]
     },
     "execution_count": 76,
     "metadata": {},
     "output_type": "execute_result"
    }
   ],
   "source": [
    "d_44[0,1:3]          ##nama_variabel[baris, kolom]"
   ]
  },
  {
   "cell_type": "markdown",
   "id": "5574c328",
   "metadata": {},
   "source": [
    "Berarti memanggil baris dengan index ke-0, dan kolom dengan index ke 1 sampai ke 3 (tidak termasuk kolom ke-3, hanya 1 dan 2 saja)."
   ]
  },
  {
   "cell_type": "code",
   "execution_count": 77,
   "id": "6a562e31",
   "metadata": {},
   "outputs": [
    {
     "data": {
      "text/plain": [
       "array([1, 3])"
      ]
     },
     "execution_count": 77,
     "metadata": {},
     "output_type": "execute_result"
    }
   ],
   "source": [
    "d_44[0,0:3:2]       ##nama_variabel[baris, kolom]"
   ]
  },
  {
   "cell_type": "markdown",
   "id": "cb997037",
   "metadata": {},
   "source": [
    "Berarti memanggil baris dengan index ke-0 dan kolom dengan index ke-0 sampai kolom dengan index ke-3 dengan interval 2."
   ]
  },
  {
   "cell_type": "code",
   "execution_count": 79,
   "id": "9358352f",
   "metadata": {},
   "outputs": [
    {
     "name": "stdout",
     "output_type": "stream",
     "text": [
      "[[100   2   3   4]\n",
      " [  5   6   7   8]\n",
      " [  9  10  11  12]]\n"
     ]
    }
   ],
   "source": [
    "d_44[0,0] = 100     ##nama_variabel[baris, kolom] = data_baru\n",
    "print(d_44)"
   ]
  },
  {
   "cell_type": "markdown",
   "id": "53add4fc",
   "metadata": {},
   "source": [
    "Program di atas digunakan untuk mengganti/mengubah nilai dari variabel d_44 dengan baris index ke 0 dan kolom index ke 0, dimana data awalnya adalah 1, lalu diubah menjadi 100."
   ]
  },
  {
   "cell_type": "markdown",
   "id": "fb41e682",
   "metadata": {},
   "source": [
    "## 5.20.3 Matrix pada Numpy"
   ]
  },
  {
   "cell_type": "code",
   "execution_count": 80,
   "id": "5d3e25f3",
   "metadata": {},
   "outputs": [
    {
     "data": {
      "text/plain": [
       "array([[1., 1., 1.],\n",
       "       [1., 1., 1.]])"
      ]
     },
     "execution_count": 80,
     "metadata": {},
     "output_type": "execute_result"
    }
   ],
   "source": [
    "np.ones((2, 3))               ##np.ones((baris, kolom))"
   ]
  },
  {
   "cell_type": "markdown",
   "id": "42e1ab2e",
   "metadata": {},
   "source": [
    "Kode di atas digunakan untuk membuat matriks dengan ordo 2*3 yang elemen keseluruhannya adalah 1."
   ]
  },
  {
   "cell_type": "code",
   "execution_count": 81,
   "id": "4035eef8",
   "metadata": {},
   "outputs": [
    {
     "data": {
      "text/plain": [
       "array([[0., 0.],\n",
       "       [0., 0.],\n",
       "       [0., 0.]])"
      ]
     },
     "execution_count": 81,
     "metadata": {},
     "output_type": "execute_result"
    }
   ],
   "source": [
    "np.zeros((3, 2))             ##np.zeros((baris, kolom))"
   ]
  },
  {
   "cell_type": "markdown",
   "id": "940359c5",
   "metadata": {},
   "source": [
    "Kode di atas digunakan untuk membuat matriks dengan ordo 3*2 yang elemen keseluruhannya adalah 0."
   ]
  },
  {
   "cell_type": "code",
   "execution_count": 82,
   "id": "059462bb",
   "metadata": {},
   "outputs": [
    {
     "data": {
      "text/plain": [
       "array([[1., 0., 0., 0.],\n",
       "       [0., 1., 0., 0.],\n",
       "       [0., 0., 1., 0.],\n",
       "       [0., 0., 0., 1.]])"
      ]
     },
     "execution_count": 82,
     "metadata": {},
     "output_type": "execute_result"
    }
   ],
   "source": [
    "np.identity(4)               ##np.identity(ukuran matriks)"
   ]
  },
  {
   "cell_type": "markdown",
   "id": "0c8746b7",
   "metadata": {},
   "source": [
    "Kode di atas digunakan untuk membuat matriks identitas yang berordo 4*4."
   ]
  },
  {
   "cell_type": "code",
   "execution_count": 83,
   "id": "b1321596",
   "metadata": {},
   "outputs": [
    {
     "data": {
      "text/plain": [
       "array([[[1., 1., 1., 1.],\n",
       "        [1., 1., 1., 1.],\n",
       "        [1., 1., 1., 1.]],\n",
       "\n",
       "       [[1., 1., 1., 1.],\n",
       "        [1., 1., 1., 1.],\n",
       "        [1., 1., 1., 1.]]])"
      ]
     },
     "execution_count": 83,
     "metadata": {},
     "output_type": "execute_result"
    }
   ],
   "source": [
    "np.ones((2, 3, 4))          "
   ]
  },
  {
   "cell_type": "markdown",
   "id": "fbf0b72c",
   "metadata": {},
   "source": [
    "Kode di atas digunakan untuk membuat matriks 2 dimensi dengan ordo 3*4 yang elemen keseluruhannya adalah 1."
   ]
  },
  {
   "cell_type": "code",
   "execution_count": 84,
   "id": "0178a923",
   "metadata": {},
   "outputs": [
    {
     "data": {
      "text/plain": [
       "array([[9, 9],\n",
       "       [9, 9],\n",
       "       [9, 9]])"
      ]
     },
     "execution_count": 84,
     "metadata": {},
     "output_type": "execute_result"
    }
   ],
   "source": [
    "np.full((3, 2), 9)"
   ]
  },
  {
   "cell_type": "markdown",
   "id": "47811874",
   "metadata": {},
   "source": [
    "Kode di atas digunakan untuk membuat matriks ordo 3*2 yang elemen keseluruhannya 9."
   ]
  },
  {
   "cell_type": "code",
   "execution_count": 85,
   "id": "fe4455f2",
   "metadata": {},
   "outputs": [
    {
     "data": {
      "text/plain": [
       "array([[0.44009919, 0.37550493, 0.55623563],\n",
       "       [0.66910005, 0.69937457, 0.12667686],\n",
       "       [0.32909197, 0.42846801, 0.06496061],\n",
       "       [0.72888585, 0.84050828, 0.39791653]])"
      ]
     },
     "execution_count": 85,
     "metadata": {},
     "output_type": "execute_result"
    }
   ],
   "source": [
    "np.random.rand(4, 3)          ##np.random.rand(baris, kolom)"
   ]
  },
  {
   "cell_type": "markdown",
   "id": "ff4533ef",
   "metadata": {},
   "source": [
    "Kode di atas digunakan untuk membuat matriks ordo 4*3 dengan elemen acak yang berupa float."
   ]
  },
  {
   "cell_type": "code",
   "execution_count": 86,
   "id": "916b70eb",
   "metadata": {},
   "outputs": [
    {
     "data": {
      "text/plain": [
       "array([[8, 5, 1, 4],\n",
       "       [3, 6, 7, 8],\n",
       "       [1, 2, 5, 1]])"
      ]
     },
     "execution_count": 86,
     "metadata": {},
     "output_type": "execute_result"
    }
   ],
   "source": [
    "np.random.randint(1, 10, size=(3, 4))"
   ]
  },
  {
   "cell_type": "markdown",
   "id": "a124785b",
   "metadata": {},
   "source": [
    "Kode di atas digunakan untuk membuat matriks ordo 3*4 yang elemennya diambil secara acak di interval 1 sampai 10 dan berupa integer."
   ]
  },
  {
   "cell_type": "markdown",
   "id": "ed032b1f",
   "metadata": {},
   "source": [
    "### Contoh Program"
   ]
  },
  {
   "cell_type": "code",
   "execution_count": 87,
   "id": "dc66c55d",
   "metadata": {},
   "outputs": [
    {
     "name": "stdout",
     "output_type": "stream",
     "text": [
      "[[0. 0. 0. 0. 0. 0. 0. 0. 0. 0.]\n",
      " [0. 0. 0. 0. 0. 0. 0. 0. 0. 0.]\n",
      " [0. 0. 0. 0. 0. 0. 0. 0. 0. 0.]\n",
      " [0. 0. 0. 0. 0. 0. 0. 0. 0. 0.]\n",
      " [0. 0. 0. 0. 0. 0. 0. 0. 0. 0.]\n",
      " [0. 0. 0. 0. 0. 0. 0. 0. 0. 0.]\n",
      " [0. 0. 0. 0. 0. 0. 0. 0. 0. 0.]\n",
      " [0. 0. 0. 0. 0. 0. 0. 0. 0. 0.]\n",
      " [0. 0. 0. 0. 0. 0. 0. 0. 0. 0.]\n",
      " [0. 0. 0. 0. 0. 0. 0. 0. 0. 0.]]\n"
     ]
    }
   ],
   "source": [
    "##Membuat matriks ordo 10*10 dengan elemen keseluruhannya adalah 0\n",
    "a_44 = np.zeros((10, 10))\n",
    "print(a_44)"
   ]
  },
  {
   "cell_type": "code",
   "execution_count": 88,
   "id": "a51df3ee",
   "metadata": {},
   "outputs": [
    {
     "name": "stdout",
     "output_type": "stream",
     "text": [
      "[[1. 0. 0. 0. 0. 0. 0. 0. 0. 0.]\n",
      " [0. 1. 0. 0. 0. 0. 0. 0. 0. 0.]\n",
      " [0. 0. 1. 0. 0. 0. 0. 0. 0. 0.]\n",
      " [0. 0. 0. 1. 0. 0. 0. 0. 0. 0.]\n",
      " [0. 0. 0. 0. 1. 0. 0. 0. 0. 0.]\n",
      " [0. 0. 0. 0. 0. 1. 0. 0. 0. 0.]\n",
      " [0. 0. 0. 0. 0. 0. 1. 0. 0. 0.]\n",
      " [0. 0. 0. 0. 0. 0. 0. 1. 0. 0.]\n",
      " [0. 0. 0. 0. 0. 0. 0. 0. 1. 0.]\n",
      " [0. 0. 0. 0. 0. 0. 0. 0. 0. 1.]]\n"
     ]
    }
   ],
   "source": [
    "##Membuat matriks identitas dengan ordo 10*10 \n",
    "b_44 = np.identity(10)\n",
    "print(b_44)"
   ]
  },
  {
   "cell_type": "code",
   "execution_count": 89,
   "id": "47c3a001",
   "metadata": {},
   "outputs": [
    {
     "name": "stdout",
     "output_type": "stream",
     "text": [
      "[[9. 0. 0. 0. 0. 0. 0. 0. 0. 0.]\n",
      " [0. 9. 0. 0. 0. 0. 0. 0. 0. 0.]\n",
      " [0. 0. 9. 0. 0. 0. 0. 0. 0. 0.]\n",
      " [0. 0. 0. 9. 0. 0. 0. 0. 0. 0.]\n",
      " [0. 0. 0. 0. 9. 0. 0. 0. 0. 0.]\n",
      " [0. 0. 0. 0. 0. 9. 0. 0. 0. 0.]\n",
      " [0. 0. 0. 0. 0. 0. 9. 0. 0. 0.]\n",
      " [0. 0. 0. 0. 0. 0. 0. 9. 0. 0.]\n",
      " [0. 0. 0. 0. 0. 0. 0. 0. 9. 0.]\n",
      " [0. 0. 0. 0. 0. 0. 0. 0. 0. 9.]]\n"
     ]
    }
   ],
   "source": [
    "##Mengalikan matriks b_44 dengan 9 dan ditampung dalam variabel c\n",
    "c_44 = 9*b_44\n",
    "print(c_44)"
   ]
  },
  {
   "cell_type": "code",
   "execution_count": 90,
   "id": "656594bb",
   "metadata": {},
   "outputs": [
    {
     "name": "stdout",
     "output_type": "stream",
     "text": [
      "[[1. 1. 1. 1. 1. 1. 1. 1.]\n",
      " [1. 1. 1. 1. 1. 1. 1. 1.]\n",
      " [1. 1. 1. 1. 1. 1. 1. 1.]\n",
      " [1. 1. 1. 1. 1. 1. 1. 1.]\n",
      " [1. 1. 1. 1. 1. 1. 1. 1.]\n",
      " [1. 1. 1. 1. 1. 1. 1. 1.]\n",
      " [1. 1. 1. 1. 1. 1. 1. 1.]\n",
      " [1. 1. 1. 1. 1. 1. 1. 1.]]\n"
     ]
    }
   ],
   "source": [
    "##Membuat matriks ordo 8*8 dengan elemen keseluruhan = 1\n",
    "d_44 = np.ones((8, 8))\n",
    "print(d_44)"
   ]
  },
  {
   "cell_type": "code",
   "execution_count": 91,
   "id": "8b67f144",
   "metadata": {},
   "outputs": [
    {
     "name": "stdout",
     "output_type": "stream",
     "text": [
      "[[8. 0. 0. 0. 0. 0. 0. 0.]\n",
      " [0. 8. 0. 0. 0. 0. 0. 0.]\n",
      " [0. 0. 8. 0. 0. 0. 0. 0.]\n",
      " [0. 0. 0. 8. 0. 0. 0. 0.]\n",
      " [0. 0. 0. 0. 8. 0. 0. 0.]\n",
      " [0. 0. 0. 0. 0. 8. 0. 0.]\n",
      " [0. 0. 0. 0. 0. 0. 8. 0.]\n",
      " [0. 0. 0. 0. 0. 0. 0. 8.]]\n"
     ]
    }
   ],
   "source": [
    "##Membuat matriks identitas ordo 8*8 yang dikalikan dengan 8\n",
    "e_44 = np.identity(8)*8\n",
    "print(e_44)"
   ]
  },
  {
   "cell_type": "code",
   "execution_count": 93,
   "id": "17fcd274",
   "metadata": {},
   "outputs": [
    {
     "name": "stdout",
     "output_type": "stream",
     "text": [
      "[[9. 1. 1. 1. 1. 1. 1. 1.]\n",
      " [1. 9. 1. 1. 1. 1. 1. 1.]\n",
      " [1. 1. 9. 1. 1. 1. 1. 1.]\n",
      " [1. 1. 1. 9. 1. 1. 1. 1.]\n",
      " [1. 1. 1. 1. 9. 1. 1. 1.]\n",
      " [1. 1. 1. 1. 1. 9. 1. 1.]\n",
      " [1. 1. 1. 1. 1. 1. 9. 1.]\n",
      " [1. 1. 1. 1. 1. 1. 1. 9.]]\n"
     ]
    }
   ],
   "source": [
    "##Penjumlahan dua matriks yang datanya disimpan dalam variabel baru f_44\n",
    "f_44 = d_44 + e_44\n",
    "print(f_44)"
   ]
  },
  {
   "cell_type": "code",
   "execution_count": 94,
   "id": "96af9e2b",
   "metadata": {},
   "outputs": [
    {
     "name": "stdout",
     "output_type": "stream",
     "text": [
      "[[9. 0. 0. 0. 0. 0. 0. 0. 0. 0.]\n",
      " [0. 9. 1. 1. 1. 1. 1. 1. 1. 0.]\n",
      " [0. 1. 9. 1. 1. 1. 1. 1. 1. 0.]\n",
      " [0. 1. 1. 9. 1. 1. 1. 1. 1. 0.]\n",
      " [0. 1. 1. 1. 9. 1. 1. 1. 1. 0.]\n",
      " [0. 1. 1. 1. 1. 9. 1. 1. 1. 0.]\n",
      " [0. 1. 1. 1. 1. 1. 9. 1. 1. 0.]\n",
      " [0. 1. 1. 1. 1. 1. 1. 9. 1. 0.]\n",
      " [0. 1. 1. 1. 1. 1. 1. 1. 9. 0.]\n",
      " [0. 0. 0. 0. 0. 0. 0. 0. 0. 9.]]\n"
     ]
    }
   ],
   "source": [
    "c_44[1:-1, 1:-1] = f_44\n",
    "print(c_44)"
   ]
  },
  {
   "cell_type": "markdown",
   "id": "e7057ac6",
   "metadata": {},
   "source": [
    "Kode di atas berarti mengganti matriks c dengan f pada baris index ke 1 sampai sebelum -1 dan pada kolom index ke 1 sampai sebelum index ke -1. Jadi yang berubah selain dari [1:-1, 1:-1]."
   ]
  },
  {
   "cell_type": "code",
   "execution_count": 95,
   "id": "9e6f5dbf",
   "metadata": {},
   "outputs": [
    {
     "name": "stdout",
     "output_type": "stream",
     "text": [
      "[[9. 0. 0. 0. 0. 0.]\n",
      " [0. 9. 0. 0. 0. 0.]\n",
      " [0. 0. 9. 0. 0. 0.]\n",
      " [0. 0. 0. 9. 0. 0.]\n",
      " [0. 0. 0. 0. 9. 0.]\n",
      " [0. 0. 0. 0. 0. 9.]]\n"
     ]
    }
   ],
   "source": [
    "##Membuat matriks identitas dengan ordo 6*6 yang dikalikan dengan 9\n",
    "g_44 = np.identity(6)*9\n",
    "print(g_44)"
   ]
  },
  {
   "cell_type": "code",
   "execution_count": 96,
   "id": "3841c843",
   "metadata": {},
   "outputs": [
    {
     "name": "stdout",
     "output_type": "stream",
     "text": [
      "[[9. 0. 0. 0. 0. 0. 0. 0. 0. 0.]\n",
      " [0. 9. 1. 1. 1. 1. 1. 1. 1. 0.]\n",
      " [0. 1. 9. 0. 0. 0. 0. 0. 1. 0.]\n",
      " [0. 1. 0. 9. 0. 0. 0. 0. 1. 0.]\n",
      " [0. 1. 0. 0. 9. 0. 0. 0. 1. 0.]\n",
      " [0. 1. 0. 0. 0. 9. 0. 0. 1. 0.]\n",
      " [0. 1. 0. 0. 0. 0. 9. 0. 1. 0.]\n",
      " [0. 1. 0. 0. 0. 0. 0. 9. 1. 0.]\n",
      " [0. 1. 1. 1. 1. 1. 1. 1. 9. 0.]\n",
      " [0. 0. 0. 0. 0. 0. 0. 0. 0. 9.]]\n"
     ]
    }
   ],
   "source": [
    "c_44[2:-2, 2:-2] = g_44\n",
    "print(c_44)"
   ]
  },
  {
   "cell_type": "markdown",
   "id": "97425fde",
   "metadata": {},
   "source": [
    "Kode di atas berarti mengganti matriks c dengan g pada baris index ke 2 sampai sebelum -2 dan pada kolom index ke 2 sampai sebelum index ke -2. Jadi yang berubah selain dari [2:-2, 2:-2]."
   ]
  },
  {
   "cell_type": "code",
   "execution_count": 97,
   "id": "cf5b7689",
   "metadata": {},
   "outputs": [
    {
     "name": "stdout",
     "output_type": "stream",
     "text": [
      "[[2. 2. 2. 2.]\n",
      " [2. 2. 2. 2.]\n",
      " [2. 2. 2. 2.]\n",
      " [2. 2. 2. 2.]]\n"
     ]
    }
   ],
   "source": [
    "##Membuat matriks dengan ordo 4*4 yang elemen keseluruhannya adalah 1, lalu matriks tersebut dikalikan dengan 2\n",
    "h_44 = np.ones((4, 4))*2\n",
    "print(h_44)"
   ]
  },
  {
   "cell_type": "code",
   "execution_count": 98,
   "id": "70da171e",
   "metadata": {},
   "outputs": [
    {
     "name": "stdout",
     "output_type": "stream",
     "text": [
      "[[7. 0. 0. 0.]\n",
      " [0. 7. 0. 0.]\n",
      " [0. 0. 7. 0.]\n",
      " [0. 0. 0. 7.]]\n"
     ]
    }
   ],
   "source": [
    "##Membuat matriks identitas yang berordo 4*4 lalu dikalikan dengan 7\n",
    "i_44 = np.identity(4)*7\n",
    "print(i_44)"
   ]
  },
  {
   "cell_type": "code",
   "execution_count": 99,
   "id": "a88e049a",
   "metadata": {},
   "outputs": [
    {
     "name": "stdout",
     "output_type": "stream",
     "text": [
      "[[9. 2. 2. 2.]\n",
      " [2. 9. 2. 2.]\n",
      " [2. 2. 9. 2.]\n",
      " [2. 2. 2. 9.]]\n"
     ]
    }
   ],
   "source": [
    "##Penjumlahan 2 buah matriks yang hasilnya disimpan dalam variabel j_44\n",
    "j_44 = h_44 + i_44\n",
    "print(j_44)"
   ]
  },
  {
   "cell_type": "code",
   "execution_count": 100,
   "id": "ed1ab1d2",
   "metadata": {},
   "outputs": [
    {
     "name": "stdout",
     "output_type": "stream",
     "text": [
      "[[9. 0. 0. 0. 0. 0. 0. 0. 0. 0.]\n",
      " [0. 9. 1. 1. 1. 1. 1. 1. 1. 0.]\n",
      " [0. 1. 9. 0. 0. 0. 0. 0. 1. 0.]\n",
      " [0. 1. 0. 9. 2. 2. 2. 0. 1. 0.]\n",
      " [0. 1. 0. 2. 9. 2. 2. 0. 1. 0.]\n",
      " [0. 1. 0. 2. 2. 9. 2. 0. 1. 0.]\n",
      " [0. 1. 0. 2. 2. 2. 9. 0. 1. 0.]\n",
      " [0. 1. 0. 0. 0. 0. 0. 9. 1. 0.]\n",
      " [0. 1. 1. 1. 1. 1. 1. 1. 9. 0.]\n",
      " [0. 0. 0. 0. 0. 0. 0. 0. 0. 9.]]\n"
     ]
    }
   ],
   "source": [
    "c_44[3:-3, 3:-3] = j_44\n",
    "print(c_44)"
   ]
  },
  {
   "cell_type": "markdown",
   "id": "ab6b2620",
   "metadata": {},
   "source": [
    "Kode di atas berarti mengganti matriks c dengan j pada baris index ke 3 sampai sebelum -3 dan pada kolom index ke 3 sampai sebelum index ke -3. Jadi yang berubah selain dari [3:-3, 3:-3]."
   ]
  },
  {
   "cell_type": "code",
   "execution_count": 101,
   "id": "4fa7fed1",
   "metadata": {},
   "outputs": [
    {
     "name": "stdout",
     "output_type": "stream",
     "text": [
      "[[9. 0.]\n",
      " [0. 9.]]\n"
     ]
    }
   ],
   "source": [
    "##Membuat matriks identitas dengan ordo 2*2 yang dikalikan dengan 9\n",
    "k_44 = np.identity(2)*9\n",
    "print(k_44)"
   ]
  },
  {
   "cell_type": "code",
   "execution_count": 102,
   "id": "2f53cb0e",
   "metadata": {},
   "outputs": [
    {
     "name": "stdout",
     "output_type": "stream",
     "text": [
      "[[9. 0. 0. 0. 0. 0. 0. 0. 0. 0.]\n",
      " [0. 9. 1. 1. 1. 1. 1. 1. 1. 0.]\n",
      " [0. 1. 9. 0. 0. 0. 0. 0. 1. 0.]\n",
      " [0. 1. 0. 9. 2. 2. 2. 0. 1. 0.]\n",
      " [0. 1. 0. 2. 9. 0. 2. 0. 1. 0.]\n",
      " [0. 1. 0. 2. 0. 9. 2. 0. 1. 0.]\n",
      " [0. 1. 0. 2. 2. 2. 9. 0. 1. 0.]\n",
      " [0. 1. 0. 0. 0. 0. 0. 9. 1. 0.]\n",
      " [0. 1. 1. 1. 1. 1. 1. 1. 9. 0.]\n",
      " [0. 0. 0. 0. 0. 0. 0. 0. 0. 9.]]\n"
     ]
    }
   ],
   "source": [
    "c_44[4:-4, 4:-4] = k_44\n",
    "print(c_44)"
   ]
  },
  {
   "cell_type": "markdown",
   "id": "a00bc82e",
   "metadata": {},
   "source": [
    "Kode di atas berarti mengganti matriks c dengan k pada baris index ke 4 sampai sebelum -4 dan pada kolom index ke 4 sampai sebelum index ke -4. Jadi yang berubah selain dari [4:-4, 4:-4]"
   ]
  },
  {
   "cell_type": "markdown",
   "id": "fb2b2f15",
   "metadata": {},
   "source": [
    "## 5.20.4 Copy pada Numpy"
   ]
  },
  {
   "cell_type": "code",
   "execution_count": 104,
   "id": "ac8efaa5",
   "metadata": {},
   "outputs": [
    {
     "name": "stdout",
     "output_type": "stream",
     "text": [
      "[1 2 3 4 5]\n"
     ]
    }
   ],
   "source": [
    "##Mendeklarasikan numpy dengan array\n",
    "a_44 = np.array([1, 2, 3, 4, 5])\n",
    "print(a_44)"
   ]
  },
  {
   "cell_type": "code",
   "execution_count": 105,
   "id": "c67d4aaf",
   "metadata": {},
   "outputs": [
    {
     "name": "stdout",
     "output_type": "stream",
     "text": [
      "[1 2 3 4 5]\n"
     ]
    }
   ],
   "source": [
    "##Mendeklarasikan b_44 = a_44\n",
    "b_44 = a_44\n",
    "print(b_44)"
   ]
  },
  {
   "cell_type": "code",
   "execution_count": 119,
   "id": "78ab7941",
   "metadata": {},
   "outputs": [
    {
     "name": "stdout",
     "output_type": "stream",
     "text": [
      "[10  2  3  4  5]\n"
     ]
    }
   ],
   "source": [
    "##Mengubah data pada index ke 0 menjadi 10\n",
    "b_44[0] = 10\n",
    "print(b_44)"
   ]
  },
  {
   "cell_type": "code",
   "execution_count": 120,
   "id": "347d1a54",
   "metadata": {},
   "outputs": [
    {
     "name": "stdout",
     "output_type": "stream",
     "text": [
      "[10  2  3  4  5]\n"
     ]
    }
   ],
   "source": [
    "##Data a berubah\n",
    "print(a_44)"
   ]
  },
  {
   "cell_type": "code",
   "execution_count": 121,
   "id": "560497e8",
   "metadata": {},
   "outputs": [
    {
     "name": "stdout",
     "output_type": "stream",
     "text": [
      "[1 2 3 4 5]\n"
     ]
    }
   ],
   "source": [
    "##Mendeklarasikan numpy dengan array\n",
    "c_44 = np.array([1, 2, 3, 4, 5])\n",
    "print(c_44)"
   ]
  },
  {
   "cell_type": "code",
   "execution_count": 122,
   "id": "ce281e44",
   "metadata": {},
   "outputs": [
    {
     "name": "stdout",
     "output_type": "stream",
     "text": [
      "[1 2 3 4 5]\n"
     ]
    }
   ],
   "source": [
    "##Mengcopy matriks c_44 yang disimpan di matriks d_44\n",
    "d_44 = c_44.copy()\n",
    "print(d_44)"
   ]
  },
  {
   "cell_type": "code",
   "execution_count": 123,
   "id": "d951a741",
   "metadata": {},
   "outputs": [
    {
     "name": "stdout",
     "output_type": "stream",
     "text": [
      "[10  2  3  4  5]\n"
     ]
    }
   ],
   "source": [
    "##Mengubah matriks d_44 dengan index ke 0 menjadi 10\n",
    "d_44[0] = 10\n",
    "print(d_44)"
   ]
  },
  {
   "cell_type": "code",
   "execution_count": 124,
   "id": "8d1c1f9b",
   "metadata": {},
   "outputs": [
    {
     "name": "stdout",
     "output_type": "stream",
     "text": [
      "[1 2 3 4 5]\n"
     ]
    }
   ],
   "source": [
    "##Menampilkan matriks c\n",
    "print(c_44)"
   ]
  },
  {
   "cell_type": "markdown",
   "id": "443597e3",
   "metadata": {},
   "source": [
    "Dari program-program diatas, didapatkan kesimpulan bahwan apabila matriks di copy terlebih dahulu dan dilakukan perubahan pada datanya, maka tidak akan terjadi perubahan pada data aslinya. Namun jika hanya dideklarasikan sama saja, maka akan terjadi perubahan pada kedua matriks apabila salah satunya diubah datanya, karena sebelumnya sudah dideklarasikan apabila data 2 matriks tersebut sama."
   ]
  },
  {
   "cell_type": "markdown",
   "id": "b2886ac3",
   "metadata": {},
   "source": [
    "## 5.20.5 Operasi Matematika pada Numpy"
   ]
  },
  {
   "cell_type": "markdown",
   "id": "89ca63a4",
   "metadata": {},
   "source": [
    "Kode di bawah ini digunakan untuk mengoperasikan matriks dengan bilangan secara langsung."
   ]
  },
  {
   "cell_type": "code",
   "execution_count": 125,
   "id": "6f7befa1",
   "metadata": {},
   "outputs": [
    {
     "data": {
      "text/plain": [
       "array([12,  4,  5,  6,  7])"
      ]
     },
     "execution_count": 125,
     "metadata": {},
     "output_type": "execute_result"
    }
   ],
   "source": [
    "a_44 + 2"
   ]
  },
  {
   "cell_type": "code",
   "execution_count": 126,
   "id": "1dedc923",
   "metadata": {},
   "outputs": [
    {
     "data": {
      "text/plain": [
       "array([8, 0, 1, 2, 3])"
      ]
     },
     "execution_count": 126,
     "metadata": {},
     "output_type": "execute_result"
    }
   ],
   "source": [
    "a_44 - 2"
   ]
  },
  {
   "cell_type": "code",
   "execution_count": 127,
   "id": "5b08c52e",
   "metadata": {},
   "outputs": [
    {
     "data": {
      "text/plain": [
       "array([20,  4,  6,  8, 10])"
      ]
     },
     "execution_count": 127,
     "metadata": {},
     "output_type": "execute_result"
    }
   ],
   "source": [
    "a_44 * 2"
   ]
  },
  {
   "cell_type": "code",
   "execution_count": 128,
   "id": "e10d4f51",
   "metadata": {},
   "outputs": [
    {
     "data": {
      "text/plain": [
       "array([5. , 1. , 1.5, 2. , 2.5])"
      ]
     },
     "execution_count": 128,
     "metadata": {},
     "output_type": "execute_result"
    }
   ],
   "source": [
    "a_44/2"
   ]
  },
  {
   "cell_type": "code",
   "execution_count": 129,
   "id": "6f66139c",
   "metadata": {},
   "outputs": [
    {
     "data": {
      "text/plain": [
       "array([100,   4,   9,  16,  25], dtype=int32)"
      ]
     },
     "execution_count": 129,
     "metadata": {},
     "output_type": "execute_result"
    }
   ],
   "source": [
    "a_44**2"
   ]
  },
  {
   "cell_type": "markdown",
   "id": "76afa232",
   "metadata": {},
   "source": [
    "Operasi dibawah ini digunakan untuk mengoperasikan dua buah matriks"
   ]
  },
  {
   "cell_type": "code",
   "execution_count": 130,
   "id": "80af2507",
   "metadata": {},
   "outputs": [
    {
     "name": "stdout",
     "output_type": "stream",
     "text": [
      "[ 6  7  8  9 10]\n"
     ]
    }
   ],
   "source": [
    "b = np.array([6, 7, 8, 9, 10])\n",
    "print(b)"
   ]
  },
  {
   "cell_type": "code",
   "execution_count": 131,
   "id": "503cb47d",
   "metadata": {},
   "outputs": [
    {
     "data": {
      "text/plain": [
       "array([ 6,  8, 10, 12, 14])"
      ]
     },
     "execution_count": 131,
     "metadata": {},
     "output_type": "execute_result"
    }
   ],
   "source": [
    "a+b"
   ]
  },
  {
   "cell_type": "code",
   "execution_count": 132,
   "id": "8a50c0d0",
   "metadata": {},
   "outputs": [
    {
     "data": {
      "text/plain": [
       "array([-6, -6, -6, -6, -6])"
      ]
     },
     "execution_count": 132,
     "metadata": {},
     "output_type": "execute_result"
    }
   ],
   "source": [
    "a-b"
   ]
  },
  {
   "cell_type": "code",
   "execution_count": 133,
   "id": "b529f992",
   "metadata": {},
   "outputs": [
    {
     "data": {
      "text/plain": [
       "array([ 0,  7, 16, 27, 40])"
      ]
     },
     "execution_count": 133,
     "metadata": {},
     "output_type": "execute_result"
    }
   ],
   "source": [
    "a*b"
   ]
  },
  {
   "cell_type": "code",
   "execution_count": 134,
   "id": "e427b5ef",
   "metadata": {},
   "outputs": [
    {
     "data": {
      "text/plain": [
       "array([0.        , 0.14285714, 0.25      , 0.33333333, 0.4       ])"
      ]
     },
     "execution_count": 134,
     "metadata": {},
     "output_type": "execute_result"
    }
   ],
   "source": [
    "a/b"
   ]
  },
  {
   "cell_type": "code",
   "execution_count": 135,
   "id": "60d823ba",
   "metadata": {},
   "outputs": [
    {
     "data": {
      "text/plain": [
       "array([    1,     7,    64,   729, 10000], dtype=int32)"
      ]
     },
     "execution_count": 135,
     "metadata": {},
     "output_type": "execute_result"
    }
   ],
   "source": [
    "b**a"
   ]
  },
  {
   "cell_type": "code",
   "execution_count": 136,
   "id": "bf8b64ce",
   "metadata": {},
   "outputs": [
    {
     "data": {
      "text/plain": [
       "array([ 1.        ,  0.54030231, -0.41614684, -0.9899925 , -0.65364362])"
      ]
     },
     "execution_count": 136,
     "metadata": {},
     "output_type": "execute_result"
    }
   ],
   "source": [
    "np.cos(a)"
   ]
  },
  {
   "cell_type": "code",
   "execution_count": 137,
   "id": "a2d59065",
   "metadata": {},
   "outputs": [
    {
     "data": {
      "text/plain": [
       "array([ 0.        ,  1.55740772, -2.18503986, -0.14254654,  1.15782128])"
      ]
     },
     "execution_count": 137,
     "metadata": {},
     "output_type": "execute_result"
    }
   ],
   "source": [
    "np.tan(a)"
   ]
  },
  {
   "cell_type": "code",
   "execution_count": 139,
   "id": "1a45a5e8",
   "metadata": {},
   "outputs": [
    {
     "data": {
      "text/plain": [
       "array([ 0.        ,  1.17520119,  3.62686041, 10.01787493, 27.2899172 ])"
      ]
     },
     "execution_count": 139,
     "metadata": {},
     "output_type": "execute_result"
    }
   ],
   "source": [
    "np.sinh(a)"
   ]
  },
  {
   "cell_type": "code",
   "execution_count": 140,
   "id": "d1f7271f",
   "metadata": {},
   "outputs": [
    {
     "data": {
      "text/plain": [
       "array([ 1.        ,  1.54308063,  3.76219569, 10.067662  , 27.30823284])"
      ]
     },
     "execution_count": 140,
     "metadata": {},
     "output_type": "execute_result"
    }
   ],
   "source": [
    "np.cosh(a)"
   ]
  },
  {
   "cell_type": "code",
   "execution_count": 142,
   "id": "96509bcf",
   "metadata": {},
   "outputs": [
    {
     "data": {
      "text/plain": [
       "array([0.        , 0.76159416, 0.96402758, 0.99505475, 0.9993293 ])"
      ]
     },
     "execution_count": 142,
     "metadata": {},
     "output_type": "execute_result"
    }
   ],
   "source": [
    "np.tanh(a)"
   ]
  },
  {
   "cell_type": "code",
   "execution_count": 145,
   "id": "aa80a7e6",
   "metadata": {},
   "outputs": [
    {
     "data": {
      "text/plain": [
       "array([0.        , 1.        , 1.41421356, 1.73205081, 2.        ])"
      ]
     },
     "execution_count": 145,
     "metadata": {},
     "output_type": "execute_result"
    }
   ],
   "source": [
    "##Digunakan untuk operasi pangkat\n",
    "np.sqrt(a)"
   ]
  },
  {
   "cell_type": "markdown",
   "id": "001e50a9",
   "metadata": {},
   "source": [
    "## 5.20.6 Perkalian Matriks pada Numpy"
   ]
  },
  {
   "cell_type": "code",
   "execution_count": 146,
   "id": "33298470",
   "metadata": {},
   "outputs": [
    {
     "name": "stdout",
     "output_type": "stream",
     "text": [
      "[[1 2 3 4]\n",
      " [5 6 7 8]]\n"
     ]
    }
   ],
   "source": [
    "a=np.array([[1, 2, 3, 4], [5, 6, 7, 8]])\n",
    "print(a)"
   ]
  },
  {
   "cell_type": "code",
   "execution_count": 148,
   "id": "8da13b0e",
   "metadata": {},
   "outputs": [
    {
     "name": "stdout",
     "output_type": "stream",
     "text": [
      "[[ 9 10 11 12]\n",
      " [13 14 15 16]]\n"
     ]
    }
   ],
   "source": [
    "b=np.array([[9,10,11,12], [13, 14, 15,16]])\n",
    "print(b)"
   ]
  },
  {
   "cell_type": "code",
   "execution_count": 149,
   "id": "9276745e",
   "metadata": {},
   "outputs": [],
   "source": [
    "c = a*b"
   ]
  },
  {
   "cell_type": "code",
   "execution_count": 151,
   "id": "8e676909",
   "metadata": {},
   "outputs": [
    {
     "ename": "ValueError",
     "evalue": "matmul: Input operand 1 has a mismatch in its core dimension 0, with gufunc signature (n?,k),(k,m?)->(n?,m?) (size 2 is different from 4)",
     "output_type": "error",
     "traceback": [
      "\u001b[1;31m---------------------------------------------------------------------------\u001b[0m",
      "\u001b[1;31mValueError\u001b[0m                                Traceback (most recent call last)",
      "\u001b[1;32m~\\AppData\\Local\\Temp\\ipykernel_26600\\961255019.py\u001b[0m in \u001b[0;36m<module>\u001b[1;34m\u001b[0m\n\u001b[1;32m----> 1\u001b[1;33m \u001b[0md\u001b[0m \u001b[1;33m=\u001b[0m \u001b[0mnp\u001b[0m\u001b[1;33m.\u001b[0m\u001b[0mmatmul\u001b[0m\u001b[1;33m(\u001b[0m\u001b[0ma\u001b[0m\u001b[1;33m,\u001b[0m\u001b[0mb\u001b[0m\u001b[1;33m)\u001b[0m\u001b[1;33m\u001b[0m\u001b[1;33m\u001b[0m\u001b[0m\n\u001b[0m",
      "\u001b[1;31mValueError\u001b[0m: matmul: Input operand 1 has a mismatch in its core dimension 0, with gufunc signature (n?,k),(k,m?)->(n?,m?) (size 2 is different from 4)"
     ]
    }
   ],
   "source": [
    "d = np.matmul(a,b)"
   ]
  },
  {
   "cell_type": "markdown",
   "id": "7ac2c7d1",
   "metadata": {},
   "source": [
    "## 5.20.7 Min, Max, dan Sum pada Numpy"
   ]
  },
  {
   "cell_type": "code",
   "execution_count": null,
   "id": "12f51154",
   "metadata": {},
   "outputs": [],
   "source": [
    "a= p.array([[1, 2, 3, 4], [5, 6, 7, 8]])"
   ]
  }
 ],
 "metadata": {
  "kernelspec": {
   "display_name": "Python 3 (ipykernel)",
   "language": "python",
   "name": "python3"
  },
  "language_info": {
   "codemirror_mode": {
    "name": "ipython",
    "version": 3
   },
   "file_extension": ".py",
   "mimetype": "text/x-python",
   "name": "python",
   "nbconvert_exporter": "python",
   "pygments_lexer": "ipython3",
   "version": "3.9.13"
  }
 },
 "nbformat": 4,
 "nbformat_minor": 5
}
