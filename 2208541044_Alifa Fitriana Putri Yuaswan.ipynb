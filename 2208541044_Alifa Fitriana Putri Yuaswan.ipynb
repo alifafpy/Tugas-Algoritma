{
 "cells": [
  {
   "cell_type": "code",
   "execution_count": 1,
   "id": "ff39e479",
   "metadata": {},
   "outputs": [
    {
     "name": "stdout",
     "output_type": "stream",
     "text": [
      "Nama Saya Alifa Fitriana Putri Yuaswan\n"
     ]
    }
   ],
   "source": [
    "#############################\n",
    "###Ini adalah Materi Print###\n",
    "print('Nama Saya Alifa Fitriana Putri Yuaswan')"
   ]
  },
  {
   "cell_type": "code",
   "execution_count": 2,
   "id": "afb88e2c",
   "metadata": {},
   "outputs": [
    {
     "name": "stdout",
     "output_type": "stream",
     "text": [
      "Bisa dipanggil Alifa\n"
     ]
    }
   ],
   "source": [
    "print(\"Bisa dipanggil Alifa\")"
   ]
  },
  {
   "cell_type": "code",
   "execution_count": 3,
   "id": "90acff70",
   "metadata": {},
   "outputs": [
    {
     "name": "stdout",
     "output_type": "stream",
     "text": [
      "Ini adalah materi \"Print\"\n"
     ]
    }
   ],
   "source": [
    "#######################################\n",
    "###Menggunakan tanda petik di dalam tanda petik print###\n",
    "print('Ini adalah materi \"Print\"')"
   ]
  },
  {
   "cell_type": "code",
   "execution_count": 13,
   "id": "6c09b384",
   "metadata": {},
   "outputs": [
    {
     "ename": "SyntaxError",
     "evalue": "invalid syntax (3842351805.py, line 6)",
     "output_type": "error",
     "traceback": [
      "\u001b[1;36m  File \u001b[1;32m\"C:\\Users\\alifa\\AppData\\Local\\Temp\\ipykernel_16096\\3842351805.py\"\u001b[1;36m, line \u001b[1;32m6\u001b[0m\n\u001b[1;33m    print(\"Ini adalah materi \"Print\"\")\u001b[0m\n\u001b[1;37m                              ^\u001b[0m\n\u001b[1;31mSyntaxError\u001b[0m\u001b[1;31m:\u001b[0m invalid syntax\n"
     ]
    }
   ],
   "source": [
    "#########################################################\n",
    "###Saya sempat error di sini karena kurang 1 petik dua###\n",
    "###Setelah ditambahkan 1 petik dua tetap error karena invalid syntax###\n",
    "###Sintak tidak valid karena setelah tanda petik kedua kalimat\n",
    "###tidak termasuk dalam bagian print###\n",
    "print(\"Ini adalah materi \"Print\"\")\n",
    "#########################################################\n",
    "###Setelah ditambahkan tanda petik lagi sebelum kata print juga akan tetap error###"
   ]
  },
  {
   "cell_type": "code",
   "execution_count": 6,
   "id": "59fb4dc2",
   "metadata": {},
   "outputs": [
    {
     "name": "stdout",
     "output_type": "stream",
     "text": [
      "43\n",
      "100000\n",
      "4300000\n",
      "4300000\n"
     ]
    }
   ],
   "source": [
    "#############################################\n",
    "###Ini adalah contoh dari penggunaan Print###\n",
    "###contoh print ini menggunakan angka###\n",
    "mahasiswa_44 = 43\n",
    "uang_di_dompet_44 = 100000\n",
    "print(mahasiswa_44)\n",
    "print(uang_di_dompet_44)\n",
    "print(uang_di_dompet_44 * mahasiswa_44)\n",
    "print(mahasiswa_44 * uang_di_dompet_44)"
   ]
  },
  {
   "cell_type": "code",
   "execution_count": 9,
   "id": "17b633bb",
   "metadata": {},
   "outputs": [
    {
     "name": "stdout",
     "output_type": "stream",
     "text": [
      "Alifa FitrianaPutriYuaswan\n"
     ]
    }
   ],
   "source": [
    "#############################################\n",
    "###Ini adalah contoh dari penggunaan Print###\n",
    "###contoh print ini menggunakan huruf/kata###\n",
    "nama_depan_44 = 'Alifa Fitriana'\n",
    "nama_tengah_44 = 'Putri'\n",
    "nama_belakang_44 = 'Yuaswan'\n",
    "print(nama_depan_44 + nama_tengah_44 + nama_belakang_44)\n",
    "#############################################\n",
    "###Saya sempat ada error disini karena saya \n",
    "###kurang teliti dalam penulisan variabel###"
   ]
  },
  {
   "cell_type": "code",
   "execution_count": 10,
   "id": "d6365bba",
   "metadata": {},
   "outputs": [
    {
     "name": "stdout",
     "output_type": "stream",
     "text": [
      "Alifa Fitriana Putri Yuaswan\n"
     ]
    }
   ],
   "source": [
    "#############################################\n",
    "###Saya mencoba memberi jarak/spasi karena hasil\n",
    "###dari print di atas tidak ada spasinya###\n",
    "print(nama_depan_44 + ' ' + nama_tengah_44 + ' ' + nama_belakang_44)"
   ]
  },
  {
   "cell_type": "code",
   "execution_count": 15,
   "id": "2dfdd303",
   "metadata": {},
   "outputs": [
    {
     "name": "stdout",
     "output_type": "stream",
     "text": [
      "Siapakah nama anda? Alifa\n",
      "Apakah kegiatan anda sekarang, Alifa? belajar\n",
      "Semangat belajar nya ya, Alifa!\n"
     ]
    }
   ],
   "source": [
    "#############################################\n",
    "###Ini adalah materi input###\n",
    "nama_44 = input('Siapakah nama anda? ')\n",
    "kegiatan_44 = input('Apakah kegiatan anda sekarang, ' + nama_44 + '? ')\n",
    "print('Semangat ' + kegiatan_44 + ' nya ya, ' + nama_44 + '!')\n",
    "#############################################\n",
    "###Tidak ada error disini, hanya saja harus \n",
    "##teliti karena penggunaan tanda petik yang banyak### "
   ]
  },
  {
   "cell_type": "code",
   "execution_count": 18,
   "id": "e6b2a554",
   "metadata": {},
   "outputs": [
    {
     "name": "stdout",
     "output_type": "stream",
     "text": [
      "Berapakah jumlah uang di dompet anda? Rp10000\n",
      "Berapakah jumlah uang anda di bank? Rp200000\n",
      "Total uang anda adalah Rp10000200000\n"
     ]
    }
   ],
   "source": [
    "#############################################\n",
    "###Ini adalah materi Tipe Data pada Python###\n",
    "di_dompet_44 =  input('Berapakah jumlah uang di dompet anda? Rp')\n",
    "di_bank_44 = input('Berapakah jumlah uang anda di bank? Rp')\n",
    "print('Total uang anda adalah Rp' + di_dompet_44 + di_bank_44)\n",
    "#############################################\n",
    "###Disini tipe data yang terbaca oleh sistem \n",
    "###adalah tipe data string, karena tipe data \n",
    "###belum diubah maka total uang tidak benar###"
   ]
  },
  {
   "cell_type": "code",
   "execution_count": 19,
   "id": "98b284d4",
   "metadata": {},
   "outputs": [
    {
     "name": "stdout",
     "output_type": "stream",
     "text": [
      "Berapakah jumlah uang di dompet anda? Rp10000\n",
      "Berapakah jumlah uang anda di bank? Rp200000\n",
      "Total uang anda adalah Rp210000\n"
     ]
    }
   ],
   "source": [
    "#############################################\n",
    "###Disini akan diubah tipe datanya###\n",
    "di_dompet_44 = input('Berapakah jumlah uang di dompet anda? Rp')\n",
    "di_bank_44 = input('Berapakah jumlah uang anda di bank? Rp')\n",
    "total_44 = int(di_dompet_44) + int(di_bank_44)\n",
    "print('Total uang anda adalah Rp' + str(total_44))\n",
    "#############################################\n",
    "###Tipe data sudah diubah menjadi integer,\n",
    "###sehingga total uang sudah benar###"
   ]
  },
  {
   "cell_type": "code",
   "execution_count": 20,
   "id": "fdd88b1c",
   "metadata": {},
   "outputs": [
    {
     "name": "stdout",
     "output_type": "stream",
     "text": [
      "Berapakah jumlah uang di dompet anda? Rp10000\n",
      "Berapakah jumlah uang anda di bank? Rp200000\n",
      "Total uang anda adalah Rp210000\n"
     ]
    }
   ],
   "source": [
    "#############################################\n",
    "###Saya mencoba mempersingkat kode agar lebih efisien####\n",
    "di_dompet_44 = int(input('Berapakah jumlah uang di dompet anda? Rp'))\n",
    "di_bank_44 = int(input('Berapakah jumlah uang anda di bank? Rp'))\n",
    "print('Total uang anda adalah Rp' + str(di_dompet_44 + di_bank_44))"
   ]
  },
  {
   "cell_type": "code",
   "execution_count": 21,
   "id": "843e8019",
   "metadata": {},
   "outputs": [
    {
     "data": {
      "text/plain": [
       "int"
      ]
     },
     "execution_count": 21,
     "metadata": {},
     "output_type": "execute_result"
    }
   ],
   "source": [
    "#############################################\n",
    "###Ini adalah materi mengenai cara melihat tipe data dari tiap variabel###\n",
    "type(di_dompet_44)"
   ]
  },
  {
   "cell_type": "code",
   "execution_count": 24,
   "id": "be5d1eaf",
   "metadata": {},
   "outputs": [
    {
     "data": {
      "text/plain": [
       "int"
      ]
     },
     "execution_count": 24,
     "metadata": {},
     "output_type": "execute_result"
    }
   ],
   "source": [
    "#############################################\n",
    "###Saya mencoba untuk melihat lebih dari 1 tipe data sekaligus###\n",
    "type(di_dompet_44)\n",
    "type(di_bank_44)\n",
    "type(total_44)\n",
    "#############################################\n",
    "###Yang muncul tetap 1 tipe data dari 1 variabel###"
   ]
  },
  {
   "cell_type": "code",
   "execution_count": 25,
   "id": "96393428",
   "metadata": {},
   "outputs": [
    {
     "data": {
      "text/plain": [
       "(int, int, int)"
      ]
     },
     "execution_count": 25,
     "metadata": {},
     "output_type": "execute_result"
    }
   ],
   "source": [
    "#############################################\n",
    "###Tipe data yang muncul sudah sesuai dengan yang dipanggil###\n",
    "type(di_dompet_44), type(di_bank_44), type(total_44)"
   ]
  },
  {
   "cell_type": "code",
   "execution_count": 26,
   "id": "b39b3f84",
   "metadata": {},
   "outputs": [
    {
     "name": "stdout",
     "output_type": "stream",
     "text": [
      "Masukkan bilangan yang pertama: 1\n",
      "Masukkan bilangan yang kedua: 3\n",
      "Jumlah kedua bilangan adalah 4.0\n"
     ]
    }
   ],
   "source": [
    "#############################################\n",
    "###Ini adalah materi penjumlahan dua bilangan\n",
    "###dengan menggunakan input dan print###\n",
    "bilangan_kesatu_44 = input('Masukkan bilangan yang pertama: ')\n",
    "bilangan_kedua_44 = input('Masukkan bilangan yang kedua: ')\n",
    "jumlah_44 = float(bilangan_kesatu_44) + float(bilangan_kedua_44)\n",
    "print('Jumlah kedua bilangan adalah ' + str(jumlah_44))"
   ]
  },
  {
   "cell_type": "code",
   "execution_count": 27,
   "id": "310a09b6",
   "metadata": {},
   "outputs": [
    {
     "data": {
      "text/plain": [
       "(str, str, float)"
      ]
     },
     "execution_count": 27,
     "metadata": {},
     "output_type": "execute_result"
    }
   ],
   "source": [
    "#############################################\n",
    "###Dapat diketahui jika variabel bilangan_kesatu_44\n",
    "###dan bilangan_kedua_44 bertipe data string, \n",
    "###hal itu dikarenakan kedua variabel tersebut \n",
    "###berisi inputan yang berupa kalimat###\n",
    "###Variabel jumlah bertipe data float sehingga \n",
    "###hasil penjumlahan berbentuk bilangan desimal###\n",
    "type(bilangan_kesatu_44), type(bilangan_kedua_44), type(jumlah_44)"
   ]
  },
  {
   "cell_type": "code",
   "execution_count": 28,
   "id": "ac17558f",
   "metadata": {},
   "outputs": [
    {
     "name": "stdout",
     "output_type": "stream",
     "text": [
      "Alifa adalah seorang mahasiswa di Universitas Udayana.\n"
     ]
    }
   ],
   "source": [
    "#############################################\n",
    "###Ini adalah materi Formatted String###\n",
    "nama_44 = 'Alifa'\n",
    "pekerjaan_44 = 'mahasiswa'\n",
    "institusi_44 = 'Universitas Udayana'\n",
    "print(nama_44 + ' adalah seorang ' + pekerjaan_44 + ' di ' + institusi_44 + '.')\n",
    "#############################################\n",
    "###Materi ini mempermudah penulisan sebuah \n",
    "###variabel untuk dipanggil di print###"
   ]
  },
  {
   "cell_type": "code",
   "execution_count": 31,
   "id": "7a5c1b8c",
   "metadata": {},
   "outputs": [
    {
     "name": "stdout",
     "output_type": "stream",
     "text": [
      "Alifa adalah seorang mahasiswa di Universitas Udayana.\n"
     ]
    }
   ],
   "source": [
    "#############################################\n",
    "###Untuk mempersingkat penggunaan formatted string pada print###\n",
    "print(f'{nama_44} adalah seorang {pekerjaan_44} di {institusi_44}.')\n",
    "#############################################\n",
    "###Disini sempat ada error dikarenakan kelebihan 1 tanda petik###"
   ]
  },
  {
   "cell_type": "code",
   "execution_count": 32,
   "id": "9b423a23",
   "metadata": {},
   "outputs": [
    {
     "name": "stdout",
     "output_type": "stream",
     "text": [
      "Alifa adalah seorang mahasiswa di Universitas Udayana.\n"
     ]
    }
   ],
   "source": [
    "#############################################\n",
    "###Penggunaan menggunakan petik dua###\n",
    "print(f\"{nama_44} adalah seorang {pekerjaan_44} di {institusi_44}.\")"
   ]
  },
  {
   "cell_type": "code",
   "execution_count": null,
   "id": "85397034",
   "metadata": {},
   "outputs": [],
   "source": []
  }
 ],
 "metadata": {
  "kernelspec": {
   "display_name": "Python 3 (ipykernel)",
   "language": "python",
   "name": "python3"
  },
  "language_info": {
   "codemirror_mode": {
    "name": "ipython",
    "version": 3
   },
   "file_extension": ".py",
   "mimetype": "text/x-python",
   "name": "python",
   "nbconvert_exporter": "python",
   "pygments_lexer": "ipython3",
   "version": "3.9.13"
  }
 },
 "nbformat": 4,
 "nbformat_minor": 5
}
