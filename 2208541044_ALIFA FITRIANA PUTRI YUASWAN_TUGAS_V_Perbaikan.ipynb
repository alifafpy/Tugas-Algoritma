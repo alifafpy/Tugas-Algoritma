{
 "cells": [
  {
   "cell_type": "markdown",
   "id": "72e2a69d",
   "metadata": {},
   "source": [
    "File ini merupakan perbaikan dari Tugas V yang sebelumnya belum terselesaikan. Terima kasih."
   ]
  },
  {
   "cell_type": "code",
   "execution_count": 3,
   "id": "1507be8a",
   "metadata": {},
   "outputs": [],
   "source": [
    "import numpy as np"
   ]
  },
  {
   "cell_type": "markdown",
   "id": "70a22b1c",
   "metadata": {},
   "source": [
    "## 5.20.5 Operasi Matematika pada Numpy"
   ]
  },
  {
   "cell_type": "markdown",
   "id": "19062e13",
   "metadata": {},
   "source": [
    "Kode di bawah ini digunakan untuk mengoperasikan matriks dengan bilangan secara langsung."
   ]
  },
  {
   "cell_type": "markdown",
   "id": "e09bca39",
   "metadata": {},
   "source": [
    "### Operaris Penjumlahan pada Numpy"
   ]
  },
  {
   "cell_type": "code",
   "execution_count": 4,
   "id": "04da5aae",
   "metadata": {},
   "outputs": [
    {
     "name": "stdout",
     "output_type": "stream",
     "text": [
      "[1 2 3 4 5]\n"
     ]
    }
   ],
   "source": [
    "##Mendeklarasikan numpy dengan array\n",
    "a_44 = np.array([1, 2, 3, 4, 5])\n",
    "print(a_44)"
   ]
  },
  {
   "cell_type": "code",
   "execution_count": 5,
   "id": "6322b07c",
   "metadata": {},
   "outputs": [
    {
     "data": {
      "text/plain": [
       "array([3, 4, 5, 6, 7])"
      ]
     },
     "execution_count": 5,
     "metadata": {},
     "output_type": "execute_result"
    }
   ],
   "source": [
    "##Melakukan penjumlahan numpy a_44 dengan 2, berarti semua data numpy a_44 dijumlahkan dengan 2\n",
    "a_44 + 2"
   ]
  },
  {
   "cell_type": "markdown",
   "id": "c3020229",
   "metadata": {},
   "source": [
    "### Operasi Pengurangan pada Numpy"
   ]
  },
  {
   "cell_type": "code",
   "execution_count": 6,
   "id": "96df0363",
   "metadata": {},
   "outputs": [
    {
     "data": {
      "text/plain": [
       "array([-1,  0,  1,  2,  3])"
      ]
     },
     "execution_count": 6,
     "metadata": {},
     "output_type": "execute_result"
    }
   ],
   "source": [
    "##Melakukan pengurangan numpy a_44 dengan 2, berarti semua data numpy a_44 akan dikurangi dengan 2\n",
    "a_44 - 2"
   ]
  },
  {
   "cell_type": "markdown",
   "id": "5dd309ee",
   "metadata": {},
   "source": [
    "### Operasi Perkalian pada Numpy"
   ]
  },
  {
   "cell_type": "code",
   "execution_count": 7,
   "id": "895fd972",
   "metadata": {},
   "outputs": [
    {
     "data": {
      "text/plain": [
       "array([ 2,  4,  6,  8, 10])"
      ]
     },
     "execution_count": 7,
     "metadata": {},
     "output_type": "execute_result"
    }
   ],
   "source": [
    "##Melakukan perkalian numpy a_44 dengan 2, berarti semua data numpy a_44 akan dikalikan dengan 2\n",
    "a_44 * 2"
   ]
  },
  {
   "cell_type": "markdown",
   "id": "58702bab",
   "metadata": {},
   "source": [
    "### Operasi Pembagian pada Numpy"
   ]
  },
  {
   "cell_type": "code",
   "execution_count": 8,
   "id": "991f080f",
   "metadata": {},
   "outputs": [
    {
     "data": {
      "text/plain": [
       "array([0.5, 1. , 1.5, 2. , 2.5])"
      ]
     },
     "execution_count": 8,
     "metadata": {},
     "output_type": "execute_result"
    }
   ],
   "source": [
    "##Melakukan pembagian numpy a_44 dengan 2, berarti semua data numpy a_44 akan dibagi dengan 2\n",
    "a_44/2"
   ]
  },
  {
   "cell_type": "markdown",
   "id": "88e0ea75",
   "metadata": {},
   "source": [
    "### Operasi Pemangkatan pada Numpy"
   ]
  },
  {
   "cell_type": "code",
   "execution_count": 9,
   "id": "88489bbf",
   "metadata": {},
   "outputs": [
    {
     "data": {
      "text/plain": [
       "array([ 1,  4,  9, 16, 25], dtype=int32)"
      ]
     },
     "execution_count": 9,
     "metadata": {},
     "output_type": "execute_result"
    }
   ],
   "source": [
    "##Melakukan pemangkatan numpy a_44 dengan pangkat 2, berarti semua data numpy a_44 akan dipangkatkan 2\n",
    "a_44**2"
   ]
  },
  {
   "cell_type": "markdown",
   "id": "d6e2c761",
   "metadata": {},
   "source": [
    "Pada operasi di atas, terdapat dtype=int32 pada outputnya, hal itu menunjukkan bahwa nilai yang dikeluarkan bertipe data int."
   ]
  },
  {
   "cell_type": "markdown",
   "id": "4d20861d",
   "metadata": {},
   "source": [
    "Operasi dibawah ini digunakan untuk mengoperasikan dua buah matriks."
   ]
  },
  {
   "cell_type": "code",
   "execution_count": 10,
   "id": "367561d5",
   "metadata": {},
   "outputs": [
    {
     "name": "stdout",
     "output_type": "stream",
     "text": [
      "[ 6  7  8  9 10]\n"
     ]
    }
   ],
   "source": [
    "##Mendeklarasikan numpy dalam bentuk matriks\n",
    "b_44 = np.array([6, 7, 8, 9, 10])\n",
    "print(b_44)"
   ]
  },
  {
   "cell_type": "code",
   "execution_count": 11,
   "id": "60224d6a",
   "metadata": {},
   "outputs": [
    {
     "data": {
      "text/plain": [
       "array([ 7,  9, 11, 13, 15])"
      ]
     },
     "execution_count": 11,
     "metadata": {},
     "output_type": "execute_result"
    }
   ],
   "source": [
    "##Operasi Penjumlahan, menjumlahkan numpy a_44 dengan b_44\n",
    "a_44 + b_44"
   ]
  },
  {
   "cell_type": "code",
   "execution_count": 12,
   "id": "19879e78",
   "metadata": {},
   "outputs": [
    {
     "data": {
      "text/plain": [
       "array([-5, -5, -5, -5, -5])"
      ]
     },
     "execution_count": 12,
     "metadata": {},
     "output_type": "execute_result"
    }
   ],
   "source": [
    "##Operasi Pengurangan, mengurangi numpy a_44 dengan b_44\n",
    "a_44 - b_44"
   ]
  },
  {
   "cell_type": "code",
   "execution_count": 13,
   "id": "08108d24",
   "metadata": {},
   "outputs": [
    {
     "data": {
      "text/plain": [
       "array([ 6, 14, 24, 36, 50])"
      ]
     },
     "execution_count": 13,
     "metadata": {},
     "output_type": "execute_result"
    }
   ],
   "source": [
    "##Operasi Perkalian, mengalikan numpy a_44 dengan b_44\n",
    "a_44 * b_44"
   ]
  },
  {
   "cell_type": "code",
   "execution_count": 14,
   "id": "2c39a1f0",
   "metadata": {},
   "outputs": [
    {
     "data": {
      "text/plain": [
       "array([0.16666667, 0.28571429, 0.375     , 0.44444444, 0.5       ])"
      ]
     },
     "execution_count": 14,
     "metadata": {},
     "output_type": "execute_result"
    }
   ],
   "source": [
    "##Operasi Pembagian, membagi numpy a_44 dengan b_44\n",
    "a_44 / b_44"
   ]
  },
  {
   "cell_type": "code",
   "execution_count": 18,
   "id": "e08efe56",
   "metadata": {},
   "outputs": [
    {
     "data": {
      "text/plain": [
       "array([     6,     49,    512,   6561, 100000], dtype=int32)"
      ]
     },
     "execution_count": 18,
     "metadata": {},
     "output_type": "execute_result"
    }
   ],
   "source": [
    "##Operasi Pemangkatan, numpy b_44 dipangkatkan dengan numpy  a_44\n",
    "b_44 ** a_44"
   ]
  },
  {
   "cell_type": "markdown",
   "id": "f9b552c5",
   "metadata": {},
   "source": [
    "### Operasi Trigonometri pada Numpy"
   ]
  },
  {
   "cell_type": "code",
   "execution_count": 19,
   "id": "d632f35a",
   "metadata": {},
   "outputs": [
    {
     "data": {
      "text/plain": [
       "array([ 0.54030231, -0.41614684, -0.9899925 , -0.65364362,  0.28366219])"
      ]
     },
     "execution_count": 19,
     "metadata": {},
     "output_type": "execute_result"
    }
   ],
   "source": [
    "##Untuk mencari nilai cos dari numpy a_44\n",
    "np.cos(a_44)"
   ]
  },
  {
   "cell_type": "code",
   "execution_count": 20,
   "id": "60131e64",
   "metadata": {},
   "outputs": [
    {
     "data": {
      "text/plain": [
       "array([ 0.84147098,  0.90929743,  0.14112001, -0.7568025 , -0.95892427])"
      ]
     },
     "execution_count": 20,
     "metadata": {},
     "output_type": "execute_result"
    }
   ],
   "source": [
    "#Untuk mencari nilai sin dari numpy a_44\n",
    "np.sin(a_44)"
   ]
  },
  {
   "cell_type": "code",
   "execution_count": 21,
   "id": "4f10864a",
   "metadata": {},
   "outputs": [
    {
     "data": {
      "text/plain": [
       "array([ 1.55740772, -2.18503986, -0.14254654,  1.15782128, -3.38051501])"
      ]
     },
     "execution_count": 21,
     "metadata": {},
     "output_type": "execute_result"
    }
   ],
   "source": [
    "#Untuk mencari nilai tangen dari numpy a_44\n",
    "np.tan(a_44)"
   ]
  },
  {
   "cell_type": "code",
   "execution_count": 22,
   "id": "6e48d99d",
   "metadata": {},
   "outputs": [
    {
     "data": {
      "text/plain": [
       "array([ 1.17520119,  3.62686041, 10.01787493, 27.2899172 , 74.20321058])"
      ]
     },
     "execution_count": 22,
     "metadata": {},
     "output_type": "execute_result"
    }
   ],
   "source": [
    "##Fungsi ini untuk mengembalikan nilai sin hiperbolik dari nilainya\n",
    "np.sinh(a_44)"
   ]
  },
  {
   "cell_type": "code",
   "execution_count": 23,
   "id": "52564fa5",
   "metadata": {},
   "outputs": [
    {
     "data": {
      "text/plain": [
       "array([ 1.54308063,  3.76219569, 10.067662  , 27.30823284, 74.20994852])"
      ]
     },
     "execution_count": 23,
     "metadata": {},
     "output_type": "execute_result"
    }
   ],
   "source": [
    "##Fungsi ini untuk mengembalikan nilai cos hiperbolik dari nilainya\n",
    "np.cosh(a_44)"
   ]
  },
  {
   "cell_type": "code",
   "execution_count": 24,
   "id": "fc5a8874",
   "metadata": {},
   "outputs": [
    {
     "data": {
      "text/plain": [
       "array([0.76159416, 0.96402758, 0.99505475, 0.9993293 , 0.9999092 ])"
      ]
     },
     "execution_count": 24,
     "metadata": {},
     "output_type": "execute_result"
    }
   ],
   "source": [
    "##Fungsi ini untuk mengembalikan nilai tan hiperbolik dari nilainya\n",
    "np.tanh(a_44)"
   ]
  },
  {
   "cell_type": "code",
   "execution_count": 25,
   "id": "dc71990c",
   "metadata": {},
   "outputs": [
    {
     "data": {
      "text/plain": [
       "array([1.        , 1.41421356, 1.73205081, 2.        , 2.23606798])"
      ]
     },
     "execution_count": 25,
     "metadata": {},
     "output_type": "execute_result"
    }
   ],
   "source": [
    "##Digunakan untuk menentukan akar kuadrat berdasarkan elemen\n",
    "np.sqrt(a_44)"
   ]
  },
  {
   "cell_type": "markdown",
   "id": "1cd24b0c",
   "metadata": {},
   "source": [
    "## 5.20.6 Perkalian Matriks pada Numpy"
   ]
  },
  {
   "cell_type": "markdown",
   "id": "21ea35b7",
   "metadata": {},
   "source": [
    "Perkalian dua buah matriks pada numpy dengan mengoperasikan baris dan kolomnya."
   ]
  },
  {
   "cell_type": "code",
   "execution_count": 26,
   "id": "ea7307e3",
   "metadata": {},
   "outputs": [
    {
     "name": "stdout",
     "output_type": "stream",
     "text": [
      "[[1 2 3 4]\n",
      " [5 6 7 8]]\n"
     ]
    }
   ],
   "source": [
    "##Mendeklarasikan matriks a_44\n",
    "a_44 = np.array([[1, 2, 3, 4], [5, 6, 7, 8]])\n",
    "print(a_44)"
   ]
  },
  {
   "cell_type": "code",
   "execution_count": 27,
   "id": "7073e81e",
   "metadata": {},
   "outputs": [
    {
     "name": "stdout",
     "output_type": "stream",
     "text": [
      "[[ 9 10 11 12]\n",
      " [13 14 15 16]]\n"
     ]
    }
   ],
   "source": [
    "##Mendeklarasikan matriks b_44\n",
    "b_44 = np.array([[9,10,11,12], [13, 14, 15,16]])\n",
    "print(b_44)"
   ]
  },
  {
   "cell_type": "code",
   "execution_count": 28,
   "id": "e63291cb",
   "metadata": {},
   "outputs": [
    {
     "name": "stdout",
     "output_type": "stream",
     "text": [
      "[[  9  20  33  48]\n",
      " [ 65  84 105 128]]\n"
     ]
    }
   ],
   "source": [
    "##Perkalian matriks a_44 dengan b_44 (mengalikan antar isi matriksnya) yang hasilnya disimpan dalam variabel c_44\n",
    "c_44 = a_44 * b_44\n",
    "print(c_44)"
   ]
  },
  {
   "cell_type": "code",
   "execution_count": 29,
   "id": "4c294732",
   "metadata": {},
   "outputs": [
    {
     "ename": "ValueError",
     "evalue": "matmul: Input operand 1 has a mismatch in its core dimension 0, with gufunc signature (n?,k),(k,m?)->(n?,m?) (size 2 is different from 4)",
     "output_type": "error",
     "traceback": [
      "\u001b[1;31m---------------------------------------------------------------------------\u001b[0m",
      "\u001b[1;31mValueError\u001b[0m                                Traceback (most recent call last)",
      "\u001b[1;32m~\\AppData\\Local\\Temp\\ipykernel_34944\\4141281962.py\u001b[0m in \u001b[0;36m<module>\u001b[1;34m\u001b[0m\n\u001b[0;32m      1\u001b[0m \u001b[1;31m##Fungsi Matmul digunakan untuk perkalian dua matriks\u001b[0m\u001b[1;33m\u001b[0m\u001b[1;33m\u001b[0m\u001b[0m\n\u001b[1;32m----> 2\u001b[1;33m \u001b[0md_44\u001b[0m \u001b[1;33m=\u001b[0m \u001b[0mnp\u001b[0m\u001b[1;33m.\u001b[0m\u001b[0mmatmul\u001b[0m\u001b[1;33m(\u001b[0m\u001b[0ma_44\u001b[0m\u001b[1;33m,\u001b[0m\u001b[0mb_44\u001b[0m\u001b[1;33m)\u001b[0m\u001b[1;33m\u001b[0m\u001b[1;33m\u001b[0m\u001b[0m\n\u001b[0m\u001b[0;32m      3\u001b[0m \u001b[0mprint\u001b[0m\u001b[1;33m(\u001b[0m\u001b[0md_44\u001b[0m\u001b[1;33m)\u001b[0m\u001b[1;33m\u001b[0m\u001b[1;33m\u001b[0m\u001b[0m\n",
      "\u001b[1;31mValueError\u001b[0m: matmul: Input operand 1 has a mismatch in its core dimension 0, with gufunc signature (n?,k),(k,m?)->(n?,m?) (size 2 is different from 4)"
     ]
    }
   ],
   "source": [
    "##Fungsi Matmul digunakan untuk perkalian dua matriks\n",
    "d_44 = np.matmul(a_44,b_44)\n",
    "print(d_44)"
   ]
  },
  {
   "cell_type": "markdown",
   "id": "4e3572c4",
   "metadata": {},
   "source": [
    "Kode di atas error karena matmul sendiri merupakan fungsi yang digunakan untuk perkalian dalam matriks. matriks a_44 dan matriks b_44 tidak bisa dikalikan karena jumlah baris yang akan dikalikan pada kolom tidak sesuai, sehingga program error."
   ]
  },
  {
   "cell_type": "code",
   "execution_count": 30,
   "id": "5cf0572b",
   "metadata": {},
   "outputs": [
    {
     "name": "stdout",
     "output_type": "stream",
     "text": [
      "[[ 9 10]\n",
      " [11 12]\n",
      " [13 14]\n",
      " [15 16]]\n"
     ]
    }
   ],
   "source": [
    "##Mendeklarasikan matriks e_44\n",
    "e_44 = np.array([[9,10], [11,12], [13,14], [15,16]])\n",
    "print(e_44)"
   ]
  },
  {
   "cell_type": "code",
   "execution_count": 31,
   "id": "63e8ef43",
   "metadata": {},
   "outputs": [
    {
     "name": "stdout",
     "output_type": "stream",
     "text": [
      "[[130 140]\n",
      " [322 348]]\n"
     ]
    }
   ],
   "source": [
    "##Perkalian dua matriks menggunakan fungsi matmul\n",
    "f_44 = np.matmul(a_44,e_44)\n",
    "print(f_44)"
   ]
  },
  {
   "cell_type": "code",
   "execution_count": 32,
   "id": "092c523f",
   "metadata": {},
   "outputs": [
    {
     "ename": "ValueError",
     "evalue": "operands could not be broadcast together with shapes (2,4) (4,2) ",
     "output_type": "error",
     "traceback": [
      "\u001b[1;31m---------------------------------------------------------------------------\u001b[0m",
      "\u001b[1;31mValueError\u001b[0m                                Traceback (most recent call last)",
      "\u001b[1;32m~\\AppData\\Local\\Temp\\ipykernel_34944\\3713275536.py\u001b[0m in \u001b[0;36m<module>\u001b[1;34m\u001b[0m\n\u001b[0;32m      1\u001b[0m \u001b[1;31m##Mengalikan isi 2 matriks\u001b[0m\u001b[1;33m\u001b[0m\u001b[1;33m\u001b[0m\u001b[0m\n\u001b[1;32m----> 2\u001b[1;33m \u001b[0mg_44\u001b[0m \u001b[1;33m=\u001b[0m \u001b[0ma_44\u001b[0m \u001b[1;33m*\u001b[0m \u001b[0me_44\u001b[0m\u001b[1;33m\u001b[0m\u001b[1;33m\u001b[0m\u001b[0m\n\u001b[0m\u001b[0;32m      3\u001b[0m \u001b[0mprint\u001b[0m\u001b[1;33m(\u001b[0m\u001b[0mg_44\u001b[0m\u001b[1;33m)\u001b[0m\u001b[1;33m\u001b[0m\u001b[1;33m\u001b[0m\u001b[0m\n",
      "\u001b[1;31mValueError\u001b[0m: operands could not be broadcast together with shapes (2,4) (4,2) "
     ]
    }
   ],
   "source": [
    "##Mengalikan isi 2 matriks\n",
    "g_44 = a_44 * e_44\n",
    "print(g_44)"
   ]
  },
  {
   "cell_type": "markdown",
   "id": "4b8d580d",
   "metadata": {},
   "source": [
    "Kode di atas error karena ukuran matriks a_44 dan matriks e_44 tidak sama, sehingga tidak dapat mengalikan isi matriksnya."
   ]
  },
  {
   "cell_type": "markdown",
   "id": "b4ace243",
   "metadata": {},
   "source": [
    "## 5.20.7 Min, Max, dan Sum pada Numpy"
   ]
  },
  {
   "cell_type": "markdown",
   "id": "dfed6283",
   "metadata": {},
   "source": [
    "Untuk mengetahui nilai terkecil, terbesar, dan penjumlahan dalam numpy dapat menggunakan perintah min, max, dan sum."
   ]
  },
  {
   "cell_type": "code",
   "execution_count": 33,
   "id": "2f1bcd90",
   "metadata": {},
   "outputs": [
    {
     "name": "stdout",
     "output_type": "stream",
     "text": [
      "[[ 1  2  3  4]\n",
      " [ 5  6  7  8]\n",
      " [ 9 10 11 12]]\n"
     ]
    }
   ],
   "source": [
    "##Mendeklarasikan variabel numpy dalam bentuk matriks\n",
    "a_44 = np.array([[1, 2, 3, 4],\n",
    "             [5, 6, 7, 8],\n",
    "             [9, 10, 11, 12]])\n",
    "print(a_44)"
   ]
  },
  {
   "cell_type": "markdown",
   "id": "e6b3a048",
   "metadata": {},
   "source": [
    "### Perintah Min dalam Numpy"
   ]
  },
  {
   "cell_type": "markdown",
   "id": "93dc16f0",
   "metadata": {},
   "source": [
    "Min digunakan untuk mengetahui nilai terkecil dari suatu data yang dipanggil."
   ]
  },
  {
   "cell_type": "code",
   "execution_count": 34,
   "id": "1cec5d01",
   "metadata": {},
   "outputs": [
    {
     "name": "stdout",
     "output_type": "stream",
     "text": [
      "1\n"
     ]
    }
   ],
   "source": [
    "##Menampilkan nilai min di a_44 yang ditampung dalam variabel b_44\n",
    "b_44 = np.min(a_44)\n",
    "print(b_44)"
   ]
  },
  {
   "cell_type": "code",
   "execution_count": 35,
   "id": "d4faf1b3",
   "metadata": {},
   "outputs": [
    {
     "name": "stdout",
     "output_type": "stream",
     "text": [
      "[1 2 3 4]\n"
     ]
    }
   ],
   "source": [
    "##Menampilkan nilai min di baris a_44 yang ditampung dalam variabel c_44\n",
    "c_44 = np.min(a_44, axis = 0)\n",
    "print(c_44)"
   ]
  },
  {
   "cell_type": "code",
   "execution_count": 36,
   "id": "e74ca802",
   "metadata": {},
   "outputs": [
    {
     "name": "stdout",
     "output_type": "stream",
     "text": [
      "[1 5 9]\n"
     ]
    }
   ],
   "source": [
    "##Menampilkan nilai min di kolom a_44 yang ditampung dalam variabel d_44\n",
    "d_44 = np.min(a_44, axis = 1)\n",
    "print(d_44)"
   ]
  },
  {
   "cell_type": "markdown",
   "id": "31eeb539",
   "metadata": {},
   "source": [
    "### Perintah Max dalam Numpy"
   ]
  },
  {
   "cell_type": "markdown",
   "id": "47a8bc6e",
   "metadata": {},
   "source": [
    "Max digunakan untuk mengetahui nilai terkecil dari suatu data yang dipanggil."
   ]
  },
  {
   "cell_type": "code",
   "execution_count": 37,
   "id": "91e97c5a",
   "metadata": {},
   "outputs": [
    {
     "name": "stdout",
     "output_type": "stream",
     "text": [
      "12\n"
     ]
    }
   ],
   "source": [
    "##Menampilkan nilai max di a_44 yang ditampung dalam variabel e_44\n",
    "e_44 = np.max(a_44)\n",
    "print(e_44)"
   ]
  },
  {
   "cell_type": "code",
   "execution_count": 38,
   "id": "0cd101aa",
   "metadata": {},
   "outputs": [
    {
     "name": "stdout",
     "output_type": "stream",
     "text": [
      "[ 9 10 11 12]\n"
     ]
    }
   ],
   "source": [
    "##Menampilkan nilai max di baris a_44 yang ditampung dalam variabel f_44\n",
    "f_44 = np.max(a_44, axis = 0)\n",
    "print(f_44)"
   ]
  },
  {
   "cell_type": "code",
   "execution_count": 39,
   "id": "84abaab1",
   "metadata": {},
   "outputs": [
    {
     "name": "stdout",
     "output_type": "stream",
     "text": [
      "[ 4  8 12]\n"
     ]
    }
   ],
   "source": [
    "##Menampilkan nilai max di kolom a_44 yang ditampung dalam variabel g_44\n",
    "g_44 = np.max(a_44, axis = 1)\n",
    "print(g_44)"
   ]
  },
  {
   "cell_type": "markdown",
   "id": "487f1751",
   "metadata": {},
   "source": [
    "### Perintah Sum dalam Numpy"
   ]
  },
  {
   "cell_type": "markdown",
   "id": "5dbb2c8a",
   "metadata": {},
   "source": [
    "Sum digunakan untuk menjumlahkan nilai"
   ]
  },
  {
   "cell_type": "code",
   "execution_count": 40,
   "id": "d5680a1c",
   "metadata": {},
   "outputs": [
    {
     "name": "stdout",
     "output_type": "stream",
     "text": [
      "78\n"
     ]
    }
   ],
   "source": [
    "##Menampilkan hasil penjumlahan matriks a_44 yang disimpan dalam variabel h_44\n",
    "h_44 = np.sum(a_44)\n",
    "print(h_44)"
   ]
  },
  {
   "cell_type": "code",
   "execution_count": 41,
   "id": "5f66b878",
   "metadata": {},
   "outputs": [
    {
     "name": "stdout",
     "output_type": "stream",
     "text": [
      "[15 18 21 24]\n"
     ]
    }
   ],
   "source": [
    "##Menampilkan hasil penjumlahan dari baris matriks a_44 yang disimpan dalam variabel h_44\n",
    "h_44 = np.sum(a_44, axis = 0)\n",
    "print(h_44)"
   ]
  },
  {
   "cell_type": "code",
   "execution_count": 42,
   "id": "c6ee651e",
   "metadata": {},
   "outputs": [
    {
     "name": "stdout",
     "output_type": "stream",
     "text": [
      "[10 26 42]\n"
     ]
    }
   ],
   "source": [
    "##Menampilkan hasil penjumlahan dari kolom matriks a_44 yang disimpan dalam variabel i_44\n",
    "i_44 = np.sum(a_44, axis = 1)\n",
    "print(i_44)"
   ]
  },
  {
   "cell_type": "markdown",
   "id": "72452f6c",
   "metadata": {},
   "source": [
    "Berdasarkan beberapa kode di atas, dapat disimpulkan jika axis = 0 berarti baris, dan axis = 1 berarti kolom. "
   ]
  },
  {
   "cell_type": "markdown",
   "id": "4dd7a93f",
   "metadata": {},
   "source": []
  }
 ],
 "metadata": {
  "kernelspec": {
   "display_name": "Python 3 (ipykernel)",
   "language": "python",
   "name": "python3"
  },
  "language_info": {
   "codemirror_mode": {
    "name": "ipython",
    "version": 3
   },
   "file_extension": ".py",
   "mimetype": "text/x-python",
   "name": "python",
   "nbconvert_exporter": "python",
   "pygments_lexer": "ipython3",
   "version": "3.9.13"
  }
 },
 "nbformat": 4,
 "nbformat_minor": 5
}
